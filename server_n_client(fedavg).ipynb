{
 "cells": [
  {
   "cell_type": "code",
   "execution_count": 1,
   "id": "54266021",
   "metadata": {},
   "outputs": [
    {
     "name": "stdout",
     "output_type": "stream",
     "text": [
      "Which gpu number you would like to allocate:0\n"
     ]
    }
   ],
   "source": [
    "import os\n",
    "gpu=int(input(\"Which gpu number you would like to allocate:\"))\n",
    "os.environ[\"CUDA_VISIBLE_DEVICES\"]=str(gpu)\n",
    "\n"
   ]
  },
  {
   "cell_type": "code",
   "execution_count": 2,
   "id": "0f659239",
   "metadata": {},
   "outputs": [],
   "source": [
    "import numpy as np\n",
    "import random\n",
    "import os\n",
    "from sklearn.model_selection import train_test_split\n",
    "from sklearn.preprocessing import LabelBinarizer \n",
    "from sklearn.model_selection import train_test_split\n",
    "from sklearn.utils import shuffle\n",
    "from sklearn.metrics import accuracy_score\n",
    "from tqdm import tqdm\n",
    "import time\n",
    "\n",
    "import tensorflow as tf\n",
    "from tensorflow.keras.models import Sequential\n",
    "from tensorflow.keras.layers import Conv2D\n",
    "from tensorflow.keras.layers import MaxPooling2D\n",
    "from tensorflow.keras.layers import Activation\n",
    "from tensorflow.keras.layers import Flatten\n",
    "from tensorflow.keras.layers import Dense\n",
    "from tensorflow.keras.optimizers import SGD\n",
    "from tensorflow.keras import backend as K\n",
    "# !pip install fl_implementation_utils\n",
    "\n",
    "# from fl_implementation_utils import *"
   ]
  },
  {
   "cell_type": "code",
   "execution_count": 73,
   "id": "8457cd5f",
   "metadata": {},
   "outputs": [],
   "source": [
    "# def create_clients(data_list, label_list, num_clients=3, initial='clients'):\n",
    "#     ''' return: a dictionary with keys clients' names and value as \n",
    "#                 data shards - tuple of datas and label lists.\n",
    "#         args: \n",
    "#             data_list: a list of numpy arrays of training data\n",
    "#             label_list:a list of binarized labels for each data\n",
    "#             num_client: number of fedrated members (clients)\n",
    "#             initials: the clients'name prefix, e.g, clients_1 \n",
    "            \n",
    "#     '''\n",
    "\n",
    "#     #create a list of client names\n",
    "#     client_names = ['{}_{}'.format(initial, i+1) for i in range(num_clients)]\n",
    "\n",
    "#     #randomize the data\n",
    "#     data = list(zip(data_list, label_list))\n",
    "#     random.shuffle(data)\n",
    "\n",
    "#     #shard data and place at each client\n",
    "#     size = len(data)//num_clients\n",
    "#     shards = [data[i:i + size] for i in range(0, size*num_clients, size)]\n",
    "\n",
    "#     #number of clients must equal number of shards\n",
    "#     assert(len(shards) == len(client_names))\n",
    "\n",
    "#     return {client_names[i] : shards[i] for i in range(len(client_names))}\n",
    "\n",
    "def create_clients(data_dict):\n",
    "    '''\n",
    "    Return a dictionary with keys as client names and values as data and label lists.\n",
    "    \n",
    "    Args:\n",
    "        data_dict: A dictionary where keys are client names, and values are tuples of data and labels.\n",
    "                    For example, {'client_1': (data_1, labels_1), 'client_2': (data_2, labels_2), ...}\n",
    "    \n",
    "    Returns:\n",
    "        A dictionary with keys as client names and values as tuples of data and label lists.\n",
    "    '''\n",
    "    return data_dict\n"
   ]
  },
  {
   "cell_type": "code",
   "execution_count": null,
   "id": "3458cb7c",
   "metadata": {},
   "outputs": [],
   "source": []
  },
  {
   "cell_type": "code",
   "execution_count": 74,
   "id": "fd468b3d",
   "metadata": {},
   "outputs": [],
   "source": [
    "# def batch_data(data_shard, bs=32):\n",
    "#     '''Takes in a clients data shard and create a tfds object off it\n",
    "#     args:\n",
    "#         shard: a data, label constituting a client's data shard\n",
    "#         bs:batch size\n",
    "#     return:\n",
    "#         tfds object'''\n",
    "#     #seperate shard into data and labels lists\n",
    "#     data, label = zip(*data_shard)\n",
    "#     dataset = tf.data.Dataset.from_tensor_slices((list(data), list(label)))\n",
    "#     return dataset.shuffle(len(label)).batch(bs)\n",
    "\n"
   ]
  },
  {
   "cell_type": "code",
   "execution_count": null,
   "id": "f55f54d4",
   "metadata": {},
   "outputs": [],
   "source": []
  },
  {
   "cell_type": "code",
   "execution_count": 75,
   "id": "ffcde7fc",
   "metadata": {},
   "outputs": [],
   "source": [
    "# class SimpleMLP:\n",
    "#     @staticmethod\n",
    "#     def build():\n",
    "#         base_model = tf.keras.applications.ResNet101V2(include_top=False, weights=None, input_shape=(128, 128, 3))\n",
    "# # Freeze the base model's layers\n",
    "#         base_model.trainable = True\n",
    "\n",
    "# # Create the transfer learning model by adding custom classification layers on top of the base model\n",
    "#         model2 = tf.keras.models.Sequential([\n",
    "#     base_model,\n",
    "#     tf.keras.layers.GlobalAveragePooling2D(),\n",
    "            \n",
    "#     tf.keras.layers.Dense(512,activation='relu'),\n",
    "            \n",
    "# #     tf.keras.layers.Dense(128,activation='relu'),        \n",
    "#     tf.keras.layers.Dense(5, activation='softmax')  # Adjust the number of output classes accordingly\n",
    "# ])\n",
    "\n",
    "# # Compile the model\n",
    "#         model2.compile(optimizer='adam', loss='categorical_crossentropy', metrics=['accuracy'])\n",
    "    \n",
    "#         return model2"
   ]
  },
  {
   "cell_type": "code",
   "execution_count": 76,
   "id": "6f1a93f9",
   "metadata": {},
   "outputs": [],
   "source": [
    "\n",
    "def test_model(X_test, Y_test,  model, comm_round):\n",
    "#     cce = tf.keras.losses.CategoricalCrossentropy(from_logits=True)\n",
    "    #logits = model.predict(X_test, batch_size=100)\n",
    "#     logits = model.predict(X_test)\n",
    "    #print(logits)\n",
    "    loss,accuracy=model.evaluate(X_test,Y_test)\n",
    "#     loss = cce(Y_test, logits)\n",
    "#     acc = accuracy_score( tf.argmax(Y_test, axis=1),tf.argmax(logits, axis=1))\n",
    "    print('comm_round: {} | global_acc: {:.3%} | global_loss: {}'.format(comm_round, accuracy, loss))\n",
    "    return accuracy, loss"
   ]
  },
  {
   "cell_type": "code",
   "execution_count": null,
   "id": "779dcc01",
   "metadata": {},
   "outputs": [],
   "source": []
  },
  {
   "cell_type": "code",
   "execution_count": 77,
   "id": "efce2194",
   "metadata": {},
   "outputs": [],
   "source": [
    "# def weight_scalling_factor(clients_trn_data, client_name):\n",
    "#     client_names = list(clients_trn_data.keys())\n",
    "#     #get the bs\n",
    "#     bs = list(clients_trn_data[client_name])[0][0].shape[0]\n",
    "#     #first calculate the total training data points across clinets\n",
    "#     global_count = sum([tf.data.experimental.cardinality(clients_trn_data[client_name]).numpy() for client_name in client_names])*bs\n",
    "#     # get the total number of data points held by a client\n",
    "#     local_count = tf.data.experimental.cardinality(clients_trn_data[client_name]).numpy()*bs\n",
    "#     return local_count/global_count\n",
    "\n",
    "\n",
    "# def scale_model_weights(weight, scalar):\n",
    "#     '''function for scaling a models weights'''\n",
    "#     weight_final = []\n",
    "#     steps = len(weight)\n",
    "#     for i in range(steps):\n",
    "#         weight_final.append(scalar * weight[i])\n",
    "#     return weight_final\n",
    "\n",
    "import tensorflow as tf\n",
    "\n",
    "def avg_weights(scaled_weight_list):\n",
    "    '''Return the average of the listed scaled weights.'''\n",
    "    num_clients = len(scaled_weight_list)\n",
    "    \n",
    "    if num_clients == 0:\n",
    "        return None  # Handle the case where the list is empty\n",
    "        \n",
    "    avg_grad = list()\n",
    "    \n",
    "    # Get the sum of gradients across all client gradients\n",
    "    for grad_list_tuple in zip(*scaled_weight_list):\n",
    "        layer_mean = tf.math.reduce_sum(grad_list_tuple, axis=0) / num_clients\n",
    "        avg_grad.append(layer_mean)\n",
    "        \n",
    "    return avg_grad\n"
   ]
  },
  {
   "cell_type": "code",
   "execution_count": 78,
   "id": "880af04c",
   "metadata": {},
   "outputs": [
    {
     "name": "stdout",
     "output_type": "stream",
     "text": [
      "import sucessfull\n"
     ]
    }
   ],
   "source": [
    "import numpy as np\n",
    "train1=np.load(\"train1u.npy\")\n",
    "label1=np.load(\"label1u.npy\")\n",
    "train2=np.load(\"train2u.npy\")\n",
    "label2=np.load(\"label2u.npy\")\n",
    "train3=np.load(\"train3u.npy\")\n",
    "label3=np.load(\"label3u.npy\")\n",
    "print(\"import sucessfull\")"
   ]
  },
  {
   "cell_type": "code",
   "execution_count": 22,
   "id": "1d0fa2a7",
   "metadata": {},
   "outputs": [
    {
     "name": "stdout",
     "output_type": "stream",
     "text": [
      "import sucessfull\n"
     ]
    }
   ],
   "source": [
    "test1=np.load(\"test1.npy\")\n",
    "one_hot_labels1=np.load(\"one_hot_labels1.npy\")\n",
    "test2=np.load(\"test2.npy\")\n",
    "one_hot_labels2=np.load(\"one_hot_labels2.npy\")\n",
    "test3=np.load(\"test3.npy\")\n",
    "one_hot_labels3=np.load(\"one_hot_labels3.npy\")\n",
    "print(\"import sucessfull\")"
   ]
  },
  {
   "cell_type": "code",
   "execution_count": 79,
   "id": "72da19db",
   "metadata": {},
   "outputs": [],
   "source": [
    "test=np.load(\"test.npy\")\n",
    "one_hot_labels=np.load(\"one_hot_labels.npy\")"
   ]
  },
  {
   "cell_type": "code",
   "execution_count": 80,
   "id": "9309f213",
   "metadata": {},
   "outputs": [],
   "source": [
    "test=test/255"
   ]
  },
  {
   "cell_type": "code",
   "execution_count": 45,
   "id": "c275103e",
   "metadata": {},
   "outputs": [],
   "source": [
    "#process and batch the test set  \n",
    "# test_batched = tf.data.Dataset.from_tensor_slices((test, one_hot_labels)).batch(len(one_hot_labels))\n",
    "# one_hot_labels.shape"
   ]
  },
  {
   "cell_type": "code",
   "execution_count": 13,
   "id": "2c0a63a3",
   "metadata": {},
   "outputs": [],
   "source": [
    "# print(train1.shape)\n",
    "# print(label1.shape)\n",
    "# print(train2.shape)\n",
    "# print(label2.shape)\n",
    "# print(train3.shape)\n",
    "# print(label3.shape)\n"
   ]
  },
  {
   "cell_type": "code",
   "execution_count": 81,
   "id": "a9037cb7",
   "metadata": {},
   "outputs": [],
   "source": [
    "client_data = {\n",
    "    'client_1': (train1, label1),\n",
    "    'client_2': (train2, label2),\n",
    "    'client_3': (train3, label3)\n",
    "}\n",
    "#create clients\n",
    "clients_batched = create_clients(client_data)"
   ]
  },
  {
   "cell_type": "code",
   "execution_count": 17,
   "id": "96163852",
   "metadata": {},
   "outputs": [],
   "source": [
    "# clients_batched['client_1']"
   ]
  },
  {
   "cell_type": "code",
   "execution_count": 82,
   "id": "ae79a0db",
   "metadata": {},
   "outputs": [],
   "source": [
    "#initialize global model\n",
    "#print(data_list.shape,labels)\n",
    "# smlp_global = SimpleMLP()\n",
    "# global_model = smlp_global.build()\n",
    "        "
   ]
  },
  {
   "cell_type": "code",
   "execution_count": 83,
   "id": "8435a126",
   "metadata": {},
   "outputs": [
    {
     "name": "stdout",
     "output_type": "stream",
     "text": [
      "Model: \"Inception_v4\"\n",
      "__________________________________________________________________________________________________\n",
      " Layer (type)                   Output Shape         Param #     Connected to                     \n",
      "==================================================================================================\n",
      " input_1 (InputLayer)           [(None, 128, 128, 3  0           []                               \n",
      "                                )]                                                                \n",
      "                                                                                                  \n",
      " conv2d (Conv2D)                (None, 63, 63, 32)   896         ['input_1[0][0]']                \n",
      "                                                                                                  \n",
      " batch_normalization (BatchNorm  (None, 63, 63, 32)  128         ['conv2d[0][0]']                 \n",
      " alization)                                                                                       \n",
      "                                                                                                  \n",
      " activation (Activation)        (None, 63, 63, 32)   0           ['batch_normalization[0][0]']    \n",
      "                                                                                                  \n",
      " conv2d_1 (Conv2D)              (None, 61, 61, 32)   9248        ['activation[0][0]']             \n",
      "                                                                                                  \n",
      " batch_normalization_1 (BatchNo  (None, 61, 61, 32)  128         ['conv2d_1[0][0]']               \n",
      " rmalization)                                                                                     \n",
      "                                                                                                  \n",
      " activation_1 (Activation)      (None, 61, 61, 32)   0           ['batch_normalization_1[0][0]']  \n",
      "                                                                                                  \n",
      " conv2d_2 (Conv2D)              (None, 61, 61, 64)   18496       ['activation_1[0][0]']           \n",
      "                                                                                                  \n",
      " batch_normalization_2 (BatchNo  (None, 61, 61, 64)  256         ['conv2d_2[0][0]']               \n",
      " rmalization)                                                                                     \n",
      "                                                                                                  \n",
      " activation_2 (Activation)      (None, 61, 61, 64)   0           ['batch_normalization_2[0][0]']  \n",
      "                                                                                                  \n",
      " conv2d_3 (Conv2D)              (None, 30, 30, 96)   55392       ['activation_2[0][0]']           \n",
      "                                                                                                  \n",
      " batch_normalization_3 (BatchNo  (None, 30, 30, 96)  384         ['conv2d_3[0][0]']               \n",
      " rmalization)                                                                                     \n",
      "                                                                                                  \n",
      " activation_3 (Activation)      (None, 30, 30, 96)   0           ['batch_normalization_3[0][0]']  \n",
      "                                                                                                  \n",
      " max_pooling2d (MaxPooling2D)   (None, 30, 30, 64)   0           ['activation_2[0][0]']           \n",
      "                                                                                                  \n",
      " concatenate (Concatenate)      (None, 30, 30, 160)  0           ['activation_3[0][0]',           \n",
      "                                                                  'max_pooling2d[0][0]']          \n",
      "                                                                                                  \n",
      " conv2d_6 (Conv2D)              (None, 30, 30, 64)   10304       ['concatenate[0][0]']            \n",
      "                                                                                                  \n",
      " batch_normalization_6 (BatchNo  (None, 30, 30, 64)  256         ['conv2d_6[0][0]']               \n",
      " rmalization)                                                                                     \n",
      "                                                                                                  \n",
      " activation_6 (Activation)      (None, 30, 30, 64)   0           ['batch_normalization_6[0][0]']  \n",
      "                                                                                                  \n",
      " conv2d_4 (Conv2D)              (None, 30, 30, 64)   10304       ['concatenate[0][0]']            \n",
      "                                                                                                  \n",
      " conv2d_7 (Conv2D)              (None, 30, 30, 64)   200768      ['activation_6[0][0]']           \n",
      "                                                                                                  \n",
      " batch_normalization_4 (BatchNo  (None, 30, 30, 64)  256         ['conv2d_4[0][0]']               \n",
      " rmalization)                                                                                     \n",
      "                                                                                                  \n",
      " batch_normalization_7 (BatchNo  (None, 30, 30, 64)  256         ['conv2d_7[0][0]']               \n",
      " rmalization)                                                                                     \n",
      "                                                                                                  \n",
      " activation_4 (Activation)      (None, 30, 30, 64)   0           ['batch_normalization_4[0][0]']  \n",
      "                                                                                                  \n",
      " activation_7 (Activation)      (None, 30, 30, 64)   0           ['batch_normalization_7[0][0]']  \n",
      "                                                                                                  \n",
      " conv2d_5 (Conv2D)              (None, 28, 28, 96)   55392       ['activation_4[0][0]']           \n",
      "                                                                                                  \n",
      " conv2d_8 (Conv2D)              (None, 28, 28, 96)   55392       ['activation_7[0][0]']           \n",
      "                                                                                                  \n",
      " batch_normalization_5 (BatchNo  (None, 28, 28, 96)  384         ['conv2d_5[0][0]']               \n",
      " rmalization)                                                                                     \n",
      "                                                                                                  \n",
      " batch_normalization_8 (BatchNo  (None, 28, 28, 96)  384         ['conv2d_8[0][0]']               \n",
      " rmalization)                                                                                     \n",
      "                                                                                                  \n",
      " activation_5 (Activation)      (None, 28, 28, 96)   0           ['batch_normalization_5[0][0]']  \n",
      "                                                                                                  \n",
      " activation_8 (Activation)      (None, 28, 28, 96)   0           ['batch_normalization_8[0][0]']  \n",
      "                                                                                                  \n",
      " concatenate_1 (Concatenate)    (None, 28, 28, 192)  0           ['activation_5[0][0]',           \n",
      "                                                                  'activation_8[0][0]']           \n",
      "                                                                                                  \n",
      " conv2d_9 (Conv2D)              (None, 26, 26, 192)  331968      ['concatenate_1[0][0]']          \n",
      "                                                                                                  \n",
      " batch_normalization_9 (BatchNo  (None, 26, 26, 192)  768        ['conv2d_9[0][0]']               \n",
      " rmalization)                                                                                     \n",
      "                                                                                                  \n",
      " activation_9 (Activation)      (None, 26, 26, 192)  0           ['batch_normalization_9[0][0]']  \n",
      "                                                                                                  \n",
      " max_pooling2d_1 (MaxPooling2D)  (None, 26, 26, 192)  0          ['concatenate_1[0][0]']          \n",
      "                                                                                                  \n",
      " concatenate_2 (Concatenate)    (None, 26, 26, 384)  0           ['activation_9[0][0]',           \n",
      "                                                                  'max_pooling2d_1[0][0]']        \n",
      "                                                                                                  \n",
      " conv2d_13 (Conv2D)             (None, 26, 26, 64)   24640       ['concatenate_2[0][0]']          \n",
      "                                                                                                  \n",
      " batch_normalization_13 (BatchN  (None, 26, 26, 64)  256         ['conv2d_13[0][0]']              \n",
      " ormalization)                                                                                    \n",
      "                                                                                                  \n",
      " activation_13 (Activation)     (None, 26, 26, 64)   0           ['batch_normalization_13[0][0]'] \n",
      "                                                                                                  \n",
      " conv2d_11 (Conv2D)             (None, 26, 26, 64)   24640       ['concatenate_2[0][0]']          \n",
      "                                                                                                  \n",
      " conv2d_14 (Conv2D)             (None, 26, 26, 96)   55392       ['activation_13[0][0]']          \n",
      "                                                                                                  \n",
      " batch_normalization_11 (BatchN  (None, 26, 26, 64)  256         ['conv2d_11[0][0]']              \n",
      " ormalization)                                                                                    \n",
      "                                                                                                  \n",
      " batch_normalization_14 (BatchN  (None, 26, 26, 96)  384         ['conv2d_14[0][0]']              \n",
      " ormalization)                                                                                    \n",
      "                                                                                                  \n",
      " activation_11 (Activation)     (None, 26, 26, 64)   0           ['batch_normalization_11[0][0]'] \n",
      "                                                                                                  \n",
      " activation_14 (Activation)     (None, 26, 26, 96)   0           ['batch_normalization_14[0][0]'] \n",
      "                                                                                                  \n",
      " average_pooling2d (AveragePool  (None, 26, 26, 384)  0          ['concatenate_2[0][0]']          \n",
      " ing2D)                                                                                           \n",
      "                                                                                                  \n",
      " conv2d_10 (Conv2D)             (None, 26, 26, 96)   36960       ['concatenate_2[0][0]']          \n",
      "                                                                                                  \n",
      " conv2d_12 (Conv2D)             (None, 26, 26, 96)   153696      ['activation_11[0][0]']          \n",
      "                                                                                                  \n",
      " conv2d_15 (Conv2D)             (None, 26, 26, 96)   83040       ['activation_14[0][0]']          \n",
      "                                                                                                  \n",
      " conv2d_16 (Conv2D)             (None, 26, 26, 96)   36960       ['average_pooling2d[0][0]']      \n",
      "                                                                                                  \n",
      " batch_normalization_10 (BatchN  (None, 26, 26, 96)  384         ['conv2d_10[0][0]']              \n",
      " ormalization)                                                                                    \n",
      "                                                                                                  \n",
      " batch_normalization_12 (BatchN  (None, 26, 26, 96)  384         ['conv2d_12[0][0]']              \n",
      " ormalization)                                                                                    \n",
      "                                                                                                  \n",
      " batch_normalization_15 (BatchN  (None, 26, 26, 96)  384         ['conv2d_15[0][0]']              \n",
      " ormalization)                                                                                    \n",
      "                                                                                                  \n",
      " batch_normalization_16 (BatchN  (None, 26, 26, 96)  384         ['conv2d_16[0][0]']              \n",
      " ormalization)                                                                                    \n",
      "                                                                                                  \n",
      " activation_10 (Activation)     (None, 26, 26, 96)   0           ['batch_normalization_10[0][0]'] \n",
      "                                                                                                  \n",
      " activation_12 (Activation)     (None, 26, 26, 96)   0           ['batch_normalization_12[0][0]'] \n",
      "                                                                                                  \n",
      " activation_15 (Activation)     (None, 26, 26, 96)   0           ['batch_normalization_15[0][0]'] \n",
      "                                                                                                  \n",
      " activation_16 (Activation)     (None, 26, 26, 96)   0           ['batch_normalization_16[0][0]'] \n",
      "                                                                                                  \n",
      " Inception_Block_A0 (Concatenat  (None, 26, 26, 384)  0          ['activation_10[0][0]',          \n",
      " e)                                                               'activation_12[0][0]',          \n",
      "                                                                  'activation_15[0][0]',          \n",
      "                                                                  'activation_16[0][0]']          \n",
      "                                                                                                  \n",
      " global_average_pooling2d (Glob  (None, 384)         0           ['Inception_Block_A0[0][0]']     \n",
      " alAveragePooling2D)                                                                              \n",
      "                                                                                                  \n",
      " dense (Dense)                  (None, 96)           36960       ['global_average_pooling2d[0][0]'\n",
      "                                                                 ]                                \n",
      "                                                                                                  \n",
      " activation_17 (Activation)     (None, 96)           0           ['dense[0][0]']                  \n",
      "                                                                                                  \n",
      " dense_1 (Dense)                (None, 384)          37248       ['activation_17[0][0]']          \n",
      "                                                                                                  \n",
      " activation_18 (Activation)     (None, 384)          0           ['dense_1[0][0]']                \n",
      "                                                                                                  \n",
      " reshape (Reshape)              (None, 1, 1, 384)    0           ['activation_18[0][0]']          \n",
      "                                                                                                  \n",
      " tf.math.multiply (TFOpLambda)  (None, 26, 26, 384)  0           ['Inception_Block_A0[0][0]',     \n",
      "                                                                  'reshape[0][0]']                \n",
      "                                                                                                  \n",
      " conv2d_20 (Conv2D)             (None, 26, 26, 64)   24640       ['tf.math.multiply[0][0]']       \n",
      "                                                                                                  \n",
      " batch_normalization_20 (BatchN  (None, 26, 26, 64)  256         ['conv2d_20[0][0]']              \n",
      " ormalization)                                                                                    \n",
      "                                                                                                  \n",
      " activation_22 (Activation)     (None, 26, 26, 64)   0           ['batch_normalization_20[0][0]'] \n",
      "                                                                                                  \n",
      " conv2d_18 (Conv2D)             (None, 26, 26, 64)   24640       ['tf.math.multiply[0][0]']       \n",
      "                                                                                                  \n",
      " conv2d_21 (Conv2D)             (None, 26, 26, 96)   55392       ['activation_22[0][0]']          \n",
      "                                                                                                  \n",
      " batch_normalization_18 (BatchN  (None, 26, 26, 64)  256         ['conv2d_18[0][0]']              \n",
      " ormalization)                                                                                    \n",
      "                                                                                                  \n",
      " batch_normalization_21 (BatchN  (None, 26, 26, 96)  384         ['conv2d_21[0][0]']              \n",
      " ormalization)                                                                                    \n",
      "                                                                                                  \n",
      " activation_20 (Activation)     (None, 26, 26, 64)   0           ['batch_normalization_18[0][0]'] \n",
      "                                                                                                  \n",
      " activation_23 (Activation)     (None, 26, 26, 96)   0           ['batch_normalization_21[0][0]'] \n",
      "                                                                                                  \n",
      " average_pooling2d_1 (AveragePo  (None, 26, 26, 384)  0          ['tf.math.multiply[0][0]']       \n",
      " oling2D)                                                                                         \n",
      "                                                                                                  \n",
      " conv2d_17 (Conv2D)             (None, 26, 26, 96)   36960       ['tf.math.multiply[0][0]']       \n",
      "                                                                                                  \n",
      " conv2d_19 (Conv2D)             (None, 26, 26, 96)   153696      ['activation_20[0][0]']          \n",
      "                                                                                                  \n",
      " conv2d_22 (Conv2D)             (None, 26, 26, 96)   83040       ['activation_23[0][0]']          \n",
      "                                                                                                  \n",
      " conv2d_23 (Conv2D)             (None, 26, 26, 96)   36960       ['average_pooling2d_1[0][0]']    \n",
      "                                                                                                  \n",
      " batch_normalization_17 (BatchN  (None, 26, 26, 96)  384         ['conv2d_17[0][0]']              \n",
      " ormalization)                                                                                    \n",
      "                                                                                                  \n",
      " batch_normalization_19 (BatchN  (None, 26, 26, 96)  384         ['conv2d_19[0][0]']              \n",
      " ormalization)                                                                                    \n",
      "                                                                                                  \n",
      " batch_normalization_22 (BatchN  (None, 26, 26, 96)  384         ['conv2d_22[0][0]']              \n",
      " ormalization)                                                                                    \n",
      "                                                                                                  \n",
      " batch_normalization_23 (BatchN  (None, 26, 26, 96)  384         ['conv2d_23[0][0]']              \n",
      " ormalization)                                                                                    \n",
      "                                                                                                  \n",
      " activation_19 (Activation)     (None, 26, 26, 96)   0           ['batch_normalization_17[0][0]'] \n",
      "                                                                                                  \n",
      " activation_21 (Activation)     (None, 26, 26, 96)   0           ['batch_normalization_19[0][0]'] \n",
      "                                                                                                  \n",
      " activation_24 (Activation)     (None, 26, 26, 96)   0           ['batch_normalization_22[0][0]'] \n",
      "                                                                                                  \n",
      " activation_25 (Activation)     (None, 26, 26, 96)   0           ['batch_normalization_23[0][0]'] \n",
      "                                                                                                  \n",
      " Inception_Block_A1 (Concatenat  (None, 26, 26, 384)  0          ['activation_19[0][0]',          \n",
      " e)                                                               'activation_21[0][0]',          \n",
      "                                                                  'activation_24[0][0]',          \n",
      "                                                                  'activation_25[0][0]']          \n",
      "                                                                                                  \n",
      " global_average_pooling2d_1 (Gl  (None, 384)         0           ['Inception_Block_A1[0][0]']     \n",
      " obalAveragePooling2D)                                                                            \n",
      "                                                                                                  \n",
      " dense_2 (Dense)                (None, 96)           36960       ['global_average_pooling2d_1[0][0\n",
      "                                                                 ]']                              \n",
      "                                                                                                  \n",
      " activation_26 (Activation)     (None, 96)           0           ['dense_2[0][0]']                \n",
      "                                                                                                  \n",
      " dense_3 (Dense)                (None, 384)          37248       ['activation_26[0][0]']          \n",
      "                                                                                                  \n",
      " activation_27 (Activation)     (None, 384)          0           ['dense_3[0][0]']                \n",
      "                                                                                                  \n",
      " reshape_1 (Reshape)            (None, 1, 1, 384)    0           ['activation_27[0][0]']          \n",
      "                                                                                                  \n",
      " tf.math.multiply_1 (TFOpLambda  (None, 26, 26, 384)  0          ['Inception_Block_A1[0][0]',     \n",
      " )                                                                'reshape_1[0][0]']              \n",
      "                                                                                                  \n",
      " conv2d_27 (Conv2D)             (None, 26, 26, 64)   24640       ['tf.math.multiply_1[0][0]']     \n",
      "                                                                                                  \n",
      " batch_normalization_27 (BatchN  (None, 26, 26, 64)  256         ['conv2d_27[0][0]']              \n",
      " ormalization)                                                                                    \n",
      "                                                                                                  \n",
      " activation_31 (Activation)     (None, 26, 26, 64)   0           ['batch_normalization_27[0][0]'] \n",
      "                                                                                                  \n",
      " conv2d_25 (Conv2D)             (None, 26, 26, 64)   24640       ['tf.math.multiply_1[0][0]']     \n",
      "                                                                                                  \n",
      " conv2d_28 (Conv2D)             (None, 26, 26, 96)   55392       ['activation_31[0][0]']          \n",
      "                                                                                                  \n",
      " batch_normalization_25 (BatchN  (None, 26, 26, 64)  256         ['conv2d_25[0][0]']              \n",
      " ormalization)                                                                                    \n",
      "                                                                                                  \n",
      " batch_normalization_28 (BatchN  (None, 26, 26, 96)  384         ['conv2d_28[0][0]']              \n",
      " ormalization)                                                                                    \n",
      "                                                                                                  \n",
      " activation_29 (Activation)     (None, 26, 26, 64)   0           ['batch_normalization_25[0][0]'] \n",
      "                                                                                                  \n",
      " activation_32 (Activation)     (None, 26, 26, 96)   0           ['batch_normalization_28[0][0]'] \n",
      "                                                                                                  \n",
      " average_pooling2d_2 (AveragePo  (None, 26, 26, 384)  0          ['tf.math.multiply_1[0][0]']     \n",
      " oling2D)                                                                                         \n",
      "                                                                                                  \n",
      " conv2d_24 (Conv2D)             (None, 26, 26, 96)   36960       ['tf.math.multiply_1[0][0]']     \n",
      "                                                                                                  \n",
      " conv2d_26 (Conv2D)             (None, 26, 26, 96)   153696      ['activation_29[0][0]']          \n",
      "                                                                                                  \n",
      " conv2d_29 (Conv2D)             (None, 26, 26, 96)   83040       ['activation_32[0][0]']          \n",
      "                                                                                                  \n",
      " conv2d_30 (Conv2D)             (None, 26, 26, 96)   36960       ['average_pooling2d_2[0][0]']    \n",
      "                                                                                                  \n",
      " batch_normalization_24 (BatchN  (None, 26, 26, 96)  384         ['conv2d_24[0][0]']              \n",
      " ormalization)                                                                                    \n",
      "                                                                                                  \n",
      " batch_normalization_26 (BatchN  (None, 26, 26, 96)  384         ['conv2d_26[0][0]']              \n",
      " ormalization)                                                                                    \n",
      "                                                                                                  \n",
      " batch_normalization_29 (BatchN  (None, 26, 26, 96)  384         ['conv2d_29[0][0]']              \n",
      " ormalization)                                                                                    \n",
      "                                                                                                  \n",
      " batch_normalization_30 (BatchN  (None, 26, 26, 96)  384         ['conv2d_30[0][0]']              \n",
      " ormalization)                                                                                    \n",
      "                                                                                                  \n",
      " activation_28 (Activation)     (None, 26, 26, 96)   0           ['batch_normalization_24[0][0]'] \n",
      "                                                                                                  \n",
      " activation_30 (Activation)     (None, 26, 26, 96)   0           ['batch_normalization_26[0][0]'] \n",
      "                                                                                                  \n",
      " activation_33 (Activation)     (None, 26, 26, 96)   0           ['batch_normalization_29[0][0]'] \n",
      "                                                                                                  \n",
      " activation_34 (Activation)     (None, 26, 26, 96)   0           ['batch_normalization_30[0][0]'] \n",
      "                                                                                                  \n",
      " Inception_Block_A2 (Concatenat  (None, 26, 26, 384)  0          ['activation_28[0][0]',          \n",
      " e)                                                               'activation_30[0][0]',          \n",
      "                                                                  'activation_33[0][0]',          \n",
      "                                                                  'activation_34[0][0]']          \n",
      "                                                                                                  \n",
      " global_average_pooling2d_2 (Gl  (None, 384)         0           ['Inception_Block_A2[0][0]']     \n",
      " obalAveragePooling2D)                                                                            \n",
      "                                                                                                  \n",
      " dense_4 (Dense)                (None, 96)           36960       ['global_average_pooling2d_2[0][0\n",
      "                                                                 ]']                              \n",
      "                                                                                                  \n",
      " activation_35 (Activation)     (None, 96)           0           ['dense_4[0][0]']                \n",
      "                                                                                                  \n",
      " dense_5 (Dense)                (None, 384)          37248       ['activation_35[0][0]']          \n",
      "                                                                                                  \n",
      " activation_36 (Activation)     (None, 384)          0           ['dense_5[0][0]']                \n",
      "                                                                                                  \n",
      " reshape_2 (Reshape)            (None, 1, 1, 384)    0           ['activation_36[0][0]']          \n",
      "                                                                                                  \n",
      " tf.math.multiply_2 (TFOpLambda  (None, 26, 26, 384)  0          ['Inception_Block_A2[0][0]',     \n",
      " )                                                                'reshape_2[0][0]']              \n",
      "                                                                                                  \n",
      " conv2d_34 (Conv2D)             (None, 26, 26, 64)   24640       ['tf.math.multiply_2[0][0]']     \n",
      "                                                                                                  \n",
      " batch_normalization_34 (BatchN  (None, 26, 26, 64)  256         ['conv2d_34[0][0]']              \n",
      " ormalization)                                                                                    \n",
      "                                                                                                  \n",
      " activation_40 (Activation)     (None, 26, 26, 64)   0           ['batch_normalization_34[0][0]'] \n",
      "                                                                                                  \n",
      " conv2d_32 (Conv2D)             (None, 26, 26, 64)   24640       ['tf.math.multiply_2[0][0]']     \n",
      "                                                                                                  \n",
      " conv2d_35 (Conv2D)             (None, 26, 26, 96)   55392       ['activation_40[0][0]']          \n",
      "                                                                                                  \n",
      " batch_normalization_32 (BatchN  (None, 26, 26, 64)  256         ['conv2d_32[0][0]']              \n",
      " ormalization)                                                                                    \n",
      "                                                                                                  \n",
      " batch_normalization_35 (BatchN  (None, 26, 26, 96)  384         ['conv2d_35[0][0]']              \n",
      " ormalization)                                                                                    \n",
      "                                                                                                  \n",
      " activation_38 (Activation)     (None, 26, 26, 64)   0           ['batch_normalization_32[0][0]'] \n",
      "                                                                                                  \n",
      " activation_41 (Activation)     (None, 26, 26, 96)   0           ['batch_normalization_35[0][0]'] \n",
      "                                                                                                  \n",
      " average_pooling2d_3 (AveragePo  (None, 26, 26, 384)  0          ['tf.math.multiply_2[0][0]']     \n",
      " oling2D)                                                                                         \n",
      "                                                                                                  \n",
      " conv2d_31 (Conv2D)             (None, 26, 26, 96)   36960       ['tf.math.multiply_2[0][0]']     \n",
      "                                                                                                  \n",
      " conv2d_33 (Conv2D)             (None, 26, 26, 96)   153696      ['activation_38[0][0]']          \n",
      "                                                                                                  \n",
      " conv2d_36 (Conv2D)             (None, 26, 26, 96)   83040       ['activation_41[0][0]']          \n",
      "                                                                                                  \n",
      " conv2d_37 (Conv2D)             (None, 26, 26, 96)   36960       ['average_pooling2d_3[0][0]']    \n",
      "                                                                                                  \n",
      " batch_normalization_31 (BatchN  (None, 26, 26, 96)  384         ['conv2d_31[0][0]']              \n",
      " ormalization)                                                                                    \n",
      "                                                                                                  \n",
      " batch_normalization_33 (BatchN  (None, 26, 26, 96)  384         ['conv2d_33[0][0]']              \n",
      " ormalization)                                                                                    \n",
      "                                                                                                  \n",
      " batch_normalization_36 (BatchN  (None, 26, 26, 96)  384         ['conv2d_36[0][0]']              \n",
      " ormalization)                                                                                    \n",
      "                                                                                                  \n",
      " batch_normalization_37 (BatchN  (None, 26, 26, 96)  384         ['conv2d_37[0][0]']              \n",
      " ormalization)                                                                                    \n",
      "                                                                                                  \n",
      " activation_37 (Activation)     (None, 26, 26, 96)   0           ['batch_normalization_31[0][0]'] \n",
      "                                                                                                  \n",
      " activation_39 (Activation)     (None, 26, 26, 96)   0           ['batch_normalization_33[0][0]'] \n",
      "                                                                                                  \n",
      " activation_42 (Activation)     (None, 26, 26, 96)   0           ['batch_normalization_36[0][0]'] \n",
      "                                                                                                  \n",
      " activation_43 (Activation)     (None, 26, 26, 96)   0           ['batch_normalization_37[0][0]'] \n",
      "                                                                                                  \n",
      " Inception_Block_A3 (Concatenat  (None, 26, 26, 384)  0          ['activation_37[0][0]',          \n",
      " e)                                                               'activation_39[0][0]',          \n",
      "                                                                  'activation_42[0][0]',          \n",
      "                                                                  'activation_43[0][0]']          \n",
      "                                                                                                  \n",
      " global_average_pooling2d_3 (Gl  (None, 384)         0           ['Inception_Block_A3[0][0]']     \n",
      " obalAveragePooling2D)                                                                            \n",
      "                                                                                                  \n",
      " dense_6 (Dense)                (None, 96)           36960       ['global_average_pooling2d_3[0][0\n",
      "                                                                 ]']                              \n",
      "                                                                                                  \n",
      " activation_44 (Activation)     (None, 96)           0           ['dense_6[0][0]']                \n",
      "                                                                                                  \n",
      " dense_7 (Dense)                (None, 384)          37248       ['activation_44[0][0]']          \n",
      "                                                                                                  \n",
      " activation_45 (Activation)     (None, 384)          0           ['dense_7[0][0]']                \n",
      "                                                                                                  \n",
      " reshape_3 (Reshape)            (None, 1, 1, 384)    0           ['activation_45[0][0]']          \n",
      "                                                                                                  \n",
      " tf.math.multiply_3 (TFOpLambda  (None, 26, 26, 384)  0          ['Inception_Block_A3[0][0]',     \n",
      " )                                                                'reshape_3[0][0]']              \n",
      "                                                                                                  \n",
      " conv2d_40 (Conv2D)             (None, 26, 26, 192)  73920       ['tf.math.multiply_3[0][0]']     \n",
      "                                                                                                  \n",
      " batch_normalization_40 (BatchN  (None, 26, 26, 192)  768        ['conv2d_40[0][0]']              \n",
      " ormalization)                                                                                    \n",
      "                                                                                                  \n",
      " activation_48 (Activation)     (None, 26, 26, 192)  0           ['batch_normalization_40[0][0]'] \n",
      "                                                                                                  \n",
      " conv2d_38 (Conv2D)             (None, 26, 26, 64)   24640       ['tf.math.multiply_3[0][0]']     \n",
      "                                                                                                  \n",
      " conv2d_41 (Conv2D)             (None, 26, 26, 224)  387296      ['activation_48[0][0]']          \n",
      "                                                                                                  \n",
      " batch_normalization_38 (BatchN  (None, 26, 26, 64)  256         ['conv2d_38[0][0]']              \n",
      " ormalization)                                                                                    \n",
      "                                                                                                  \n",
      " batch_normalization_41 (BatchN  (None, 26, 26, 224)  896        ['conv2d_41[0][0]']              \n",
      " ormalization)                                                                                    \n",
      "                                                                                                  \n",
      " activation_46 (Activation)     (None, 26, 26, 64)   0           ['batch_normalization_38[0][0]'] \n",
      "                                                                                                  \n",
      " activation_49 (Activation)     (None, 26, 26, 224)  0           ['batch_normalization_41[0][0]'] \n",
      "                                                                                                  \n",
      " conv2d_39 (Conv2D)             (None, 13, 13, 384)  221568      ['activation_46[0][0]']          \n",
      "                                                                                                  \n",
      " conv2d_42 (Conv2D)             (None, 13, 13, 256)  516352      ['activation_49[0][0]']          \n",
      "                                                                                                  \n",
      " batch_normalization_39 (BatchN  (None, 13, 13, 384)  1536       ['conv2d_39[0][0]']              \n",
      " ormalization)                                                                                    \n",
      "                                                                                                  \n",
      " batch_normalization_42 (BatchN  (None, 13, 13, 256)  1024       ['conv2d_42[0][0]']              \n",
      " ormalization)                                                                                    \n",
      "                                                                                                  \n",
      " activation_47 (Activation)     (None, 13, 13, 384)  0           ['batch_normalization_39[0][0]'] \n",
      "                                                                                                  \n",
      " activation_50 (Activation)     (None, 13, 13, 256)  0           ['batch_normalization_42[0][0]'] \n",
      "                                                                                                  \n",
      " max_pooling2d_2 (MaxPooling2D)  (None, 13, 13, 384)  0          ['tf.math.multiply_3[0][0]']     \n",
      "                                                                                                  \n",
      " Reduction_Block_1 (Concatenate  (None, 13, 13, 1024  0          ['activation_47[0][0]',          \n",
      " )                              )                                 'activation_50[0][0]',          \n",
      "                                                                  'max_pooling2d_2[0][0]']        \n",
      "                                                                                                  \n",
      " conv2d_47 (Conv2D)             (None, 13, 13, 192)  196800      ['Reduction_Block_1[0][0]']      \n",
      "                                                                                                  \n",
      " batch_normalization_47 (BatchN  (None, 13, 13, 192)  768        ['conv2d_47[0][0]']              \n",
      " ormalization)                                                                                    \n",
      "                                                                                                  \n",
      " activation_55 (Activation)     (None, 13, 13, 192)  0           ['batch_normalization_47[0][0]'] \n",
      "                                                                                                  \n",
      " conv2d_48 (Conv2D)             (None, 13, 13, 224)  301280      ['activation_55[0][0]']          \n",
      "                                                                                                  \n",
      " batch_normalization_48 (BatchN  (None, 13, 13, 224)  896        ['conv2d_48[0][0]']              \n",
      " ormalization)                                                                                    \n",
      "                                                                                                  \n",
      " activation_56 (Activation)     (None, 13, 13, 224)  0           ['batch_normalization_48[0][0]'] \n",
      "                                                                                                  \n",
      " conv2d_44 (Conv2D)             (None, 13, 13, 192)  196800      ['Reduction_Block_1[0][0]']      \n",
      "                                                                                                  \n",
      " conv2d_49 (Conv2D)             (None, 13, 13, 224)  351456      ['activation_56[0][0]']          \n",
      "                                                                                                  \n",
      " batch_normalization_44 (BatchN  (None, 13, 13, 192)  768        ['conv2d_44[0][0]']              \n",
      " ormalization)                                                                                    \n",
      "                                                                                                  \n",
      " batch_normalization_49 (BatchN  (None, 13, 13, 224)  896        ['conv2d_49[0][0]']              \n",
      " ormalization)                                                                                    \n",
      "                                                                                                  \n",
      " activation_52 (Activation)     (None, 13, 13, 192)  0           ['batch_normalization_44[0][0]'] \n",
      "                                                                                                  \n",
      " activation_57 (Activation)     (None, 13, 13, 224)  0           ['batch_normalization_49[0][0]'] \n",
      "                                                                                                  \n",
      " conv2d_45 (Conv2D)             (None, 13, 13, 256)  344320      ['activation_52[0][0]']          \n",
      "                                                                                                  \n",
      " conv2d_50 (Conv2D)             (None, 13, 13, 256)  401664      ['activation_57[0][0]']          \n",
      "                                                                                                  \n",
      " batch_normalization_45 (BatchN  (None, 13, 13, 256)  1024       ['conv2d_45[0][0]']              \n",
      " ormalization)                                                                                    \n",
      "                                                                                                  \n",
      " batch_normalization_50 (BatchN  (None, 13, 13, 256)  1024       ['conv2d_50[0][0]']              \n",
      " ormalization)                                                                                    \n",
      "                                                                                                  \n",
      " activation_53 (Activation)     (None, 13, 13, 256)  0           ['batch_normalization_45[0][0]'] \n",
      "                                                                                                  \n",
      " activation_58 (Activation)     (None, 13, 13, 256)  0           ['batch_normalization_50[0][0]'] \n",
      "                                                                                                  \n",
      " average_pooling2d_4 (AveragePo  (None, 13, 13, 1024  0          ['Reduction_Block_1[0][0]']      \n",
      " oling2D)                       )                                                                 \n",
      "                                                                                                  \n",
      " conv2d_43 (Conv2D)             (None, 13, 13, 384)  393600      ['Reduction_Block_1[0][0]']      \n",
      "                                                                                                  \n",
      " conv2d_46 (Conv2D)             (None, 13, 13, 256)  459008      ['activation_53[0][0]']          \n",
      "                                                                                                  \n",
      " conv2d_51 (Conv2D)             (None, 13, 13, 256)  459008      ['activation_58[0][0]']          \n",
      "                                                                                                  \n",
      " conv2d_52 (Conv2D)             (None, 13, 13, 128)  131200      ['average_pooling2d_4[0][0]']    \n",
      "                                                                                                  \n",
      " batch_normalization_43 (BatchN  (None, 13, 13, 384)  1536       ['conv2d_43[0][0]']              \n",
      " ormalization)                                                                                    \n",
      "                                                                                                  \n",
      " batch_normalization_46 (BatchN  (None, 13, 13, 256)  1024       ['conv2d_46[0][0]']              \n",
      " ormalization)                                                                                    \n",
      "                                                                                                  \n",
      " batch_normalization_51 (BatchN  (None, 13, 13, 256)  1024       ['conv2d_51[0][0]']              \n",
      " ormalization)                                                                                    \n",
      "                                                                                                  \n",
      " batch_normalization_52 (BatchN  (None, 13, 13, 128)  512        ['conv2d_52[0][0]']              \n",
      " ormalization)                                                                                    \n",
      "                                                                                                  \n",
      " activation_51 (Activation)     (None, 13, 13, 384)  0           ['batch_normalization_43[0][0]'] \n",
      "                                                                                                  \n",
      " activation_54 (Activation)     (None, 13, 13, 256)  0           ['batch_normalization_46[0][0]'] \n",
      "                                                                                                  \n",
      " activation_59 (Activation)     (None, 13, 13, 256)  0           ['batch_normalization_51[0][0]'] \n",
      "                                                                                                  \n",
      " activation_60 (Activation)     (None, 13, 13, 128)  0           ['batch_normalization_52[0][0]'] \n",
      "                                                                                                  \n",
      " Inception_Block_B0 (Concatenat  (None, 13, 13, 1024  0          ['activation_51[0][0]',          \n",
      " e)                             )                                 'activation_54[0][0]',          \n",
      "                                                                  'activation_59[0][0]',          \n",
      "                                                                  'activation_60[0][0]']          \n",
      "                                                                                                  \n",
      " global_average_pooling2d_4 (Gl  (None, 1024)        0           ['Inception_Block_B0[0][0]']     \n",
      " obalAveragePooling2D)                                                                            \n",
      "                                                                                                  \n",
      " dense_8 (Dense)                (None, 256)          262400      ['global_average_pooling2d_4[0][0\n",
      "                                                                 ]']                              \n",
      "                                                                                                  \n",
      " activation_61 (Activation)     (None, 256)          0           ['dense_8[0][0]']                \n",
      "                                                                                                  \n",
      " dense_9 (Dense)                (None, 1024)         263168      ['activation_61[0][0]']          \n",
      "                                                                                                  \n",
      " activation_62 (Activation)     (None, 1024)         0           ['dense_9[0][0]']                \n",
      "                                                                                                  \n",
      " reshape_4 (Reshape)            (None, 1, 1, 1024)   0           ['activation_62[0][0]']          \n",
      "                                                                                                  \n",
      " tf.math.multiply_4 (TFOpLambda  (None, 13, 13, 1024  0          ['Inception_Block_B0[0][0]',     \n",
      " )                              )                                 'reshape_4[0][0]']              \n",
      "                                                                                                  \n",
      " conv2d_57 (Conv2D)             (None, 13, 13, 192)  196800      ['tf.math.multiply_4[0][0]']     \n",
      "                                                                                                  \n",
      " batch_normalization_57 (BatchN  (None, 13, 13, 192)  768        ['conv2d_57[0][0]']              \n",
      " ormalization)                                                                                    \n",
      "                                                                                                  \n",
      " activation_67 (Activation)     (None, 13, 13, 192)  0           ['batch_normalization_57[0][0]'] \n",
      "                                                                                                  \n",
      " conv2d_58 (Conv2D)             (None, 13, 13, 224)  301280      ['activation_67[0][0]']          \n",
      "                                                                                                  \n",
      " batch_normalization_58 (BatchN  (None, 13, 13, 224)  896        ['conv2d_58[0][0]']              \n",
      " ormalization)                                                                                    \n",
      "                                                                                                  \n",
      " activation_68 (Activation)     (None, 13, 13, 224)  0           ['batch_normalization_58[0][0]'] \n",
      "                                                                                                  \n",
      " conv2d_54 (Conv2D)             (None, 13, 13, 192)  196800      ['tf.math.multiply_4[0][0]']     \n",
      "                                                                                                  \n",
      " conv2d_59 (Conv2D)             (None, 13, 13, 224)  351456      ['activation_68[0][0]']          \n",
      "                                                                                                  \n",
      " batch_normalization_54 (BatchN  (None, 13, 13, 192)  768        ['conv2d_54[0][0]']              \n",
      " ormalization)                                                                                    \n",
      "                                                                                                  \n",
      " batch_normalization_59 (BatchN  (None, 13, 13, 224)  896        ['conv2d_59[0][0]']              \n",
      " ormalization)                                                                                    \n",
      "                                                                                                  \n",
      " activation_64 (Activation)     (None, 13, 13, 192)  0           ['batch_normalization_54[0][0]'] \n",
      "                                                                                                  \n",
      " activation_69 (Activation)     (None, 13, 13, 224)  0           ['batch_normalization_59[0][0]'] \n",
      "                                                                                                  \n",
      " conv2d_55 (Conv2D)             (None, 13, 13, 256)  344320      ['activation_64[0][0]']          \n",
      "                                                                                                  \n",
      " conv2d_60 (Conv2D)             (None, 13, 13, 256)  401664      ['activation_69[0][0]']          \n",
      "                                                                                                  \n",
      " batch_normalization_55 (BatchN  (None, 13, 13, 256)  1024       ['conv2d_55[0][0]']              \n",
      " ormalization)                                                                                    \n",
      "                                                                                                  \n",
      " batch_normalization_60 (BatchN  (None, 13, 13, 256)  1024       ['conv2d_60[0][0]']              \n",
      " ormalization)                                                                                    \n",
      "                                                                                                  \n",
      " activation_65 (Activation)     (None, 13, 13, 256)  0           ['batch_normalization_55[0][0]'] \n",
      "                                                                                                  \n",
      " activation_70 (Activation)     (None, 13, 13, 256)  0           ['batch_normalization_60[0][0]'] \n",
      "                                                                                                  \n",
      " average_pooling2d_5 (AveragePo  (None, 13, 13, 1024  0          ['tf.math.multiply_4[0][0]']     \n",
      " oling2D)                       )                                                                 \n",
      "                                                                                                  \n",
      " conv2d_53 (Conv2D)             (None, 13, 13, 384)  393600      ['tf.math.multiply_4[0][0]']     \n",
      "                                                                                                  \n",
      " conv2d_56 (Conv2D)             (None, 13, 13, 256)  459008      ['activation_65[0][0]']          \n",
      "                                                                                                  \n",
      " conv2d_61 (Conv2D)             (None, 13, 13, 256)  459008      ['activation_70[0][0]']          \n",
      "                                                                                                  \n",
      " conv2d_62 (Conv2D)             (None, 13, 13, 128)  131200      ['average_pooling2d_5[0][0]']    \n",
      "                                                                                                  \n",
      " batch_normalization_53 (BatchN  (None, 13, 13, 384)  1536       ['conv2d_53[0][0]']              \n",
      " ormalization)                                                                                    \n",
      "                                                                                                  \n",
      " batch_normalization_56 (BatchN  (None, 13, 13, 256)  1024       ['conv2d_56[0][0]']              \n",
      " ormalization)                                                                                    \n",
      "                                                                                                  \n",
      " batch_normalization_61 (BatchN  (None, 13, 13, 256)  1024       ['conv2d_61[0][0]']              \n",
      " ormalization)                                                                                    \n",
      "                                                                                                  \n",
      " batch_normalization_62 (BatchN  (None, 13, 13, 128)  512        ['conv2d_62[0][0]']              \n",
      " ormalization)                                                                                    \n",
      "                                                                                                  \n",
      " activation_63 (Activation)     (None, 13, 13, 384)  0           ['batch_normalization_53[0][0]'] \n",
      "                                                                                                  \n",
      " activation_66 (Activation)     (None, 13, 13, 256)  0           ['batch_normalization_56[0][0]'] \n",
      "                                                                                                  \n",
      " activation_71 (Activation)     (None, 13, 13, 256)  0           ['batch_normalization_61[0][0]'] \n",
      "                                                                                                  \n",
      " activation_72 (Activation)     (None, 13, 13, 128)  0           ['batch_normalization_62[0][0]'] \n",
      "                                                                                                  \n",
      " Inception_Block_B1 (Concatenat  (None, 13, 13, 1024  0          ['activation_63[0][0]',          \n",
      " e)                             )                                 'activation_66[0][0]',          \n",
      "                                                                  'activation_71[0][0]',          \n",
      "                                                                  'activation_72[0][0]']          \n",
      "                                                                                                  \n",
      " global_average_pooling2d_5 (Gl  (None, 1024)        0           ['Inception_Block_B1[0][0]']     \n",
      " obalAveragePooling2D)                                                                            \n",
      "                                                                                                  \n",
      " dense_10 (Dense)               (None, 256)          262400      ['global_average_pooling2d_5[0][0\n",
      "                                                                 ]']                              \n",
      "                                                                                                  \n",
      " activation_73 (Activation)     (None, 256)          0           ['dense_10[0][0]']               \n",
      "                                                                                                  \n",
      " dense_11 (Dense)               (None, 1024)         263168      ['activation_73[0][0]']          \n",
      "                                                                                                  \n",
      " activation_74 (Activation)     (None, 1024)         0           ['dense_11[0][0]']               \n",
      "                                                                                                  \n",
      " reshape_5 (Reshape)            (None, 1, 1, 1024)   0           ['activation_74[0][0]']          \n",
      "                                                                                                  \n",
      " tf.math.multiply_5 (TFOpLambda  (None, 13, 13, 1024  0          ['Inception_Block_B1[0][0]',     \n",
      " )                              )                                 'reshape_5[0][0]']              \n",
      "                                                                                                  \n",
      " conv2d_67 (Conv2D)             (None, 13, 13, 192)  196800      ['tf.math.multiply_5[0][0]']     \n",
      "                                                                                                  \n",
      " batch_normalization_67 (BatchN  (None, 13, 13, 192)  768        ['conv2d_67[0][0]']              \n",
      " ormalization)                                                                                    \n",
      "                                                                                                  \n",
      " activation_79 (Activation)     (None, 13, 13, 192)  0           ['batch_normalization_67[0][0]'] \n",
      "                                                                                                  \n",
      " conv2d_68 (Conv2D)             (None, 13, 13, 224)  301280      ['activation_79[0][0]']          \n",
      "                                                                                                  \n",
      " batch_normalization_68 (BatchN  (None, 13, 13, 224)  896        ['conv2d_68[0][0]']              \n",
      " ormalization)                                                                                    \n",
      "                                                                                                  \n",
      " activation_80 (Activation)     (None, 13, 13, 224)  0           ['batch_normalization_68[0][0]'] \n",
      "                                                                                                  \n",
      " conv2d_64 (Conv2D)             (None, 13, 13, 192)  196800      ['tf.math.multiply_5[0][0]']     \n",
      "                                                                                                  \n",
      " conv2d_69 (Conv2D)             (None, 13, 13, 224)  351456      ['activation_80[0][0]']          \n",
      "                                                                                                  \n",
      " batch_normalization_64 (BatchN  (None, 13, 13, 192)  768        ['conv2d_64[0][0]']              \n",
      " ormalization)                                                                                    \n",
      "                                                                                                  \n",
      " batch_normalization_69 (BatchN  (None, 13, 13, 224)  896        ['conv2d_69[0][0]']              \n",
      " ormalization)                                                                                    \n",
      "                                                                                                  \n",
      " activation_76 (Activation)     (None, 13, 13, 192)  0           ['batch_normalization_64[0][0]'] \n",
      "                                                                                                  \n",
      " activation_81 (Activation)     (None, 13, 13, 224)  0           ['batch_normalization_69[0][0]'] \n",
      "                                                                                                  \n",
      " conv2d_65 (Conv2D)             (None, 13, 13, 256)  344320      ['activation_76[0][0]']          \n",
      "                                                                                                  \n",
      " conv2d_70 (Conv2D)             (None, 13, 13, 256)  401664      ['activation_81[0][0]']          \n",
      "                                                                                                  \n",
      " batch_normalization_65 (BatchN  (None, 13, 13, 256)  1024       ['conv2d_65[0][0]']              \n",
      " ormalization)                                                                                    \n",
      "                                                                                                  \n",
      " batch_normalization_70 (BatchN  (None, 13, 13, 256)  1024       ['conv2d_70[0][0]']              \n",
      " ormalization)                                                                                    \n",
      "                                                                                                  \n",
      " activation_77 (Activation)     (None, 13, 13, 256)  0           ['batch_normalization_65[0][0]'] \n",
      "                                                                                                  \n",
      " activation_82 (Activation)     (None, 13, 13, 256)  0           ['batch_normalization_70[0][0]'] \n",
      "                                                                                                  \n",
      " average_pooling2d_6 (AveragePo  (None, 13, 13, 1024  0          ['tf.math.multiply_5[0][0]']     \n",
      " oling2D)                       )                                                                 \n",
      "                                                                                                  \n",
      " conv2d_63 (Conv2D)             (None, 13, 13, 384)  393600      ['tf.math.multiply_5[0][0]']     \n",
      "                                                                                                  \n",
      " conv2d_66 (Conv2D)             (None, 13, 13, 256)  459008      ['activation_77[0][0]']          \n",
      "                                                                                                  \n",
      " conv2d_71 (Conv2D)             (None, 13, 13, 256)  459008      ['activation_82[0][0]']          \n",
      "                                                                                                  \n",
      " conv2d_72 (Conv2D)             (None, 13, 13, 128)  131200      ['average_pooling2d_6[0][0]']    \n",
      "                                                                                                  \n",
      " batch_normalization_63 (BatchN  (None, 13, 13, 384)  1536       ['conv2d_63[0][0]']              \n",
      " ormalization)                                                                                    \n",
      "                                                                                                  \n",
      " batch_normalization_66 (BatchN  (None, 13, 13, 256)  1024       ['conv2d_66[0][0]']              \n",
      " ormalization)                                                                                    \n",
      "                                                                                                  \n",
      " batch_normalization_71 (BatchN  (None, 13, 13, 256)  1024       ['conv2d_71[0][0]']              \n",
      " ormalization)                                                                                    \n",
      "                                                                                                  \n",
      " batch_normalization_72 (BatchN  (None, 13, 13, 128)  512        ['conv2d_72[0][0]']              \n",
      " ormalization)                                                                                    \n",
      "                                                                                                  \n",
      " activation_75 (Activation)     (None, 13, 13, 384)  0           ['batch_normalization_63[0][0]'] \n",
      "                                                                                                  \n",
      " activation_78 (Activation)     (None, 13, 13, 256)  0           ['batch_normalization_66[0][0]'] \n",
      "                                                                                                  \n",
      " activation_83 (Activation)     (None, 13, 13, 256)  0           ['batch_normalization_71[0][0]'] \n",
      "                                                                                                  \n",
      " activation_84 (Activation)     (None, 13, 13, 128)  0           ['batch_normalization_72[0][0]'] \n",
      "                                                                                                  \n",
      " Inception_Block_B2 (Concatenat  (None, 13, 13, 1024  0          ['activation_75[0][0]',          \n",
      " e)                             )                                 'activation_78[0][0]',          \n",
      "                                                                  'activation_83[0][0]',          \n",
      "                                                                  'activation_84[0][0]']          \n",
      "                                                                                                  \n",
      " global_average_pooling2d_6 (Gl  (None, 1024)        0           ['Inception_Block_B2[0][0]']     \n",
      " obalAveragePooling2D)                                                                            \n",
      "                                                                                                  \n",
      " dense_12 (Dense)               (None, 256)          262400      ['global_average_pooling2d_6[0][0\n",
      "                                                                 ]']                              \n",
      "                                                                                                  \n",
      " activation_85 (Activation)     (None, 256)          0           ['dense_12[0][0]']               \n",
      "                                                                                                  \n",
      " dense_13 (Dense)               (None, 1024)         263168      ['activation_85[0][0]']          \n",
      "                                                                                                  \n",
      " activation_86 (Activation)     (None, 1024)         0           ['dense_13[0][0]']               \n",
      "                                                                                                  \n",
      " reshape_6 (Reshape)            (None, 1, 1, 1024)   0           ['activation_86[0][0]']          \n",
      "                                                                                                  \n",
      " tf.math.multiply_6 (TFOpLambda  (None, 13, 13, 1024  0          ['Inception_Block_B2[0][0]',     \n",
      " )                              )                                 'reshape_6[0][0]']              \n",
      "                                                                                                  \n",
      " conv2d_77 (Conv2D)             (None, 13, 13, 192)  196800      ['tf.math.multiply_6[0][0]']     \n",
      "                                                                                                  \n",
      " batch_normalization_77 (BatchN  (None, 13, 13, 192)  768        ['conv2d_77[0][0]']              \n",
      " ormalization)                                                                                    \n",
      "                                                                                                  \n",
      " activation_91 (Activation)     (None, 13, 13, 192)  0           ['batch_normalization_77[0][0]'] \n",
      "                                                                                                  \n",
      " conv2d_78 (Conv2D)             (None, 13, 13, 224)  301280      ['activation_91[0][0]']          \n",
      "                                                                                                  \n",
      " batch_normalization_78 (BatchN  (None, 13, 13, 224)  896        ['conv2d_78[0][0]']              \n",
      " ormalization)                                                                                    \n",
      "                                                                                                  \n",
      " activation_92 (Activation)     (None, 13, 13, 224)  0           ['batch_normalization_78[0][0]'] \n",
      "                                                                                                  \n",
      " conv2d_74 (Conv2D)             (None, 13, 13, 192)  196800      ['tf.math.multiply_6[0][0]']     \n",
      "                                                                                                  \n",
      " conv2d_79 (Conv2D)             (None, 13, 13, 224)  351456      ['activation_92[0][0]']          \n",
      "                                                                                                  \n",
      " batch_normalization_74 (BatchN  (None, 13, 13, 192)  768        ['conv2d_74[0][0]']              \n",
      " ormalization)                                                                                    \n",
      "                                                                                                  \n",
      " batch_normalization_79 (BatchN  (None, 13, 13, 224)  896        ['conv2d_79[0][0]']              \n",
      " ormalization)                                                                                    \n",
      "                                                                                                  \n",
      " activation_88 (Activation)     (None, 13, 13, 192)  0           ['batch_normalization_74[0][0]'] \n",
      "                                                                                                  \n",
      " activation_93 (Activation)     (None, 13, 13, 224)  0           ['batch_normalization_79[0][0]'] \n",
      "                                                                                                  \n",
      " conv2d_75 (Conv2D)             (None, 13, 13, 256)  344320      ['activation_88[0][0]']          \n",
      "                                                                                                  \n",
      " conv2d_80 (Conv2D)             (None, 13, 13, 256)  401664      ['activation_93[0][0]']          \n",
      "                                                                                                  \n",
      " batch_normalization_75 (BatchN  (None, 13, 13, 256)  1024       ['conv2d_75[0][0]']              \n",
      " ormalization)                                                                                    \n",
      "                                                                                                  \n",
      " batch_normalization_80 (BatchN  (None, 13, 13, 256)  1024       ['conv2d_80[0][0]']              \n",
      " ormalization)                                                                                    \n",
      "                                                                                                  \n",
      " activation_89 (Activation)     (None, 13, 13, 256)  0           ['batch_normalization_75[0][0]'] \n",
      "                                                                                                  \n",
      " activation_94 (Activation)     (None, 13, 13, 256)  0           ['batch_normalization_80[0][0]'] \n",
      "                                                                                                  \n",
      " average_pooling2d_7 (AveragePo  (None, 13, 13, 1024  0          ['tf.math.multiply_6[0][0]']     \n",
      " oling2D)                       )                                                                 \n",
      "                                                                                                  \n",
      " conv2d_73 (Conv2D)             (None, 13, 13, 384)  393600      ['tf.math.multiply_6[0][0]']     \n",
      "                                                                                                  \n",
      " conv2d_76 (Conv2D)             (None, 13, 13, 256)  459008      ['activation_89[0][0]']          \n",
      "                                                                                                  \n",
      " conv2d_81 (Conv2D)             (None, 13, 13, 256)  459008      ['activation_94[0][0]']          \n",
      "                                                                                                  \n",
      " conv2d_82 (Conv2D)             (None, 13, 13, 128)  131200      ['average_pooling2d_7[0][0]']    \n",
      "                                                                                                  \n",
      " batch_normalization_73 (BatchN  (None, 13, 13, 384)  1536       ['conv2d_73[0][0]']              \n",
      " ormalization)                                                                                    \n",
      "                                                                                                  \n",
      " batch_normalization_76 (BatchN  (None, 13, 13, 256)  1024       ['conv2d_76[0][0]']              \n",
      " ormalization)                                                                                    \n",
      "                                                                                                  \n",
      " batch_normalization_81 (BatchN  (None, 13, 13, 256)  1024       ['conv2d_81[0][0]']              \n",
      " ormalization)                                                                                    \n",
      "                                                                                                  \n",
      " batch_normalization_82 (BatchN  (None, 13, 13, 128)  512        ['conv2d_82[0][0]']              \n",
      " ormalization)                                                                                    \n",
      "                                                                                                  \n",
      " activation_87 (Activation)     (None, 13, 13, 384)  0           ['batch_normalization_73[0][0]'] \n",
      "                                                                                                  \n",
      " activation_90 (Activation)     (None, 13, 13, 256)  0           ['batch_normalization_76[0][0]'] \n",
      "                                                                                                  \n",
      " activation_95 (Activation)     (None, 13, 13, 256)  0           ['batch_normalization_81[0][0]'] \n",
      "                                                                                                  \n",
      " activation_96 (Activation)     (None, 13, 13, 128)  0           ['batch_normalization_82[0][0]'] \n",
      "                                                                                                  \n",
      " Inception_Block_B3 (Concatenat  (None, 13, 13, 1024  0          ['activation_87[0][0]',          \n",
      " e)                             )                                 'activation_90[0][0]',          \n",
      "                                                                  'activation_95[0][0]',          \n",
      "                                                                  'activation_96[0][0]']          \n",
      "                                                                                                  \n",
      " global_average_pooling2d_7 (Gl  (None, 1024)        0           ['Inception_Block_B3[0][0]']     \n",
      " obalAveragePooling2D)                                                                            \n",
      "                                                                                                  \n",
      " dense_14 (Dense)               (None, 256)          262400      ['global_average_pooling2d_7[0][0\n",
      "                                                                 ]']                              \n",
      "                                                                                                  \n",
      " activation_97 (Activation)     (None, 256)          0           ['dense_14[0][0]']               \n",
      "                                                                                                  \n",
      " dense_15 (Dense)               (None, 1024)         263168      ['activation_97[0][0]']          \n",
      "                                                                                                  \n",
      " activation_98 (Activation)     (None, 1024)         0           ['dense_15[0][0]']               \n",
      "                                                                                                  \n",
      " reshape_7 (Reshape)            (None, 1, 1, 1024)   0           ['activation_98[0][0]']          \n",
      "                                                                                                  \n",
      " tf.math.multiply_7 (TFOpLambda  (None, 13, 13, 1024  0          ['Inception_Block_B3[0][0]',     \n",
      " )                              )                                 'reshape_7[0][0]']              \n",
      "                                                                                                  \n",
      " conv2d_87 (Conv2D)             (None, 13, 13, 192)  196800      ['tf.math.multiply_7[0][0]']     \n",
      "                                                                                                  \n",
      " batch_normalization_87 (BatchN  (None, 13, 13, 192)  768        ['conv2d_87[0][0]']              \n",
      " ormalization)                                                                                    \n",
      "                                                                                                  \n",
      " activation_103 (Activation)    (None, 13, 13, 192)  0           ['batch_normalization_87[0][0]'] \n",
      "                                                                                                  \n",
      " conv2d_88 (Conv2D)             (None, 13, 13, 224)  301280      ['activation_103[0][0]']         \n",
      "                                                                                                  \n",
      " batch_normalization_88 (BatchN  (None, 13, 13, 224)  896        ['conv2d_88[0][0]']              \n",
      " ormalization)                                                                                    \n",
      "                                                                                                  \n",
      " activation_104 (Activation)    (None, 13, 13, 224)  0           ['batch_normalization_88[0][0]'] \n",
      "                                                                                                  \n",
      " conv2d_84 (Conv2D)             (None, 13, 13, 192)  196800      ['tf.math.multiply_7[0][0]']     \n",
      "                                                                                                  \n",
      " conv2d_89 (Conv2D)             (None, 13, 13, 224)  351456      ['activation_104[0][0]']         \n",
      "                                                                                                  \n",
      " batch_normalization_84 (BatchN  (None, 13, 13, 192)  768        ['conv2d_84[0][0]']              \n",
      " ormalization)                                                                                    \n",
      "                                                                                                  \n",
      " batch_normalization_89 (BatchN  (None, 13, 13, 224)  896        ['conv2d_89[0][0]']              \n",
      " ormalization)                                                                                    \n",
      "                                                                                                  \n",
      " activation_100 (Activation)    (None, 13, 13, 192)  0           ['batch_normalization_84[0][0]'] \n",
      "                                                                                                  \n",
      " activation_105 (Activation)    (None, 13, 13, 224)  0           ['batch_normalization_89[0][0]'] \n",
      "                                                                                                  \n",
      " conv2d_85 (Conv2D)             (None, 13, 13, 256)  344320      ['activation_100[0][0]']         \n",
      "                                                                                                  \n",
      " conv2d_90 (Conv2D)             (None, 13, 13, 256)  401664      ['activation_105[0][0]']         \n",
      "                                                                                                  \n",
      " batch_normalization_85 (BatchN  (None, 13, 13, 256)  1024       ['conv2d_85[0][0]']              \n",
      " ormalization)                                                                                    \n",
      "                                                                                                  \n",
      " batch_normalization_90 (BatchN  (None, 13, 13, 256)  1024       ['conv2d_90[0][0]']              \n",
      " ormalization)                                                                                    \n",
      "                                                                                                  \n",
      " activation_101 (Activation)    (None, 13, 13, 256)  0           ['batch_normalization_85[0][0]'] \n",
      "                                                                                                  \n",
      " activation_106 (Activation)    (None, 13, 13, 256)  0           ['batch_normalization_90[0][0]'] \n",
      "                                                                                                  \n",
      " average_pooling2d_8 (AveragePo  (None, 13, 13, 1024  0          ['tf.math.multiply_7[0][0]']     \n",
      " oling2D)                       )                                                                 \n",
      "                                                                                                  \n",
      " conv2d_83 (Conv2D)             (None, 13, 13, 384)  393600      ['tf.math.multiply_7[0][0]']     \n",
      "                                                                                                  \n",
      " conv2d_86 (Conv2D)             (None, 13, 13, 256)  459008      ['activation_101[0][0]']         \n",
      "                                                                                                  \n",
      " conv2d_91 (Conv2D)             (None, 13, 13, 256)  459008      ['activation_106[0][0]']         \n",
      "                                                                                                  \n",
      " conv2d_92 (Conv2D)             (None, 13, 13, 128)  131200      ['average_pooling2d_8[0][0]']    \n",
      "                                                                                                  \n",
      " batch_normalization_83 (BatchN  (None, 13, 13, 384)  1536       ['conv2d_83[0][0]']              \n",
      " ormalization)                                                                                    \n",
      "                                                                                                  \n",
      " batch_normalization_86 (BatchN  (None, 13, 13, 256)  1024       ['conv2d_86[0][0]']              \n",
      " ormalization)                                                                                    \n",
      "                                                                                                  \n",
      " batch_normalization_91 (BatchN  (None, 13, 13, 256)  1024       ['conv2d_91[0][0]']              \n",
      " ormalization)                                                                                    \n",
      "                                                                                                  \n",
      " batch_normalization_92 (BatchN  (None, 13, 13, 128)  512        ['conv2d_92[0][0]']              \n",
      " ormalization)                                                                                    \n",
      "                                                                                                  \n",
      " activation_99 (Activation)     (None, 13, 13, 384)  0           ['batch_normalization_83[0][0]'] \n",
      "                                                                                                  \n",
      " activation_102 (Activation)    (None, 13, 13, 256)  0           ['batch_normalization_86[0][0]'] \n",
      "                                                                                                  \n",
      " activation_107 (Activation)    (None, 13, 13, 256)  0           ['batch_normalization_91[0][0]'] \n",
      "                                                                                                  \n",
      " activation_108 (Activation)    (None, 13, 13, 128)  0           ['batch_normalization_92[0][0]'] \n",
      "                                                                                                  \n",
      " Inception_Block_B4 (Concatenat  (None, 13, 13, 1024  0          ['activation_99[0][0]',          \n",
      " e)                             )                                 'activation_102[0][0]',         \n",
      "                                                                  'activation_107[0][0]',         \n",
      "                                                                  'activation_108[0][0]']         \n",
      "                                                                                                  \n",
      " global_average_pooling2d_8 (Gl  (None, 1024)        0           ['Inception_Block_B4[0][0]']     \n",
      " obalAveragePooling2D)                                                                            \n",
      "                                                                                                  \n",
      " dense_16 (Dense)               (None, 256)          262400      ['global_average_pooling2d_8[0][0\n",
      "                                                                 ]']                              \n",
      "                                                                                                  \n",
      " activation_109 (Activation)    (None, 256)          0           ['dense_16[0][0]']               \n",
      "                                                                                                  \n",
      " dense_17 (Dense)               (None, 1024)         263168      ['activation_109[0][0]']         \n",
      "                                                                                                  \n",
      " activation_110 (Activation)    (None, 1024)         0           ['dense_17[0][0]']               \n",
      "                                                                                                  \n",
      " reshape_8 (Reshape)            (None, 1, 1, 1024)   0           ['activation_110[0][0]']         \n",
      "                                                                                                  \n",
      " tf.math.multiply_8 (TFOpLambda  (None, 13, 13, 1024  0          ['Inception_Block_B4[0][0]',     \n",
      " )                              )                                 'reshape_8[0][0]']              \n",
      "                                                                                                  \n",
      " conv2d_97 (Conv2D)             (None, 13, 13, 192)  196800      ['tf.math.multiply_8[0][0]']     \n",
      "                                                                                                  \n",
      " batch_normalization_97 (BatchN  (None, 13, 13, 192)  768        ['conv2d_97[0][0]']              \n",
      " ormalization)                                                                                    \n",
      "                                                                                                  \n",
      " activation_115 (Activation)    (None, 13, 13, 192)  0           ['batch_normalization_97[0][0]'] \n",
      "                                                                                                  \n",
      " conv2d_98 (Conv2D)             (None, 13, 13, 224)  301280      ['activation_115[0][0]']         \n",
      "                                                                                                  \n",
      " batch_normalization_98 (BatchN  (None, 13, 13, 224)  896        ['conv2d_98[0][0]']              \n",
      " ormalization)                                                                                    \n",
      "                                                                                                  \n",
      " activation_116 (Activation)    (None, 13, 13, 224)  0           ['batch_normalization_98[0][0]'] \n",
      "                                                                                                  \n",
      " conv2d_94 (Conv2D)             (None, 13, 13, 192)  196800      ['tf.math.multiply_8[0][0]']     \n",
      "                                                                                                  \n",
      " conv2d_99 (Conv2D)             (None, 13, 13, 224)  351456      ['activation_116[0][0]']         \n",
      "                                                                                                  \n",
      " batch_normalization_94 (BatchN  (None, 13, 13, 192)  768        ['conv2d_94[0][0]']              \n",
      " ormalization)                                                                                    \n",
      "                                                                                                  \n",
      " batch_normalization_99 (BatchN  (None, 13, 13, 224)  896        ['conv2d_99[0][0]']              \n",
      " ormalization)                                                                                    \n",
      "                                                                                                  \n",
      " activation_112 (Activation)    (None, 13, 13, 192)  0           ['batch_normalization_94[0][0]'] \n",
      "                                                                                                  \n",
      " activation_117 (Activation)    (None, 13, 13, 224)  0           ['batch_normalization_99[0][0]'] \n",
      "                                                                                                  \n",
      " conv2d_95 (Conv2D)             (None, 13, 13, 256)  344320      ['activation_112[0][0]']         \n",
      "                                                                                                  \n",
      " conv2d_100 (Conv2D)            (None, 13, 13, 256)  401664      ['activation_117[0][0]']         \n",
      "                                                                                                  \n",
      " batch_normalization_95 (BatchN  (None, 13, 13, 256)  1024       ['conv2d_95[0][0]']              \n",
      " ormalization)                                                                                    \n",
      "                                                                                                  \n",
      " batch_normalization_100 (Batch  (None, 13, 13, 256)  1024       ['conv2d_100[0][0]']             \n",
      " Normalization)                                                                                   \n",
      "                                                                                                  \n",
      " activation_113 (Activation)    (None, 13, 13, 256)  0           ['batch_normalization_95[0][0]'] \n",
      "                                                                                                  \n",
      " activation_118 (Activation)    (None, 13, 13, 256)  0           ['batch_normalization_100[0][0]']\n",
      "                                                                                                  \n",
      " average_pooling2d_9 (AveragePo  (None, 13, 13, 1024  0          ['tf.math.multiply_8[0][0]']     \n",
      " oling2D)                       )                                                                 \n",
      "                                                                                                  \n",
      " conv2d_93 (Conv2D)             (None, 13, 13, 384)  393600      ['tf.math.multiply_8[0][0]']     \n",
      "                                                                                                  \n",
      " conv2d_96 (Conv2D)             (None, 13, 13, 256)  459008      ['activation_113[0][0]']         \n",
      "                                                                                                  \n",
      " conv2d_101 (Conv2D)            (None, 13, 13, 256)  459008      ['activation_118[0][0]']         \n",
      "                                                                                                  \n",
      " conv2d_102 (Conv2D)            (None, 13, 13, 128)  131200      ['average_pooling2d_9[0][0]']    \n",
      "                                                                                                  \n",
      " batch_normalization_93 (BatchN  (None, 13, 13, 384)  1536       ['conv2d_93[0][0]']              \n",
      " ormalization)                                                                                    \n",
      "                                                                                                  \n",
      " batch_normalization_96 (BatchN  (None, 13, 13, 256)  1024       ['conv2d_96[0][0]']              \n",
      " ormalization)                                                                                    \n",
      "                                                                                                  \n",
      " batch_normalization_101 (Batch  (None, 13, 13, 256)  1024       ['conv2d_101[0][0]']             \n",
      " Normalization)                                                                                   \n",
      "                                                                                                  \n",
      " batch_normalization_102 (Batch  (None, 13, 13, 128)  512        ['conv2d_102[0][0]']             \n",
      " Normalization)                                                                                   \n",
      "                                                                                                  \n",
      " activation_111 (Activation)    (None, 13, 13, 384)  0           ['batch_normalization_93[0][0]'] \n",
      "                                                                                                  \n",
      " activation_114 (Activation)    (None, 13, 13, 256)  0           ['batch_normalization_96[0][0]'] \n",
      "                                                                                                  \n",
      " activation_119 (Activation)    (None, 13, 13, 256)  0           ['batch_normalization_101[0][0]']\n",
      "                                                                                                  \n",
      " activation_120 (Activation)    (None, 13, 13, 128)  0           ['batch_normalization_102[0][0]']\n",
      "                                                                                                  \n",
      " Inception_Block_B5 (Concatenat  (None, 13, 13, 1024  0          ['activation_111[0][0]',         \n",
      " e)                             )                                 'activation_114[0][0]',         \n",
      "                                                                  'activation_119[0][0]',         \n",
      "                                                                  'activation_120[0][0]']         \n",
      "                                                                                                  \n",
      " global_average_pooling2d_9 (Gl  (None, 1024)        0           ['Inception_Block_B5[0][0]']     \n",
      " obalAveragePooling2D)                                                                            \n",
      "                                                                                                  \n",
      " dense_18 (Dense)               (None, 256)          262400      ['global_average_pooling2d_9[0][0\n",
      "                                                                 ]']                              \n",
      "                                                                                                  \n",
      " activation_121 (Activation)    (None, 256)          0           ['dense_18[0][0]']               \n",
      "                                                                                                  \n",
      " dense_19 (Dense)               (None, 1024)         263168      ['activation_121[0][0]']         \n",
      "                                                                                                  \n",
      " activation_122 (Activation)    (None, 1024)         0           ['dense_19[0][0]']               \n",
      "                                                                                                  \n",
      " reshape_9 (Reshape)            (None, 1, 1, 1024)   0           ['activation_122[0][0]']         \n",
      "                                                                                                  \n",
      " tf.math.multiply_9 (TFOpLambda  (None, 13, 13, 1024  0          ['Inception_Block_B5[0][0]',     \n",
      " )                              )                                 'reshape_9[0][0]']              \n",
      "                                                                                                  \n",
      " conv2d_107 (Conv2D)            (None, 13, 13, 192)  196800      ['tf.math.multiply_9[0][0]']     \n",
      "                                                                                                  \n",
      " batch_normalization_107 (Batch  (None, 13, 13, 192)  768        ['conv2d_107[0][0]']             \n",
      " Normalization)                                                                                   \n",
      "                                                                                                  \n",
      " activation_127 (Activation)    (None, 13, 13, 192)  0           ['batch_normalization_107[0][0]']\n",
      "                                                                                                  \n",
      " conv2d_108 (Conv2D)            (None, 13, 13, 224)  301280      ['activation_127[0][0]']         \n",
      "                                                                                                  \n",
      " batch_normalization_108 (Batch  (None, 13, 13, 224)  896        ['conv2d_108[0][0]']             \n",
      " Normalization)                                                                                   \n",
      "                                                                                                  \n",
      " activation_128 (Activation)    (None, 13, 13, 224)  0           ['batch_normalization_108[0][0]']\n",
      "                                                                                                  \n",
      " conv2d_104 (Conv2D)            (None, 13, 13, 192)  196800      ['tf.math.multiply_9[0][0]']     \n",
      "                                                                                                  \n",
      " conv2d_109 (Conv2D)            (None, 13, 13, 224)  351456      ['activation_128[0][0]']         \n",
      "                                                                                                  \n",
      " batch_normalization_104 (Batch  (None, 13, 13, 192)  768        ['conv2d_104[0][0]']             \n",
      " Normalization)                                                                                   \n",
      "                                                                                                  \n",
      " batch_normalization_109 (Batch  (None, 13, 13, 224)  896        ['conv2d_109[0][0]']             \n",
      " Normalization)                                                                                   \n",
      "                                                                                                  \n",
      " activation_124 (Activation)    (None, 13, 13, 192)  0           ['batch_normalization_104[0][0]']\n",
      "                                                                                                  \n",
      " activation_129 (Activation)    (None, 13, 13, 224)  0           ['batch_normalization_109[0][0]']\n",
      "                                                                                                  \n",
      " conv2d_105 (Conv2D)            (None, 13, 13, 256)  344320      ['activation_124[0][0]']         \n",
      "                                                                                                  \n",
      " conv2d_110 (Conv2D)            (None, 13, 13, 256)  401664      ['activation_129[0][0]']         \n",
      "                                                                                                  \n",
      " batch_normalization_105 (Batch  (None, 13, 13, 256)  1024       ['conv2d_105[0][0]']             \n",
      " Normalization)                                                                                   \n",
      "                                                                                                  \n",
      " batch_normalization_110 (Batch  (None, 13, 13, 256)  1024       ['conv2d_110[0][0]']             \n",
      " Normalization)                                                                                   \n",
      "                                                                                                  \n",
      " activation_125 (Activation)    (None, 13, 13, 256)  0           ['batch_normalization_105[0][0]']\n",
      "                                                                                                  \n",
      " activation_130 (Activation)    (None, 13, 13, 256)  0           ['batch_normalization_110[0][0]']\n",
      "                                                                                                  \n",
      " average_pooling2d_10 (AverageP  (None, 13, 13, 1024  0          ['tf.math.multiply_9[0][0]']     \n",
      " ooling2D)                      )                                                                 \n",
      "                                                                                                  \n",
      " conv2d_103 (Conv2D)            (None, 13, 13, 384)  393600      ['tf.math.multiply_9[0][0]']     \n",
      "                                                                                                  \n",
      " conv2d_106 (Conv2D)            (None, 13, 13, 256)  459008      ['activation_125[0][0]']         \n",
      "                                                                                                  \n",
      " conv2d_111 (Conv2D)            (None, 13, 13, 256)  459008      ['activation_130[0][0]']         \n",
      "                                                                                                  \n",
      " conv2d_112 (Conv2D)            (None, 13, 13, 128)  131200      ['average_pooling2d_10[0][0]']   \n",
      "                                                                                                  \n",
      " batch_normalization_103 (Batch  (None, 13, 13, 384)  1536       ['conv2d_103[0][0]']             \n",
      " Normalization)                                                                                   \n",
      "                                                                                                  \n",
      " batch_normalization_106 (Batch  (None, 13, 13, 256)  1024       ['conv2d_106[0][0]']             \n",
      " Normalization)                                                                                   \n",
      "                                                                                                  \n",
      " batch_normalization_111 (Batch  (None, 13, 13, 256)  1024       ['conv2d_111[0][0]']             \n",
      " Normalization)                                                                                   \n",
      "                                                                                                  \n",
      " batch_normalization_112 (Batch  (None, 13, 13, 128)  512        ['conv2d_112[0][0]']             \n",
      " Normalization)                                                                                   \n",
      "                                                                                                  \n",
      " activation_123 (Activation)    (None, 13, 13, 384)  0           ['batch_normalization_103[0][0]']\n",
      "                                                                                                  \n",
      " activation_126 (Activation)    (None, 13, 13, 256)  0           ['batch_normalization_106[0][0]']\n",
      "                                                                                                  \n",
      " activation_131 (Activation)    (None, 13, 13, 256)  0           ['batch_normalization_111[0][0]']\n",
      "                                                                                                  \n",
      " activation_132 (Activation)    (None, 13, 13, 128)  0           ['batch_normalization_112[0][0]']\n",
      "                                                                                                  \n",
      " Inception_Block_B6 (Concatenat  (None, 13, 13, 1024  0          ['activation_123[0][0]',         \n",
      " e)                             )                                 'activation_126[0][0]',         \n",
      "                                                                  'activation_131[0][0]',         \n",
      "                                                                  'activation_132[0][0]']         \n",
      "                                                                                                  \n",
      " global_average_pooling2d_10 (G  (None, 1024)        0           ['Inception_Block_B6[0][0]']     \n",
      " lobalAveragePooling2D)                                                                           \n",
      "                                                                                                  \n",
      " dense_20 (Dense)               (None, 256)          262400      ['global_average_pooling2d_10[0][\n",
      "                                                                 0]']                             \n",
      "                                                                                                  \n",
      " activation_133 (Activation)    (None, 256)          0           ['dense_20[0][0]']               \n",
      "                                                                                                  \n",
      " dense_21 (Dense)               (None, 1024)         263168      ['activation_133[0][0]']         \n",
      "                                                                                                  \n",
      " activation_134 (Activation)    (None, 1024)         0           ['dense_21[0][0]']               \n",
      "                                                                                                  \n",
      " reshape_10 (Reshape)           (None, 1, 1, 1024)   0           ['activation_134[0][0]']         \n",
      "                                                                                                  \n",
      " tf.math.multiply_10 (TFOpLambd  (None, 13, 13, 1024  0          ['Inception_Block_B6[0][0]',     \n",
      " a)                             )                                 'reshape_10[0][0]']             \n",
      "                                                                                                  \n",
      " conv2d_115 (Conv2D)            (None, 13, 13, 256)  262400      ['tf.math.multiply_10[0][0]']    \n",
      "                                                                                                  \n",
      " batch_normalization_115 (Batch  (None, 13, 13, 256)  1024       ['conv2d_115[0][0]']             \n",
      " Normalization)                                                                                   \n",
      "                                                                                                  \n",
      " activation_137 (Activation)    (None, 13, 13, 256)  0           ['batch_normalization_115[0][0]']\n",
      "                                                                                                  \n",
      " conv2d_116 (Conv2D)            (None, 13, 13, 320)  573760      ['activation_137[0][0]']         \n",
      "                                                                                                  \n",
      " batch_normalization_116 (Batch  (None, 13, 13, 320)  1280       ['conv2d_116[0][0]']             \n",
      " Normalization)                                                                                   \n",
      "                                                                                                  \n",
      " activation_138 (Activation)    (None, 13, 13, 320)  0           ['batch_normalization_116[0][0]']\n",
      "                                                                                                  \n",
      " conv2d_113 (Conv2D)            (None, 13, 13, 192)  196800      ['tf.math.multiply_10[0][0]']    \n",
      "                                                                                                  \n",
      " conv2d_117 (Conv2D)            (None, 13, 13, 320)  717120      ['activation_138[0][0]']         \n",
      "                                                                                                  \n",
      " batch_normalization_113 (Batch  (None, 13, 13, 192)  768        ['conv2d_113[0][0]']             \n",
      " Normalization)                                                                                   \n",
      "                                                                                                  \n",
      " batch_normalization_117 (Batch  (None, 13, 13, 320)  1280       ['conv2d_117[0][0]']             \n",
      " Normalization)                                                                                   \n",
      "                                                                                                  \n",
      " activation_135 (Activation)    (None, 13, 13, 192)  0           ['batch_normalization_113[0][0]']\n",
      "                                                                                                  \n",
      " activation_139 (Activation)    (None, 13, 13, 320)  0           ['batch_normalization_117[0][0]']\n",
      "                                                                                                  \n",
      " conv2d_114 (Conv2D)            (None, 7, 7, 192)    331968      ['activation_135[0][0]']         \n",
      "                                                                                                  \n",
      " conv2d_118 (Conv2D)            (None, 7, 7, 320)    921920      ['activation_139[0][0]']         \n",
      "                                                                                                  \n",
      " batch_normalization_114 (Batch  (None, 7, 7, 192)   768         ['conv2d_114[0][0]']             \n",
      " Normalization)                                                                                   \n",
      "                                                                                                  \n",
      " batch_normalization_118 (Batch  (None, 7, 7, 320)   1280        ['conv2d_118[0][0]']             \n",
      " Normalization)                                                                                   \n",
      "                                                                                                  \n",
      " activation_136 (Activation)    (None, 7, 7, 192)    0           ['batch_normalization_114[0][0]']\n",
      "                                                                                                  \n",
      " activation_140 (Activation)    (None, 7, 7, 320)    0           ['batch_normalization_118[0][0]']\n",
      "                                                                                                  \n",
      " max_pooling2d_3 (MaxPooling2D)  (None, 7, 7, 1024)  0           ['tf.math.multiply_10[0][0]']    \n",
      "                                                                                                  \n",
      " Reduction_Block_2 (Concatenate  (None, 7, 7, 1536)  0           ['activation_136[0][0]',         \n",
      " )                                                                'activation_140[0][0]',         \n",
      "                                                                  'max_pooling2d_3[0][0]']        \n",
      "                                                                                                  \n",
      " conv2d_123 (Conv2D)            (None, 7, 7, 384)    590208      ['Reduction_Block_2[0][0]']      \n",
      "                                                                                                  \n",
      " batch_normalization_123 (Batch  (None, 7, 7, 384)   1536        ['conv2d_123[0][0]']             \n",
      " Normalization)                                                                                   \n",
      "                                                                                                  \n",
      " activation_145 (Activation)    (None, 7, 7, 384)    0           ['batch_normalization_123[0][0]']\n",
      "                                                                                                  \n",
      " conv2d_124 (Conv2D)            (None, 7, 7, 512)    590336      ['activation_145[0][0]']         \n",
      "                                                                                                  \n",
      " batch_normalization_124 (Batch  (None, 7, 7, 512)   2048        ['conv2d_124[0][0]']             \n",
      " Normalization)                                                                                   \n",
      "                                                                                                  \n",
      " activation_146 (Activation)    (None, 7, 7, 512)    0           ['batch_normalization_124[0][0]']\n",
      "                                                                                                  \n",
      " conv2d_120 (Conv2D)            (None, 7, 7, 384)    590208      ['Reduction_Block_2[0][0]']      \n",
      "                                                                                                  \n",
      " conv2d_125 (Conv2D)            (None, 7, 7, 512)    786944      ['activation_146[0][0]']         \n",
      "                                                                                                  \n",
      " batch_normalization_120 (Batch  (None, 7, 7, 384)   1536        ['conv2d_120[0][0]']             \n",
      " Normalization)                                                                                   \n",
      "                                                                                                  \n",
      " batch_normalization_125 (Batch  (None, 7, 7, 512)   2048        ['conv2d_125[0][0]']             \n",
      " Normalization)                                                                                   \n",
      "                                                                                                  \n",
      " activation_142 (Activation)    (None, 7, 7, 384)    0           ['batch_normalization_120[0][0]']\n",
      "                                                                                                  \n",
      " activation_147 (Activation)    (None, 7, 7, 512)    0           ['batch_normalization_125[0][0]']\n",
      "                                                                                                  \n",
      " average_pooling2d_11 (AverageP  (None, 7, 7, 1536)  0           ['Reduction_Block_2[0][0]']      \n",
      " ooling2D)                                                                                        \n",
      "                                                                                                  \n",
      " conv2d_119 (Conv2D)            (None, 7, 7, 256)    393472      ['Reduction_Block_2[0][0]']      \n",
      "                                                                                                  \n",
      " conv2d_121 (Conv2D)            (None, 7, 7, 512)    590336      ['activation_142[0][0]']         \n",
      "                                                                                                  \n",
      " conv2d_122 (Conv2D)            (None, 7, 7, 512)    590336      ['activation_142[0][0]']         \n",
      "                                                                                                  \n",
      " conv2d_126 (Conv2D)            (None, 7, 7, 512)    786944      ['activation_147[0][0]']         \n",
      "                                                                                                  \n",
      " conv2d_127 (Conv2D)            (None, 7, 7, 512)    786944      ['activation_147[0][0]']         \n",
      "                                                                                                  \n",
      " conv2d_128 (Conv2D)            (None, 7, 7, 256)    393472      ['average_pooling2d_11[0][0]']   \n",
      "                                                                                                  \n",
      " batch_normalization_119 (Batch  (None, 7, 7, 256)   1024        ['conv2d_119[0][0]']             \n",
      " Normalization)                                                                                   \n",
      "                                                                                                  \n",
      " batch_normalization_121 (Batch  (None, 7, 7, 512)   2048        ['conv2d_121[0][0]']             \n",
      " Normalization)                                                                                   \n",
      "                                                                                                  \n",
      " batch_normalization_122 (Batch  (None, 7, 7, 512)   2048        ['conv2d_122[0][0]']             \n",
      " Normalization)                                                                                   \n",
      "                                                                                                  \n",
      " batch_normalization_126 (Batch  (None, 7, 7, 512)   2048        ['conv2d_126[0][0]']             \n",
      " Normalization)                                                                                   \n",
      "                                                                                                  \n",
      " batch_normalization_127 (Batch  (None, 7, 7, 512)   2048        ['conv2d_127[0][0]']             \n",
      " Normalization)                                                                                   \n",
      "                                                                                                  \n",
      " batch_normalization_128 (Batch  (None, 7, 7, 256)   1024        ['conv2d_128[0][0]']             \n",
      " Normalization)                                                                                   \n",
      "                                                                                                  \n",
      " activation_141 (Activation)    (None, 7, 7, 256)    0           ['batch_normalization_119[0][0]']\n",
      "                                                                                                  \n",
      " activation_143 (Activation)    (None, 7, 7, 512)    0           ['batch_normalization_121[0][0]']\n",
      "                                                                                                  \n",
      " activation_144 (Activation)    (None, 7, 7, 512)    0           ['batch_normalization_122[0][0]']\n",
      "                                                                                                  \n",
      " activation_148 (Activation)    (None, 7, 7, 512)    0           ['batch_normalization_126[0][0]']\n",
      "                                                                                                  \n",
      " activation_149 (Activation)    (None, 7, 7, 512)    0           ['batch_normalization_127[0][0]']\n",
      "                                                                                                  \n",
      " activation_150 (Activation)    (None, 7, 7, 256)    0           ['batch_normalization_128[0][0]']\n",
      "                                                                                                  \n",
      " Inception_Block_C0 (Concatenat  (None, 7, 7, 2560)  0           ['activation_141[0][0]',         \n",
      " e)                                                               'activation_143[0][0]',         \n",
      "                                                                  'activation_144[0][0]',         \n",
      "                                                                  'activation_148[0][0]',         \n",
      "                                                                  'activation_149[0][0]',         \n",
      "                                                                  'activation_150[0][0]']         \n",
      "                                                                                                  \n",
      " global_average_pooling2d_11 (G  (None, 2560)        0           ['Inception_Block_C0[0][0]']     \n",
      " lobalAveragePooling2D)                                                                           \n",
      "                                                                                                  \n",
      " dense_22 (Dense)               (None, 640)          1639040     ['global_average_pooling2d_11[0][\n",
      "                                                                 0]']                             \n",
      "                                                                                                  \n",
      " activation_151 (Activation)    (None, 640)          0           ['dense_22[0][0]']               \n",
      "                                                                                                  \n",
      " dense_23 (Dense)               (None, 2560)         1640960     ['activation_151[0][0]']         \n",
      "                                                                                                  \n",
      " activation_152 (Activation)    (None, 2560)         0           ['dense_23[0][0]']               \n",
      "                                                                                                  \n",
      " reshape_11 (Reshape)           (None, 1, 1, 2560)   0           ['activation_152[0][0]']         \n",
      "                                                                                                  \n",
      " tf.math.multiply_11 (TFOpLambd  (None, 7, 7, 2560)  0           ['Inception_Block_C0[0][0]',     \n",
      " a)                                                               'reshape_11[0][0]']             \n",
      "                                                                                                  \n",
      " conv2d_133 (Conv2D)            (None, 7, 7, 384)    983424      ['tf.math.multiply_11[0][0]']    \n",
      "                                                                                                  \n",
      " batch_normalization_133 (Batch  (None, 7, 7, 384)   1536        ['conv2d_133[0][0]']             \n",
      " Normalization)                                                                                   \n",
      "                                                                                                  \n",
      " activation_157 (Activation)    (None, 7, 7, 384)    0           ['batch_normalization_133[0][0]']\n",
      "                                                                                                  \n",
      " conv2d_134 (Conv2D)            (None, 7, 7, 512)    590336      ['activation_157[0][0]']         \n",
      "                                                                                                  \n",
      " batch_normalization_134 (Batch  (None, 7, 7, 512)   2048        ['conv2d_134[0][0]']             \n",
      " Normalization)                                                                                   \n",
      "                                                                                                  \n",
      " activation_158 (Activation)    (None, 7, 7, 512)    0           ['batch_normalization_134[0][0]']\n",
      "                                                                                                  \n",
      " conv2d_130 (Conv2D)            (None, 7, 7, 384)    983424      ['tf.math.multiply_11[0][0]']    \n",
      "                                                                                                  \n",
      " conv2d_135 (Conv2D)            (None, 7, 7, 512)    786944      ['activation_158[0][0]']         \n",
      "                                                                                                  \n",
      " batch_normalization_130 (Batch  (None, 7, 7, 384)   1536        ['conv2d_130[0][0]']             \n",
      " Normalization)                                                                                   \n",
      "                                                                                                  \n",
      " batch_normalization_135 (Batch  (None, 7, 7, 512)   2048        ['conv2d_135[0][0]']             \n",
      " Normalization)                                                                                   \n",
      "                                                                                                  \n",
      " activation_154 (Activation)    (None, 7, 7, 384)    0           ['batch_normalization_130[0][0]']\n",
      "                                                                                                  \n",
      " activation_159 (Activation)    (None, 7, 7, 512)    0           ['batch_normalization_135[0][0]']\n",
      "                                                                                                  \n",
      " average_pooling2d_12 (AverageP  (None, 7, 7, 2560)  0           ['tf.math.multiply_11[0][0]']    \n",
      " ooling2D)                                                                                        \n",
      "                                                                                                  \n",
      " conv2d_129 (Conv2D)            (None, 7, 7, 256)    655616      ['tf.math.multiply_11[0][0]']    \n",
      "                                                                                                  \n",
      " conv2d_131 (Conv2D)            (None, 7, 7, 512)    590336      ['activation_154[0][0]']         \n",
      "                                                                                                  \n",
      " conv2d_132 (Conv2D)            (None, 7, 7, 512)    590336      ['activation_154[0][0]']         \n",
      "                                                                                                  \n",
      " conv2d_136 (Conv2D)            (None, 7, 7, 512)    786944      ['activation_159[0][0]']         \n",
      "                                                                                                  \n",
      " conv2d_137 (Conv2D)            (None, 7, 7, 512)    786944      ['activation_159[0][0]']         \n",
      "                                                                                                  \n",
      " conv2d_138 (Conv2D)            (None, 7, 7, 256)    655616      ['average_pooling2d_12[0][0]']   \n",
      "                                                                                                  \n",
      " batch_normalization_129 (Batch  (None, 7, 7, 256)   1024        ['conv2d_129[0][0]']             \n",
      " Normalization)                                                                                   \n",
      "                                                                                                  \n",
      " batch_normalization_131 (Batch  (None, 7, 7, 512)   2048        ['conv2d_131[0][0]']             \n",
      " Normalization)                                                                                   \n",
      "                                                                                                  \n",
      " batch_normalization_132 (Batch  (None, 7, 7, 512)   2048        ['conv2d_132[0][0]']             \n",
      " Normalization)                                                                                   \n",
      "                                                                                                  \n",
      " batch_normalization_136 (Batch  (None, 7, 7, 512)   2048        ['conv2d_136[0][0]']             \n",
      " Normalization)                                                                                   \n",
      "                                                                                                  \n",
      " batch_normalization_137 (Batch  (None, 7, 7, 512)   2048        ['conv2d_137[0][0]']             \n",
      " Normalization)                                                                                   \n",
      "                                                                                                  \n",
      " batch_normalization_138 (Batch  (None, 7, 7, 256)   1024        ['conv2d_138[0][0]']             \n",
      " Normalization)                                                                                   \n",
      "                                                                                                  \n",
      " activation_153 (Activation)    (None, 7, 7, 256)    0           ['batch_normalization_129[0][0]']\n",
      "                                                                                                  \n",
      " activation_155 (Activation)    (None, 7, 7, 512)    0           ['batch_normalization_131[0][0]']\n",
      "                                                                                                  \n",
      " activation_156 (Activation)    (None, 7, 7, 512)    0           ['batch_normalization_132[0][0]']\n",
      "                                                                                                  \n",
      " activation_160 (Activation)    (None, 7, 7, 512)    0           ['batch_normalization_136[0][0]']\n",
      "                                                                                                  \n",
      " activation_161 (Activation)    (None, 7, 7, 512)    0           ['batch_normalization_137[0][0]']\n",
      "                                                                                                  \n",
      " activation_162 (Activation)    (None, 7, 7, 256)    0           ['batch_normalization_138[0][0]']\n",
      "                                                                                                  \n",
      " Inception_Block_C1 (Concatenat  (None, 7, 7, 2560)  0           ['activation_153[0][0]',         \n",
      " e)                                                               'activation_155[0][0]',         \n",
      "                                                                  'activation_156[0][0]',         \n",
      "                                                                  'activation_160[0][0]',         \n",
      "                                                                  'activation_161[0][0]',         \n",
      "                                                                  'activation_162[0][0]']         \n",
      "                                                                                                  \n",
      " global_average_pooling2d_12 (G  (None, 2560)        0           ['Inception_Block_C1[0][0]']     \n",
      " lobalAveragePooling2D)                                                                           \n",
      "                                                                                                  \n",
      " dense_24 (Dense)               (None, 640)          1639040     ['global_average_pooling2d_12[0][\n",
      "                                                                 0]']                             \n",
      "                                                                                                  \n",
      " activation_163 (Activation)    (None, 640)          0           ['dense_24[0][0]']               \n",
      "                                                                                                  \n",
      " dense_25 (Dense)               (None, 2560)         1640960     ['activation_163[0][0]']         \n",
      "                                                                                                  \n",
      " activation_164 (Activation)    (None, 2560)         0           ['dense_25[0][0]']               \n",
      "                                                                                                  \n",
      " reshape_12 (Reshape)           (None, 1, 1, 2560)   0           ['activation_164[0][0]']         \n",
      "                                                                                                  \n",
      " tf.math.multiply_12 (TFOpLambd  (None, 7, 7, 2560)  0           ['Inception_Block_C1[0][0]',     \n",
      " a)                                                               'reshape_12[0][0]']             \n",
      "                                                                                                  \n",
      " conv2d_143 (Conv2D)            (None, 7, 7, 384)    983424      ['tf.math.multiply_12[0][0]']    \n",
      "                                                                                                  \n",
      " batch_normalization_143 (Batch  (None, 7, 7, 384)   1536        ['conv2d_143[0][0]']             \n",
      " Normalization)                                                                                   \n",
      "                                                                                                  \n",
      " activation_169 (Activation)    (None, 7, 7, 384)    0           ['batch_normalization_143[0][0]']\n",
      "                                                                                                  \n",
      " conv2d_144 (Conv2D)            (None, 7, 7, 512)    590336      ['activation_169[0][0]']         \n",
      "                                                                                                  \n",
      " batch_normalization_144 (Batch  (None, 7, 7, 512)   2048        ['conv2d_144[0][0]']             \n",
      " Normalization)                                                                                   \n",
      "                                                                                                  \n",
      " activation_170 (Activation)    (None, 7, 7, 512)    0           ['batch_normalization_144[0][0]']\n",
      "                                                                                                  \n",
      " conv2d_140 (Conv2D)            (None, 7, 7, 384)    983424      ['tf.math.multiply_12[0][0]']    \n",
      "                                                                                                  \n",
      " conv2d_145 (Conv2D)            (None, 7, 7, 512)    786944      ['activation_170[0][0]']         \n",
      "                                                                                                  \n",
      " batch_normalization_140 (Batch  (None, 7, 7, 384)   1536        ['conv2d_140[0][0]']             \n",
      " Normalization)                                                                                   \n",
      "                                                                                                  \n",
      " batch_normalization_145 (Batch  (None, 7, 7, 512)   2048        ['conv2d_145[0][0]']             \n",
      " Normalization)                                                                                   \n",
      "                                                                                                  \n",
      " activation_166 (Activation)    (None, 7, 7, 384)    0           ['batch_normalization_140[0][0]']\n",
      "                                                                                                  \n",
      " activation_171 (Activation)    (None, 7, 7, 512)    0           ['batch_normalization_145[0][0]']\n",
      "                                                                                                  \n",
      " average_pooling2d_13 (AverageP  (None, 7, 7, 2560)  0           ['tf.math.multiply_12[0][0]']    \n",
      " ooling2D)                                                                                        \n",
      "                                                                                                  \n",
      " conv2d_139 (Conv2D)            (None, 7, 7, 256)    655616      ['tf.math.multiply_12[0][0]']    \n",
      "                                                                                                  \n",
      " conv2d_141 (Conv2D)            (None, 7, 7, 512)    590336      ['activation_166[0][0]']         \n",
      "                                                                                                  \n",
      " conv2d_142 (Conv2D)            (None, 7, 7, 512)    590336      ['activation_166[0][0]']         \n",
      "                                                                                                  \n",
      " conv2d_146 (Conv2D)            (None, 7, 7, 512)    786944      ['activation_171[0][0]']         \n",
      "                                                                                                  \n",
      " conv2d_147 (Conv2D)            (None, 7, 7, 512)    786944      ['activation_171[0][0]']         \n",
      "                                                                                                  \n",
      " conv2d_148 (Conv2D)            (None, 7, 7, 256)    655616      ['average_pooling2d_13[0][0]']   \n",
      "                                                                                                  \n",
      " batch_normalization_139 (Batch  (None, 7, 7, 256)   1024        ['conv2d_139[0][0]']             \n",
      " Normalization)                                                                                   \n",
      "                                                                                                  \n",
      " batch_normalization_141 (Batch  (None, 7, 7, 512)   2048        ['conv2d_141[0][0]']             \n",
      " Normalization)                                                                                   \n",
      "                                                                                                  \n",
      " batch_normalization_142 (Batch  (None, 7, 7, 512)   2048        ['conv2d_142[0][0]']             \n",
      " Normalization)                                                                                   \n",
      "                                                                                                  \n",
      " batch_normalization_146 (Batch  (None, 7, 7, 512)   2048        ['conv2d_146[0][0]']             \n",
      " Normalization)                                                                                   \n",
      "                                                                                                  \n",
      " batch_normalization_147 (Batch  (None, 7, 7, 512)   2048        ['conv2d_147[0][0]']             \n",
      " Normalization)                                                                                   \n",
      "                                                                                                  \n",
      " batch_normalization_148 (Batch  (None, 7, 7, 256)   1024        ['conv2d_148[0][0]']             \n",
      " Normalization)                                                                                   \n",
      "                                                                                                  \n",
      " activation_165 (Activation)    (None, 7, 7, 256)    0           ['batch_normalization_139[0][0]']\n",
      "                                                                                                  \n",
      " activation_167 (Activation)    (None, 7, 7, 512)    0           ['batch_normalization_141[0][0]']\n",
      "                                                                                                  \n",
      " activation_168 (Activation)    (None, 7, 7, 512)    0           ['batch_normalization_142[0][0]']\n",
      "                                                                                                  \n",
      " activation_172 (Activation)    (None, 7, 7, 512)    0           ['batch_normalization_146[0][0]']\n",
      "                                                                                                  \n",
      " activation_173 (Activation)    (None, 7, 7, 512)    0           ['batch_normalization_147[0][0]']\n",
      "                                                                                                  \n",
      " activation_174 (Activation)    (None, 7, 7, 256)    0           ['batch_normalization_148[0][0]']\n",
      "                                                                                                  \n",
      " Inception_Block_C2 (Concatenat  (None, 7, 7, 2560)  0           ['activation_165[0][0]',         \n",
      " e)                                                               'activation_167[0][0]',         \n",
      "                                                                  'activation_168[0][0]',         \n",
      "                                                                  'activation_172[0][0]',         \n",
      "                                                                  'activation_173[0][0]',         \n",
      "                                                                  'activation_174[0][0]']         \n",
      "                                                                                                  \n",
      " global_average_pooling2d_13 (G  (None, 2560)        0           ['Inception_Block_C2[0][0]']     \n",
      " lobalAveragePooling2D)                                                                           \n",
      "                                                                                                  \n",
      " dense_26 (Dense)               (None, 640)          1639040     ['global_average_pooling2d_13[0][\n",
      "                                                                 0]']                             \n",
      "                                                                                                  \n",
      " activation_175 (Activation)    (None, 640)          0           ['dense_26[0][0]']               \n",
      "                                                                                                  \n",
      " dense_27 (Dense)               (None, 2560)         1640960     ['activation_175[0][0]']         \n",
      "                                                                                                  \n",
      " activation_176 (Activation)    (None, 2560)         0           ['dense_27[0][0]']               \n",
      "                                                                                                  \n",
      " reshape_13 (Reshape)           (None, 1, 1, 2560)   0           ['activation_176[0][0]']         \n",
      "                                                                                                  \n",
      " tf.math.multiply_13 (TFOpLambd  (None, 7, 7, 2560)  0           ['Inception_Block_C2[0][0]',     \n",
      " a)                                                               'reshape_13[0][0]']             \n",
      "                                                                                                  \n",
      " tf.expand_dims (TFOpLambda)    (None, 1, 7, 7, 256  0           ['tf.math.multiply_13[0][0]']    \n",
      "                                0)                                                                \n",
      "                                                                                                  \n",
      " conv_lstm2d (ConvLSTM2D)       (None, 7, 7, 512)    6293504     ['tf.expand_dims[0][0]']         \n",
      "                                                                                                  \n",
      " batch_normalization_149 (Batch  (None, 7, 7, 512)   2048        ['conv_lstm2d[0][0]']            \n",
      " Normalization)                                                                                   \n",
      "                                                                                                  \n",
      " activation_177 (Activation)    (None, 7, 7, 512)    0           ['batch_normalization_149[0][0]']\n",
      "                                                                                                  \n",
      " global_average_pooling2d_14 (G  (None, 512)         0           ['activation_177[0][0]']         \n",
      " lobalAveragePooling2D)                                                                           \n",
      "                                                                                                  \n",
      " flatten (Flatten)              (None, 512)          0           ['global_average_pooling2d_14[0][\n",
      "                                                                 0]']                             \n",
      "                                                                                                  \n",
      " dense_29 (Dense)               (None, 5)            2565        ['flatten[0][0]']                \n",
      "                                                                                                  \n",
      "==================================================================================================\n",
      "Total params: 70,458,469\n",
      "Trainable params: 70,386,277\n",
      "Non-trainable params: 72,192\n",
      "__________________________________________________________________________________________________\n"
     ]
    }
   ],
   "source": [
    "global_model.summary()"
   ]
  },
  {
   "cell_type": "code",
   "execution_count": 49,
   "id": "c3fb8fc1",
   "metadata": {},
   "outputs": [
    {
     "data": {
      "text/plain": [
       "['client_1', 'client_2', 'client_3']"
      ]
     },
     "execution_count": 49,
     "metadata": {},
     "output_type": "execute_result"
    }
   ],
   "source": [
    "# len(clients_batched[client][1])\n",
    "# global_model.get_weights()\n",
    "client_names = list(clients_batched.keys())\n",
    "client_names"
   ]
  },
  {
   "cell_type": "code",
   "execution_count": 21,
   "id": "f4e99cf8",
   "metadata": {},
   "outputs": [],
   "source": [
    "# clients_batched"
   ]
  },
  {
   "cell_type": "code",
   "execution_count": 85,
   "id": "bac53a6c",
   "metadata": {},
   "outputs": [
    {
     "name": "stderr",
     "output_type": "stream",
     "text": [
      "Progress Bar:   0%|          | 0/3 [00:00<?, ?it/s]"
     ]
    },
    {
     "name": "stdout",
     "output_type": "stream",
     "text": [
      "Epoch 1/2\n",
      "814/814 - 114s - loss: 0.6526 - accuracy: 0.7870 - 114s/epoch - 140ms/step\n",
      "Epoch 2/2\n",
      "814/814 - 98s - loss: 0.3551 - accuracy: 0.9052 - 98s/epoch - 120ms/step\n"
     ]
    },
    {
     "name": "stderr",
     "output_type": "stream",
     "text": [
      "Progress Bar:  33%|███▎      | 1/3 [03:40<07:21, 220.64s/it]"
     ]
    },
    {
     "name": "stdout",
     "output_type": "stream",
     "text": [
      "Epoch 1/2\n"
     ]
    },
    {
     "name": "stderr",
     "output_type": "stream",
     "text": [
      "2023-09-12 10:17:10.289264: E tensorflow/core/grappler/optimizers/meta_optimizer.cc:903] layout failed: INVALID_ARGUMENT: MutableGraphView::SortTopologically error: detected edge(s) creating cycle(s) {'Inception_v4/conv_lstm2d/while/body/_1/Inception_v4/conv_lstm2d/while/clip_by_value_2' -> 'Inception_v4/conv_lstm2d/while/body/_1/Inception_v4/conv_lstm2d/while/mul_5', 'Inception_v4/conv_lstm2d/while/body/_1/Inception_v4/conv_lstm2d/while/clip_by_value' -> 'Inception_v4/conv_lstm2d/while/body/_1/Inception_v4/conv_lstm2d/while/mul_3', 'Inception_v4/conv_lstm2d/while/body/_1/Inception_v4/conv_lstm2d/while/convolution_6' -> 'Inception_v4/conv_lstm2d/while/body/_1/Inception_v4/conv_lstm2d/while/add_4', 'Inception_v4/conv_lstm2d/while/body/_1/Inception_v4/conv_lstm2d/while/mul_2' -> 'Inception_v4/conv_lstm2d/while/body/_1/Inception_v4/conv_lstm2d/while/add_5', 'Func/gradient_tape/Inception_v4/conv_lstm2d/while/Inception_v4/conv_lstm2d/while_grad/body/_189/input/_551' -> 'gradient_tape/Inception_v4/conv_lstm2d/while/Inception_v4/conv_lstm2d/while_grad/body/_189/gradient_tape/Inception_v4/conv_lstm2d/while/gradients/AddN'}.\n"
     ]
    },
    {
     "name": "stdout",
     "output_type": "stream",
     "text": [
      "315/315 - 50s - loss: 0.8442 - accuracy: 0.7002 - 50s/epoch - 158ms/step\n",
      "Epoch 2/2\n",
      "315/315 - 36s - loss: 0.4774 - accuracy: 0.8623 - 36s/epoch - 113ms/step\n"
     ]
    },
    {
     "name": "stderr",
     "output_type": "stream",
     "text": [
      "Progress Bar:  67%|██████▋   | 2/3 [05:11<02:24, 144.17s/it]"
     ]
    },
    {
     "name": "stdout",
     "output_type": "stream",
     "text": [
      "Epoch 1/2\n",
      "159/159 - 34s - loss: 0.6982 - accuracy: 0.7967 - 34s/epoch - 216ms/step\n",
      "Epoch 2/2\n",
      "159/159 - 19s - loss: 0.3798 - accuracy: 0.8927 - 19s/epoch - 121ms/step\n"
     ]
    },
    {
     "name": "stderr",
     "output_type": "stream",
     "text": [
      "Progress Bar: 100%|██████████| 3/3 [06:08<00:00, 122.95s/it]\n"
     ]
    },
    {
     "name": "stdout",
     "output_type": "stream",
     "text": [
      "32/32 [==============================] - 5s 43ms/step - loss: 1.9396 - accuracy: 0.2000\n",
      "comm_round: 0 | global_acc: 20.000% | global_loss: 1.9395619630813599\n"
     ]
    },
    {
     "name": "stderr",
     "output_type": "stream",
     "text": [
      "Progress Bar:   0%|          | 0/3 [00:00<?, ?it/s]"
     ]
    },
    {
     "name": "stdout",
     "output_type": "stream",
     "text": [
      "Epoch 1/2\n",
      "814/814 - 114s - loss: 0.5536 - accuracy: 0.8296 - 114s/epoch - 140ms/step\n",
      "Epoch 2/2\n",
      "814/814 - 98s - loss: 0.4022 - accuracy: 0.8882 - 98s/epoch - 120ms/step\n"
     ]
    },
    {
     "name": "stderr",
     "output_type": "stream",
     "text": [
      "Progress Bar:  33%|███▎      | 1/3 [03:42<07:24, 222.30s/it]"
     ]
    },
    {
     "name": "stdout",
     "output_type": "stream",
     "text": [
      "Epoch 1/2\n"
     ]
    },
    {
     "name": "stderr",
     "output_type": "stream",
     "text": [
      "2023-09-12 10:23:44.464941: E tensorflow/core/grappler/optimizers/meta_optimizer.cc:903] layout failed: INVALID_ARGUMENT: MutableGraphView::SortTopologically error: detected edge(s) creating cycle(s) {'Inception_v4/conv_lstm2d/while/body/_1/Inception_v4/conv_lstm2d/while/mul_2' -> 'Inception_v4/conv_lstm2d/while/body/_1/Inception_v4/conv_lstm2d/while/add_5', 'Inception_v4/conv_lstm2d/while/body/_1/Inception_v4/conv_lstm2d/while/clip_by_value' -> 'Inception_v4/conv_lstm2d/while/body/_1/Inception_v4/conv_lstm2d/while/mul_3', 'Inception_v4/conv_lstm2d/while/body/_1/Inception_v4/conv_lstm2d/while/clip_by_value_2' -> 'Inception_v4/conv_lstm2d/while/body/_1/Inception_v4/conv_lstm2d/while/mul_5', 'Inception_v4/conv_lstm2d/while/body/_1/Inception_v4/conv_lstm2d/while/convolution_6' -> 'Inception_v4/conv_lstm2d/while/body/_1/Inception_v4/conv_lstm2d/while/add_4', 'Func/gradient_tape/Inception_v4/conv_lstm2d/while/Inception_v4/conv_lstm2d/while_grad/body/_189/input/_551' -> 'gradient_tape/Inception_v4/conv_lstm2d/while/Inception_v4/conv_lstm2d/while_grad/body/_189/gradient_tape/Inception_v4/conv_lstm2d/while/gradients/AddN'}.\n"
     ]
    },
    {
     "name": "stdout",
     "output_type": "stream",
     "text": [
      "315/315 - 49s - loss: 0.7056 - accuracy: 0.7711 - 49s/epoch - 157ms/step\n",
      "Epoch 2/2\n",
      "315/315 - 36s - loss: 0.4305 - accuracy: 0.8788 - 36s/epoch - 115ms/step\n"
     ]
    },
    {
     "name": "stderr",
     "output_type": "stream",
     "text": [
      "Progress Bar:  67%|██████▋   | 2/3 [05:13<02:24, 145.00s/it]"
     ]
    },
    {
     "name": "stdout",
     "output_type": "stream",
     "text": [
      "Epoch 1/2\n",
      "159/159 - 34s - loss: 0.5758 - accuracy: 0.8301 - 34s/epoch - 212ms/step\n",
      "Epoch 2/2\n",
      "159/159 - 19s - loss: 0.3857 - accuracy: 0.8947 - 19s/epoch - 120ms/step\n"
     ]
    },
    {
     "name": "stderr",
     "output_type": "stream",
     "text": [
      "Progress Bar: 100%|██████████| 3/3 [06:09<00:00, 123.28s/it]\n"
     ]
    },
    {
     "name": "stdout",
     "output_type": "stream",
     "text": [
      "32/32 [==============================] - 3s 43ms/step - loss: 1.8964 - accuracy: 0.2000\n",
      "comm_round: 1 | global_acc: 20.000% | global_loss: 1.8964154720306396\n"
     ]
    },
    {
     "name": "stderr",
     "output_type": "stream",
     "text": [
      "Progress Bar:   0%|          | 0/3 [00:00<?, ?it/s]"
     ]
    },
    {
     "name": "stdout",
     "output_type": "stream",
     "text": [
      "Epoch 1/2\n",
      "814/814 - 113s - loss: 0.4444 - accuracy: 0.8694 - 113s/epoch - 139ms/step\n",
      "Epoch 2/2\n",
      "814/814 - 99s - loss: 0.3510 - accuracy: 0.9067 - 99s/epoch - 121ms/step\n"
     ]
    },
    {
     "name": "stderr",
     "output_type": "stream",
     "text": [
      "Progress Bar:  33%|███▎      | 1/3 [03:42<07:24, 222.06s/it]"
     ]
    },
    {
     "name": "stdout",
     "output_type": "stream",
     "text": [
      "Epoch 1/2\n"
     ]
    },
    {
     "name": "stderr",
     "output_type": "stream",
     "text": [
      "2023-09-12 10:30:15.566303: E tensorflow/core/grappler/optimizers/meta_optimizer.cc:903] layout failed: INVALID_ARGUMENT: MutableGraphView::SortTopologically error: detected edge(s) creating cycle(s) {'Inception_v4/conv_lstm2d/while/body/_1/Inception_v4/conv_lstm2d/while/mul_2' -> 'Inception_v4/conv_lstm2d/while/body/_1/Inception_v4/conv_lstm2d/while/add_5', 'Inception_v4/conv_lstm2d/while/body/_1/Inception_v4/conv_lstm2d/while/clip_by_value' -> 'Inception_v4/conv_lstm2d/while/body/_1/Inception_v4/conv_lstm2d/while/mul_3', 'Inception_v4/conv_lstm2d/while/body/_1/Inception_v4/conv_lstm2d/while/clip_by_value_2' -> 'Inception_v4/conv_lstm2d/while/body/_1/Inception_v4/conv_lstm2d/while/mul_5', 'Inception_v4/conv_lstm2d/while/body/_1/Inception_v4/conv_lstm2d/while/convolution_6' -> 'Inception_v4/conv_lstm2d/while/body/_1/Inception_v4/conv_lstm2d/while/add_4', 'Func/gradient_tape/Inception_v4/conv_lstm2d/while/Inception_v4/conv_lstm2d/while_grad/body/_189/input/_551' -> 'gradient_tape/Inception_v4/conv_lstm2d/while/Inception_v4/conv_lstm2d/while_grad/body/_189/gradient_tape/Inception_v4/conv_lstm2d/while/gradients/AddN'}.\n"
     ]
    },
    {
     "name": "stdout",
     "output_type": "stream",
     "text": [
      "315/315 - 49s - loss: 0.5039 - accuracy: 0.8546 - 49s/epoch - 156ms/step\n",
      "Epoch 2/2\n",
      "315/315 - 36s - loss: 0.4086 - accuracy: 0.8893 - 36s/epoch - 115ms/step\n"
     ]
    },
    {
     "name": "stderr",
     "output_type": "stream",
     "text": [
      "Progress Bar:  67%|██████▋   | 2/3 [05:12<02:24, 144.81s/it]"
     ]
    },
    {
     "name": "stdout",
     "output_type": "stream",
     "text": [
      "Epoch 1/2\n",
      "159/159 - 34s - loss: 0.3472 - accuracy: 0.9123 - 34s/epoch - 213ms/step\n",
      "Epoch 2/2\n",
      "159/159 - 19s - loss: 0.2638 - accuracy: 0.9453 - 19s/epoch - 120ms/step\n"
     ]
    },
    {
     "name": "stderr",
     "output_type": "stream",
     "text": [
      "Progress Bar: 100%|██████████| 3/3 [06:09<00:00, 123.22s/it]\n"
     ]
    },
    {
     "name": "stdout",
     "output_type": "stream",
     "text": [
      "32/32 [==============================] - 3s 41ms/step - loss: 1.2485 - accuracy: 0.5980\n",
      "comm_round: 2 | global_acc: 59.800% | global_loss: 1.2484822273254395\n"
     ]
    },
    {
     "name": "stderr",
     "output_type": "stream",
     "text": [
      "Progress Bar:   0%|          | 0/3 [00:00<?, ?it/s]"
     ]
    },
    {
     "name": "stdout",
     "output_type": "stream",
     "text": [
      "Epoch 1/2\n",
      "814/814 - 113s - loss: 0.4087 - accuracy: 0.8820 - 113s/epoch - 139ms/step\n",
      "Epoch 2/2\n",
      "814/814 - 98s - loss: 0.2897 - accuracy: 0.9290 - 98s/epoch - 120ms/step\n"
     ]
    },
    {
     "name": "stderr",
     "output_type": "stream",
     "text": [
      "Progress Bar:  33%|███▎      | 1/3 [03:40<07:20, 220.26s/it]"
     ]
    },
    {
     "name": "stdout",
     "output_type": "stream",
     "text": [
      "Epoch 1/2\n"
     ]
    },
    {
     "name": "stderr",
     "output_type": "stream",
     "text": [
      "2023-09-12 10:36:44.749798: E tensorflow/core/grappler/optimizers/meta_optimizer.cc:903] layout failed: INVALID_ARGUMENT: MutableGraphView::SortTopologically error: detected edge(s) creating cycle(s) {'Inception_v4/conv_lstm2d/while/body/_1/Inception_v4/conv_lstm2d/while/mul_2' -> 'Inception_v4/conv_lstm2d/while/body/_1/Inception_v4/conv_lstm2d/while/add_5', 'Inception_v4/conv_lstm2d/while/body/_1/Inception_v4/conv_lstm2d/while/convolution_6' -> 'Inception_v4/conv_lstm2d/while/body/_1/Inception_v4/conv_lstm2d/while/add_4', 'Inception_v4/conv_lstm2d/while/body/_1/Inception_v4/conv_lstm2d/while/clip_by_value' -> 'Inception_v4/conv_lstm2d/while/body/_1/Inception_v4/conv_lstm2d/while/mul_3', 'Inception_v4/conv_lstm2d/while/body/_1/Inception_v4/conv_lstm2d/while/clip_by_value_2' -> 'Inception_v4/conv_lstm2d/while/body/_1/Inception_v4/conv_lstm2d/while/mul_5', 'Func/gradient_tape/Inception_v4/conv_lstm2d/while/Inception_v4/conv_lstm2d/while_grad/body/_189/input/_551' -> 'gradient_tape/Inception_v4/conv_lstm2d/while/Inception_v4/conv_lstm2d/while_grad/body/_189/gradient_tape/Inception_v4/conv_lstm2d/while/gradients/AddN'}.\n"
     ]
    },
    {
     "name": "stdout",
     "output_type": "stream",
     "text": [
      "315/315 - 49s - loss: 0.3776 - accuracy: 0.9042 - 49s/epoch - 157ms/step\n",
      "Epoch 2/2\n",
      "315/315 - 36s - loss: 0.3160 - accuracy: 0.9288 - 36s/epoch - 114ms/step\n"
     ]
    },
    {
     "name": "stderr",
     "output_type": "stream",
     "text": [
      "Progress Bar:  67%|██████▋   | 2/3 [05:10<02:23, 143.87s/it]"
     ]
    },
    {
     "name": "stdout",
     "output_type": "stream",
     "text": [
      "Epoch 1/2\n",
      "159/159 - 34s - loss: 0.3064 - accuracy: 0.9271 - 34s/epoch - 214ms/step\n",
      "Epoch 2/2\n",
      "159/159 - 19s - loss: 0.2360 - accuracy: 0.9500 - 19s/epoch - 120ms/step\n"
     ]
    },
    {
     "name": "stderr",
     "output_type": "stream",
     "text": [
      "Progress Bar: 100%|██████████| 3/3 [06:07<00:00, 122.55s/it]\n"
     ]
    },
    {
     "name": "stdout",
     "output_type": "stream",
     "text": [
      "32/32 [==============================] - 3s 43ms/step - loss: 1.1689 - accuracy: 0.6920\n",
      "comm_round: 3 | global_acc: 69.200% | global_loss: 1.1689451932907104\n"
     ]
    },
    {
     "name": "stderr",
     "output_type": "stream",
     "text": [
      "Progress Bar:   0%|          | 0/3 [00:00<?, ?it/s]"
     ]
    },
    {
     "name": "stdout",
     "output_type": "stream",
     "text": [
      "Epoch 1/2\n",
      "814/814 - 113s - loss: 0.2983 - accuracy: 0.9273 - 113s/epoch - 138ms/step\n",
      "Epoch 2/2\n",
      "814/814 - 98s - loss: 0.2414 - accuracy: 0.9484 - 98s/epoch - 121ms/step\n"
     ]
    },
    {
     "name": "stderr",
     "output_type": "stream",
     "text": [
      "Progress Bar:  33%|███▎      | 1/3 [03:40<07:20, 220.13s/it]"
     ]
    },
    {
     "name": "stdout",
     "output_type": "stream",
     "text": [
      "Epoch 1/2\n"
     ]
    },
    {
     "name": "stderr",
     "output_type": "stream",
     "text": [
      "2023-09-12 10:43:13.637975: E tensorflow/core/grappler/optimizers/meta_optimizer.cc:903] layout failed: INVALID_ARGUMENT: MutableGraphView::SortTopologically error: detected edge(s) creating cycle(s) {'Inception_v4/conv_lstm2d/while/body/_1/Inception_v4/conv_lstm2d/while/clip_by_value_2' -> 'Inception_v4/conv_lstm2d/while/body/_1/Inception_v4/conv_lstm2d/while/mul_5', 'Inception_v4/conv_lstm2d/while/body/_1/Inception_v4/conv_lstm2d/while/clip_by_value' -> 'Inception_v4/conv_lstm2d/while/body/_1/Inception_v4/conv_lstm2d/while/mul_3', 'Inception_v4/conv_lstm2d/while/body/_1/Inception_v4/conv_lstm2d/while/convolution_6' -> 'Inception_v4/conv_lstm2d/while/body/_1/Inception_v4/conv_lstm2d/while/add_4', 'Inception_v4/conv_lstm2d/while/body/_1/Inception_v4/conv_lstm2d/while/mul_2' -> 'Inception_v4/conv_lstm2d/while/body/_1/Inception_v4/conv_lstm2d/while/add_5', 'Func/gradient_tape/Inception_v4/conv_lstm2d/while/Inception_v4/conv_lstm2d/while_grad/body/_189/input/_551' -> 'gradient_tape/Inception_v4/conv_lstm2d/while/Inception_v4/conv_lstm2d/while_grad/body/_189/gradient_tape/Inception_v4/conv_lstm2d/while/gradients/AddN'}.\n"
     ]
    },
    {
     "name": "stdout",
     "output_type": "stream",
     "text": [
      "315/315 - 49s - loss: 0.3099 - accuracy: 0.9291 - 49s/epoch - 155ms/step\n",
      "Epoch 2/2\n",
      "315/315 - 35s - loss: 0.2736 - accuracy: 0.9413 - 35s/epoch - 112ms/step\n"
     ]
    },
    {
     "name": "stderr",
     "output_type": "stream",
     "text": [
      "Progress Bar:  67%|██████▋   | 2/3 [05:09<02:23, 143.14s/it]"
     ]
    },
    {
     "name": "stdout",
     "output_type": "stream",
     "text": [
      "Epoch 1/2\n",
      "159/159 - 34s - loss: 0.2610 - accuracy: 0.9393 - 34s/epoch - 214ms/step\n",
      "Epoch 2/2\n",
      "159/159 - 19s - loss: 0.2162 - accuracy: 0.9563 - 19s/epoch - 120ms/step\n"
     ]
    },
    {
     "name": "stderr",
     "output_type": "stream",
     "text": [
      "Progress Bar: 100%|██████████| 3/3 [06:07<00:00, 122.34s/it]\n"
     ]
    },
    {
     "name": "stdout",
     "output_type": "stream",
     "text": [
      "32/32 [==============================] - 3s 43ms/step - loss: 0.8400 - accuracy: 0.7610\n",
      "comm_round: 4 | global_acc: 76.100% | global_loss: 0.8400304913520813\n"
     ]
    },
    {
     "name": "stderr",
     "output_type": "stream",
     "text": [
      "Progress Bar:   0%|          | 0/3 [00:00<?, ?it/s]"
     ]
    },
    {
     "name": "stdout",
     "output_type": "stream",
     "text": [
      "Epoch 1/2\n",
      "814/814 - 112s - loss: 0.2644 - accuracy: 0.9388 - 112s/epoch - 138ms/step\n",
      "Epoch 2/2\n",
      "814/814 - 98s - loss: 0.2238 - accuracy: 0.9552 - 98s/epoch - 121ms/step\n"
     ]
    },
    {
     "name": "stderr",
     "output_type": "stream",
     "text": [
      "Progress Bar:  33%|███▎      | 1/3 [03:39<07:19, 219.74s/it]"
     ]
    },
    {
     "name": "stdout",
     "output_type": "stream",
     "text": [
      "Epoch 1/2\n"
     ]
    },
    {
     "name": "stderr",
     "output_type": "stream",
     "text": [
      "2023-09-12 10:49:42.106148: E tensorflow/core/grappler/optimizers/meta_optimizer.cc:903] layout failed: INVALID_ARGUMENT: MutableGraphView::SortTopologically error: detected edge(s) creating cycle(s) {'Inception_v4/conv_lstm2d/while/body/_1/Inception_v4/conv_lstm2d/while/mul_2' -> 'Inception_v4/conv_lstm2d/while/body/_1/Inception_v4/conv_lstm2d/while/add_5', 'Inception_v4/conv_lstm2d/while/body/_1/Inception_v4/conv_lstm2d/while/clip_by_value' -> 'Inception_v4/conv_lstm2d/while/body/_1/Inception_v4/conv_lstm2d/while/mul_3', 'Inception_v4/conv_lstm2d/while/body/_1/Inception_v4/conv_lstm2d/while/clip_by_value_2' -> 'Inception_v4/conv_lstm2d/while/body/_1/Inception_v4/conv_lstm2d/while/mul_5', 'Inception_v4/conv_lstm2d/while/body/_1/Inception_v4/conv_lstm2d/while/convolution_6' -> 'Inception_v4/conv_lstm2d/while/body/_1/Inception_v4/conv_lstm2d/while/add_4', 'Func/gradient_tape/Inception_v4/conv_lstm2d/while/Inception_v4/conv_lstm2d/while_grad/body/_189/input/_551' -> 'gradient_tape/Inception_v4/conv_lstm2d/while/Inception_v4/conv_lstm2d/while_grad/body/_189/gradient_tape/Inception_v4/conv_lstm2d/while/gradients/AddN'}.\n"
     ]
    },
    {
     "name": "stdout",
     "output_type": "stream",
     "text": [
      "315/315 - 50s - loss: 0.2773 - accuracy: 0.9398 - 50s/epoch - 159ms/step\n",
      "Epoch 2/2\n",
      "315/315 - 37s - loss: 0.2440 - accuracy: 0.9531 - 37s/epoch - 116ms/step\n"
     ]
    },
    {
     "name": "stderr",
     "output_type": "stream",
     "text": [
      "Progress Bar:  67%|██████▋   | 2/3 [05:11<02:24, 144.53s/it]"
     ]
    },
    {
     "name": "stdout",
     "output_type": "stream",
     "text": [
      "Epoch 1/2\n",
      "159/159 - 34s - loss: 0.2266 - accuracy: 0.9561 - 34s/epoch - 211ms/step\n",
      "Epoch 2/2\n",
      "159/159 - 19s - loss: 0.1893 - accuracy: 0.9648 - 19s/epoch - 119ms/step\n"
     ]
    },
    {
     "name": "stderr",
     "output_type": "stream",
     "text": [
      "Progress Bar: 100%|██████████| 3/3 [06:08<00:00, 122.69s/it]\n"
     ]
    },
    {
     "name": "stdout",
     "output_type": "stream",
     "text": [
      "32/32 [==============================] - 3s 42ms/step - loss: 0.7510 - accuracy: 0.8000\n",
      "comm_round: 5 | global_acc: 80.000% | global_loss: 0.7509654760360718\n"
     ]
    },
    {
     "name": "stderr",
     "output_type": "stream",
     "text": [
      "Progress Bar:   0%|          | 0/3 [00:00<?, ?it/s]"
     ]
    },
    {
     "name": "stdout",
     "output_type": "stream",
     "text": [
      "Epoch 1/2\n",
      "814/814 - 113s - loss: 0.2363 - accuracy: 0.9500 - 113s/epoch - 138ms/step\n",
      "Epoch 2/2\n",
      "814/814 - 98s - loss: 0.2073 - accuracy: 0.9617 - 98s/epoch - 120ms/step\n"
     ]
    },
    {
     "name": "stderr",
     "output_type": "stream",
     "text": [
      "Progress Bar:  33%|███▎      | 1/3 [03:39<07:19, 219.85s/it]"
     ]
    },
    {
     "name": "stdout",
     "output_type": "stream",
     "text": [
      "Epoch 1/2\n"
     ]
    },
    {
     "name": "stderr",
     "output_type": "stream",
     "text": [
      "2023-09-12 10:56:10.995964: E tensorflow/core/grappler/optimizers/meta_optimizer.cc:903] layout failed: INVALID_ARGUMENT: MutableGraphView::SortTopologically error: detected edge(s) creating cycle(s) {'Inception_v4/conv_lstm2d/while/body/_1/Inception_v4/conv_lstm2d/while/mul_2' -> 'Inception_v4/conv_lstm2d/while/body/_1/Inception_v4/conv_lstm2d/while/add_5', 'Inception_v4/conv_lstm2d/while/body/_1/Inception_v4/conv_lstm2d/while/convolution_6' -> 'Inception_v4/conv_lstm2d/while/body/_1/Inception_v4/conv_lstm2d/while/add_4', 'Inception_v4/conv_lstm2d/while/body/_1/Inception_v4/conv_lstm2d/while/clip_by_value' -> 'Inception_v4/conv_lstm2d/while/body/_1/Inception_v4/conv_lstm2d/while/mul_3', 'Inception_v4/conv_lstm2d/while/body/_1/Inception_v4/conv_lstm2d/while/clip_by_value_2' -> 'Inception_v4/conv_lstm2d/while/body/_1/Inception_v4/conv_lstm2d/while/mul_5', 'Func/gradient_tape/Inception_v4/conv_lstm2d/while/Inception_v4/conv_lstm2d/while_grad/body/_189/input/_551' -> 'gradient_tape/Inception_v4/conv_lstm2d/while/Inception_v4/conv_lstm2d/while_grad/body/_189/gradient_tape/Inception_v4/conv_lstm2d/while/gradients/AddN'}.\n"
     ]
    },
    {
     "name": "stdout",
     "output_type": "stream",
     "text": [
      "315/315 - 48s - loss: 0.2464 - accuracy: 0.9525 - 48s/epoch - 153ms/step\n",
      "Epoch 2/2\n",
      "315/315 - 36s - loss: 0.2258 - accuracy: 0.9577 - 36s/epoch - 115ms/step\n"
     ]
    },
    {
     "name": "stderr",
     "output_type": "stream",
     "text": [
      "Progress Bar:  67%|██████▋   | 2/3 [05:10<02:23, 143.63s/it]"
     ]
    },
    {
     "name": "stdout",
     "output_type": "stream",
     "text": [
      "Epoch 1/2\n",
      "159/159 - 33s - loss: 0.2041 - accuracy: 0.9632 - 33s/epoch - 208ms/step\n",
      "Epoch 2/2\n",
      "159/159 - 19s - loss: 0.1606 - accuracy: 0.9755 - 19s/epoch - 120ms/step\n"
     ]
    },
    {
     "name": "stderr",
     "output_type": "stream",
     "text": [
      "Progress Bar: 100%|██████████| 3/3 [06:07<00:00, 122.43s/it]\n"
     ]
    },
    {
     "name": "stdout",
     "output_type": "stream",
     "text": [
      "32/32 [==============================] - 3s 42ms/step - loss: 0.6639 - accuracy: 0.8240\n",
      "comm_round: 6 | global_acc: 82.400% | global_loss: 0.663938045501709\n"
     ]
    },
    {
     "name": "stderr",
     "output_type": "stream",
     "text": [
      "Progress Bar:   0%|          | 0/3 [00:00<?, ?it/s]"
     ]
    },
    {
     "name": "stdout",
     "output_type": "stream",
     "text": [
      "Epoch 1/2\n",
      "814/814 - 113s - loss: 0.2135 - accuracy: 0.9583 - 113s/epoch - 138ms/step\n",
      "Epoch 2/2\n",
      "814/814 - 98s - loss: 0.1902 - accuracy: 0.9662 - 98s/epoch - 120ms/step\n"
     ]
    },
    {
     "name": "stderr",
     "output_type": "stream",
     "text": [
      "Progress Bar:  33%|███▎      | 1/3 [03:40<07:21, 220.84s/it]"
     ]
    },
    {
     "name": "stdout",
     "output_type": "stream",
     "text": [
      "Epoch 1/2\n"
     ]
    },
    {
     "name": "stderr",
     "output_type": "stream",
     "text": [
      "2023-09-12 11:02:41.043659: E tensorflow/core/grappler/optimizers/meta_optimizer.cc:903] layout failed: INVALID_ARGUMENT: MutableGraphView::SortTopologically error: detected edge(s) creating cycle(s) {'Inception_v4/conv_lstm2d/while/body/_1/Inception_v4/conv_lstm2d/while/mul_2' -> 'Inception_v4/conv_lstm2d/while/body/_1/Inception_v4/conv_lstm2d/while/add_5', 'Inception_v4/conv_lstm2d/while/body/_1/Inception_v4/conv_lstm2d/while/convolution_6' -> 'Inception_v4/conv_lstm2d/while/body/_1/Inception_v4/conv_lstm2d/while/add_4', 'Inception_v4/conv_lstm2d/while/body/_1/Inception_v4/conv_lstm2d/while/clip_by_value_2' -> 'Inception_v4/conv_lstm2d/while/body/_1/Inception_v4/conv_lstm2d/while/mul_5', 'Inception_v4/conv_lstm2d/while/body/_1/Inception_v4/conv_lstm2d/while/clip_by_value' -> 'Inception_v4/conv_lstm2d/while/body/_1/Inception_v4/conv_lstm2d/while/mul_3', 'Func/gradient_tape/Inception_v4/conv_lstm2d/while/Inception_v4/conv_lstm2d/while_grad/body/_189/input/_551' -> 'gradient_tape/Inception_v4/conv_lstm2d/while/Inception_v4/conv_lstm2d/while_grad/body/_189/gradient_tape/Inception_v4/conv_lstm2d/while/gradients/AddN'}.\n"
     ]
    },
    {
     "name": "stdout",
     "output_type": "stream",
     "text": [
      "315/315 - 50s - loss: 0.2344 - accuracy: 0.9564 - 50s/epoch - 157ms/step\n",
      "Epoch 2/2\n",
      "315/315 - 36s - loss: 0.1956 - accuracy: 0.9682 - 36s/epoch - 115ms/step\n"
     ]
    },
    {
     "name": "stderr",
     "output_type": "stream",
     "text": [
      "Progress Bar:  67%|██████▋   | 2/3 [05:11<02:24, 144.45s/it]"
     ]
    },
    {
     "name": "stdout",
     "output_type": "stream",
     "text": [
      "Epoch 1/2\n",
      "159/159 - 34s - loss: 0.1903 - accuracy: 0.9652 - 34s/epoch - 215ms/step\n",
      "Epoch 2/2\n",
      "159/159 - 19s - loss: 0.1456 - accuracy: 0.9828 - 19s/epoch - 120ms/step\n"
     ]
    },
    {
     "name": "stderr",
     "output_type": "stream",
     "text": [
      "Progress Bar: 100%|██████████| 3/3 [06:09<00:00, 123.01s/it]\n"
     ]
    },
    {
     "name": "stdout",
     "output_type": "stream",
     "text": [
      "32/32 [==============================] - 3s 44ms/step - loss: 0.7217 - accuracy: 0.7950\n",
      "comm_round: 7 | global_acc: 79.500% | global_loss: 0.7216958403587341\n"
     ]
    },
    {
     "name": "stderr",
     "output_type": "stream",
     "text": [
      "Progress Bar:   0%|          | 0/3 [00:00<?, ?it/s]"
     ]
    },
    {
     "name": "stdout",
     "output_type": "stream",
     "text": [
      "Epoch 1/2\n",
      "814/814 - 112s - loss: 0.2032 - accuracy: 0.9626 - 112s/epoch - 138ms/step\n",
      "Epoch 2/2\n",
      "814/814 - 99s - loss: 0.1844 - accuracy: 0.9682 - 99s/epoch - 121ms/step\n"
     ]
    },
    {
     "name": "stderr",
     "output_type": "stream",
     "text": [
      "Progress Bar:  33%|███▎      | 1/3 [03:40<07:20, 220.06s/it]"
     ]
    },
    {
     "name": "stdout",
     "output_type": "stream",
     "text": [
      "Epoch 1/2\n"
     ]
    },
    {
     "name": "stderr",
     "output_type": "stream",
     "text": [
      "2023-09-12 11:09:10.602331: E tensorflow/core/grappler/optimizers/meta_optimizer.cc:903] layout failed: INVALID_ARGUMENT: MutableGraphView::SortTopologically error: detected edge(s) creating cycle(s) {'Inception_v4/conv_lstm2d/while/body/_1/Inception_v4/conv_lstm2d/while/clip_by_value_2' -> 'Inception_v4/conv_lstm2d/while/body/_1/Inception_v4/conv_lstm2d/while/mul_5', 'Inception_v4/conv_lstm2d/while/body/_1/Inception_v4/conv_lstm2d/while/clip_by_value' -> 'Inception_v4/conv_lstm2d/while/body/_1/Inception_v4/conv_lstm2d/while/mul_3', 'Inception_v4/conv_lstm2d/while/body/_1/Inception_v4/conv_lstm2d/while/convolution_6' -> 'Inception_v4/conv_lstm2d/while/body/_1/Inception_v4/conv_lstm2d/while/add_4', 'Inception_v4/conv_lstm2d/while/body/_1/Inception_v4/conv_lstm2d/while/mul_2' -> 'Inception_v4/conv_lstm2d/while/body/_1/Inception_v4/conv_lstm2d/while/add_5', 'Func/gradient_tape/Inception_v4/conv_lstm2d/while/Inception_v4/conv_lstm2d/while_grad/body/_189/input/_551' -> 'gradient_tape/Inception_v4/conv_lstm2d/while/Inception_v4/conv_lstm2d/while_grad/body/_189/gradient_tape/Inception_v4/conv_lstm2d/while/gradients/AddN'}.\n"
     ]
    },
    {
     "name": "stdout",
     "output_type": "stream",
     "text": [
      "315/315 - 50s - loss: 0.2172 - accuracy: 0.9601 - 50s/epoch - 158ms/step\n",
      "Epoch 2/2\n",
      "315/315 - 36s - loss: 0.1921 - accuracy: 0.9675 - 36s/epoch - 115ms/step\n"
     ]
    },
    {
     "name": "stderr",
     "output_type": "stream",
     "text": [
      "Progress Bar:  67%|██████▋   | 2/3 [05:11<02:24, 144.33s/it]"
     ]
    },
    {
     "name": "stdout",
     "output_type": "stream",
     "text": [
      "Epoch 1/2\n",
      "159/159 - 33s - loss: 0.1778 - accuracy: 0.9721 - 33s/epoch - 206ms/step\n",
      "Epoch 2/2\n",
      "159/159 - 19s - loss: 0.1475 - accuracy: 0.9826 - 19s/epoch - 120ms/step\n"
     ]
    },
    {
     "name": "stderr",
     "output_type": "stream",
     "text": [
      "Progress Bar: 100%|██████████| 3/3 [06:07<00:00, 122.62s/it]\n"
     ]
    },
    {
     "name": "stdout",
     "output_type": "stream",
     "text": [
      "32/32 [==============================] - 2s 42ms/step - loss: 0.6677 - accuracy: 0.8120\n",
      "comm_round: 8 | global_acc: 81.200% | global_loss: 0.6676506996154785\n"
     ]
    },
    {
     "name": "stderr",
     "output_type": "stream",
     "text": [
      "Progress Bar:   0%|          | 0/3 [00:00<?, ?it/s]"
     ]
    },
    {
     "name": "stdout",
     "output_type": "stream",
     "text": [
      "Epoch 1/2\n",
      "814/814 - 112s - loss: 0.1894 - accuracy: 0.9660 - 112s/epoch - 137ms/step\n",
      "Epoch 2/2\n",
      "814/814 - 98s - loss: 0.1795 - accuracy: 0.9690 - 98s/epoch - 120ms/step\n"
     ]
    },
    {
     "name": "stderr",
     "output_type": "stream",
     "text": [
      "Progress Bar:  33%|███▎      | 1/3 [03:39<07:19, 219.61s/it]"
     ]
    },
    {
     "name": "stdout",
     "output_type": "stream",
     "text": [
      "Epoch 1/2\n"
     ]
    },
    {
     "name": "stderr",
     "output_type": "stream",
     "text": [
      "2023-09-12 11:15:40.156445: E tensorflow/core/grappler/optimizers/meta_optimizer.cc:903] layout failed: INVALID_ARGUMENT: MutableGraphView::SortTopologically error: detected edge(s) creating cycle(s) {'Inception_v4/conv_lstm2d/while/body/_1/Inception_v4/conv_lstm2d/while/mul_2' -> 'Inception_v4/conv_lstm2d/while/body/_1/Inception_v4/conv_lstm2d/while/add_5', 'Inception_v4/conv_lstm2d/while/body/_1/Inception_v4/conv_lstm2d/while/clip_by_value' -> 'Inception_v4/conv_lstm2d/while/body/_1/Inception_v4/conv_lstm2d/while/mul_3', 'Inception_v4/conv_lstm2d/while/body/_1/Inception_v4/conv_lstm2d/while/clip_by_value_2' -> 'Inception_v4/conv_lstm2d/while/body/_1/Inception_v4/conv_lstm2d/while/mul_5', 'Inception_v4/conv_lstm2d/while/body/_1/Inception_v4/conv_lstm2d/while/convolution_6' -> 'Inception_v4/conv_lstm2d/while/body/_1/Inception_v4/conv_lstm2d/while/add_4', 'Func/gradient_tape/Inception_v4/conv_lstm2d/while/Inception_v4/conv_lstm2d/while_grad/body/_189/input/_551' -> 'gradient_tape/Inception_v4/conv_lstm2d/while/Inception_v4/conv_lstm2d/while_grad/body/_189/gradient_tape/Inception_v4/conv_lstm2d/while/gradients/AddN'}.\n"
     ]
    },
    {
     "name": "stdout",
     "output_type": "stream",
     "text": [
      "315/315 - 50s - loss: 0.2019 - accuracy: 0.9660 - 50s/epoch - 158ms/step\n",
      "Epoch 2/2\n",
      "315/315 - 53s - loss: 0.1840 - accuracy: 0.9713 - 53s/epoch - 170ms/step\n"
     ]
    },
    {
     "name": "stderr",
     "output_type": "stream",
     "text": [
      "Progress Bar:  67%|██████▋   | 2/3 [06:21<03:05, 185.70s/it]"
     ]
    },
    {
     "name": "stdout",
     "output_type": "stream",
     "text": [
      "Epoch 1/2\n",
      "159/159 - 94s - loss: 0.1621 - accuracy: 0.9779 - 94s/epoch - 590ms/step\n",
      "Epoch 2/2\n",
      "159/159 - 40s - loss: 0.1378 - accuracy: 0.9828 - 40s/epoch - 254ms/step\n"
     ]
    },
    {
     "name": "stderr",
     "output_type": "stream",
     "text": [
      "Progress Bar: 100%|██████████| 3/3 [08:47<00:00, 175.72s/it]\n"
     ]
    },
    {
     "name": "stdout",
     "output_type": "stream",
     "text": [
      "32/32 [==============================] - 7s 73ms/step - loss: 0.8360 - accuracy: 0.7810\n",
      "comm_round: 9 | global_acc: 78.100% | global_loss: 0.8360118865966797\n"
     ]
    },
    {
     "name": "stderr",
     "output_type": "stream",
     "text": [
      "Progress Bar:   0%|          | 0/3 [00:00<?, ?it/s]"
     ]
    },
    {
     "name": "stdout",
     "output_type": "stream",
     "text": [
      "Epoch 1/2\n",
      "814/814 - 226s - loss: 0.1806 - accuracy: 0.9688 - 226s/epoch - 278ms/step\n",
      "Epoch 2/2\n",
      "814/814 - 173s - loss: 0.1716 - accuracy: 0.9730 - 173s/epoch - 212ms/step\n"
     ]
    },
    {
     "name": "stderr",
     "output_type": "stream",
     "text": [
      "Progress Bar:  33%|███▎      | 1/3 [07:00<14:01, 420.84s/it]"
     ]
    },
    {
     "name": "stdout",
     "output_type": "stream",
     "text": [
      "Epoch 1/2\n"
     ]
    },
    {
     "name": "stderr",
     "output_type": "stream",
     "text": [
      "2023-09-12 11:29:30.608169: E tensorflow/core/grappler/optimizers/meta_optimizer.cc:903] layout failed: INVALID_ARGUMENT: MutableGraphView::SortTopologically error: detected edge(s) creating cycle(s) {'Inception_v4/conv_lstm2d/while/body/_1/Inception_v4/conv_lstm2d/while/clip_by_value_2' -> 'Inception_v4/conv_lstm2d/while/body/_1/Inception_v4/conv_lstm2d/while/mul_5', 'Inception_v4/conv_lstm2d/while/body/_1/Inception_v4/conv_lstm2d/while/clip_by_value' -> 'Inception_v4/conv_lstm2d/while/body/_1/Inception_v4/conv_lstm2d/while/mul_3', 'Inception_v4/conv_lstm2d/while/body/_1/Inception_v4/conv_lstm2d/while/convolution_6' -> 'Inception_v4/conv_lstm2d/while/body/_1/Inception_v4/conv_lstm2d/while/add_4', 'Inception_v4/conv_lstm2d/while/body/_1/Inception_v4/conv_lstm2d/while/mul_2' -> 'Inception_v4/conv_lstm2d/while/body/_1/Inception_v4/conv_lstm2d/while/add_5', 'Func/gradient_tape/Inception_v4/conv_lstm2d/while/Inception_v4/conv_lstm2d/while_grad/body/_189/input/_551' -> 'gradient_tape/Inception_v4/conv_lstm2d/while/Inception_v4/conv_lstm2d/while_grad/body/_189/gradient_tape/Inception_v4/conv_lstm2d/while/gradients/AddN'}.\n"
     ]
    },
    {
     "name": "stdout",
     "output_type": "stream",
     "text": [
      "315/315 - 100s - loss: 0.1833 - accuracy: 0.9735 - 100s/epoch - 319ms/step\n",
      "Epoch 2/2\n",
      "315/315 - 59s - loss: 0.1813 - accuracy: 0.9737 - 59s/epoch - 188ms/step\n"
     ]
    },
    {
     "name": "stderr",
     "output_type": "stream",
     "text": [
      "Progress Bar:  67%|██████▋   | 2/3 [10:13<04:46, 286.81s/it]"
     ]
    },
    {
     "name": "stdout",
     "output_type": "stream",
     "text": [
      "Epoch 1/2\n",
      "159/159 - 83s - loss: 0.1611 - accuracy: 0.9773 - 83s/epoch - 519ms/step\n",
      "Epoch 2/2\n",
      "159/159 - 36s - loss: 0.1305 - accuracy: 0.9828 - 36s/epoch - 229ms/step\n"
     ]
    },
    {
     "name": "stderr",
     "output_type": "stream",
     "text": [
      "Progress Bar: 100%|██████████| 3/3 [12:24<00:00, 248.05s/it]\n"
     ]
    },
    {
     "name": "stdout",
     "output_type": "stream",
     "text": [
      "32/32 [==============================] - 6s 74ms/step - loss: 0.7753 - accuracy: 0.7860\n",
      "comm_round: 10 | global_acc: 78.600% | global_loss: 0.7753158211708069\n"
     ]
    },
    {
     "name": "stderr",
     "output_type": "stream",
     "text": [
      "Progress Bar:   0%|          | 0/3 [00:00<?, ?it/s]"
     ]
    },
    {
     "name": "stdout",
     "output_type": "stream",
     "text": [
      "Epoch 1/2\n",
      "814/814 - 229s - loss: 0.1745 - accuracy: 0.9704 - 229s/epoch - 282ms/step\n",
      "Epoch 2/2\n",
      "814/814 - 183s - loss: 0.1637 - accuracy: 0.9744 - 183s/epoch - 225ms/step\n"
     ]
    },
    {
     "name": "stderr",
     "output_type": "stream",
     "text": [
      "Progress Bar:  33%|███▎      | 1/3 [07:16<14:32, 436.42s/it]"
     ]
    },
    {
     "name": "stdout",
     "output_type": "stream",
     "text": [
      "Epoch 1/2\n"
     ]
    },
    {
     "name": "stderr",
     "output_type": "stream",
     "text": [
      "2023-09-12 11:43:09.303740: E tensorflow/core/grappler/optimizers/meta_optimizer.cc:903] layout failed: INVALID_ARGUMENT: MutableGraphView::SortTopologically error: detected edge(s) creating cycle(s) {'Inception_v4/conv_lstm2d/while/body/_1/Inception_v4/conv_lstm2d/while/mul_2' -> 'Inception_v4/conv_lstm2d/while/body/_1/Inception_v4/conv_lstm2d/while/add_5', 'Inception_v4/conv_lstm2d/while/body/_1/Inception_v4/conv_lstm2d/while/clip_by_value' -> 'Inception_v4/conv_lstm2d/while/body/_1/Inception_v4/conv_lstm2d/while/mul_3', 'Inception_v4/conv_lstm2d/while/body/_1/Inception_v4/conv_lstm2d/while/clip_by_value_2' -> 'Inception_v4/conv_lstm2d/while/body/_1/Inception_v4/conv_lstm2d/while/mul_5', 'Inception_v4/conv_lstm2d/while/body/_1/Inception_v4/conv_lstm2d/while/convolution_6' -> 'Inception_v4/conv_lstm2d/while/body/_1/Inception_v4/conv_lstm2d/while/add_4', 'Func/gradient_tape/Inception_v4/conv_lstm2d/while/Inception_v4/conv_lstm2d/while_grad/body/_189/input/_551' -> 'gradient_tape/Inception_v4/conv_lstm2d/while/Inception_v4/conv_lstm2d/while_grad/body/_189/gradient_tape/Inception_v4/conv_lstm2d/while/gradients/AddN'}.\n"
     ]
    },
    {
     "name": "stdout",
     "output_type": "stream",
     "text": [
      "315/315 - 59s - loss: 0.1839 - accuracy: 0.9721 - 59s/epoch - 186ms/step\n",
      "Epoch 2/2\n",
      "315/315 - 36s - loss: 0.1674 - accuracy: 0.9774 - 36s/epoch - 115ms/step\n"
     ]
    },
    {
     "name": "stderr",
     "output_type": "stream",
     "text": [
      "Progress Bar:  67%|██████▋   | 2/3 [09:06<04:04, 244.33s/it]"
     ]
    },
    {
     "name": "stdout",
     "output_type": "stream",
     "text": [
      "Epoch 1/2\n",
      "159/159 - 34s - loss: 0.1548 - accuracy: 0.9771 - 34s/epoch - 215ms/step\n",
      "Epoch 2/2\n",
      "159/159 - 19s - loss: 0.1343 - accuracy: 0.9840 - 19s/epoch - 120ms/step\n"
     ]
    },
    {
     "name": "stderr",
     "output_type": "stream",
     "text": [
      "Progress Bar: 100%|██████████| 3/3 [10:03<00:00, 201.16s/it]\n"
     ]
    },
    {
     "name": "stdout",
     "output_type": "stream",
     "text": [
      "32/32 [==============================] - 3s 43ms/step - loss: 0.7571 - accuracy: 0.7940\n",
      "comm_round: 11 | global_acc: 79.400% | global_loss: 0.7571462392807007\n"
     ]
    },
    {
     "name": "stderr",
     "output_type": "stream",
     "text": [
      "Progress Bar:   0%|          | 0/3 [00:00<?, ?it/s]"
     ]
    },
    {
     "name": "stdout",
     "output_type": "stream",
     "text": [
      "Epoch 1/2\n",
      "814/814 - 112s - loss: 0.1711 - accuracy: 0.9720 - 112s/epoch - 138ms/step\n",
      "Epoch 2/2\n",
      "814/814 - 98s - loss: 0.1680 - accuracy: 0.9742 - 98s/epoch - 120ms/step\n"
     ]
    },
    {
     "name": "stderr",
     "output_type": "stream",
     "text": [
      "Progress Bar:  33%|███▎      | 1/3 [03:39<07:18, 219.11s/it]"
     ]
    },
    {
     "name": "stdout",
     "output_type": "stream",
     "text": [
      "Epoch 1/2\n"
     ]
    },
    {
     "name": "stderr",
     "output_type": "stream",
     "text": [
      "2023-09-12 11:49:37.949352: E tensorflow/core/grappler/optimizers/meta_optimizer.cc:903] layout failed: INVALID_ARGUMENT: MutableGraphView::SortTopologically error: detected edge(s) creating cycle(s) {'Inception_v4/conv_lstm2d/while/body/_1/Inception_v4/conv_lstm2d/while/mul_2' -> 'Inception_v4/conv_lstm2d/while/body/_1/Inception_v4/conv_lstm2d/while/add_5', 'Inception_v4/conv_lstm2d/while/body/_1/Inception_v4/conv_lstm2d/while/clip_by_value' -> 'Inception_v4/conv_lstm2d/while/body/_1/Inception_v4/conv_lstm2d/while/mul_3', 'Inception_v4/conv_lstm2d/while/body/_1/Inception_v4/conv_lstm2d/while/clip_by_value_2' -> 'Inception_v4/conv_lstm2d/while/body/_1/Inception_v4/conv_lstm2d/while/mul_5', 'Inception_v4/conv_lstm2d/while/body/_1/Inception_v4/conv_lstm2d/while/convolution_6' -> 'Inception_v4/conv_lstm2d/while/body/_1/Inception_v4/conv_lstm2d/while/add_4', 'Func/gradient_tape/Inception_v4/conv_lstm2d/while/Inception_v4/conv_lstm2d/while_grad/body/_189/input/_551' -> 'gradient_tape/Inception_v4/conv_lstm2d/while/Inception_v4/conv_lstm2d/while_grad/body/_189/gradient_tape/Inception_v4/conv_lstm2d/while/gradients/AddN'}.\n"
     ]
    },
    {
     "name": "stdout",
     "output_type": "stream",
     "text": [
      "315/315 - 49s - loss: 0.1747 - accuracy: 0.9750 - 49s/epoch - 157ms/step\n",
      "Epoch 2/2\n",
      "315/315 - 36s - loss: 0.1609 - accuracy: 0.9807 - 36s/epoch - 115ms/step\n"
     ]
    },
    {
     "name": "stderr",
     "output_type": "stream",
     "text": [
      "Progress Bar:  67%|██████▋   | 2/3 [05:09<02:23, 143.66s/it]"
     ]
    },
    {
     "name": "stdout",
     "output_type": "stream",
     "text": [
      "Epoch 1/2\n",
      "159/159 - 34s - loss: 0.1478 - accuracy: 0.9830 - 34s/epoch - 213ms/step\n",
      "Epoch 2/2\n",
      "159/159 - 19s - loss: 0.1263 - accuracy: 0.9854 - 19s/epoch - 120ms/step\n"
     ]
    },
    {
     "name": "stderr",
     "output_type": "stream",
     "text": [
      "Progress Bar: 100%|██████████| 3/3 [06:06<00:00, 122.29s/it]\n"
     ]
    },
    {
     "name": "stdout",
     "output_type": "stream",
     "text": [
      "32/32 [==============================] - 3s 42ms/step - loss: 0.6403 - accuracy: 0.8070\n",
      "comm_round: 12 | global_acc: 80.700% | global_loss: 0.6403099298477173\n"
     ]
    },
    {
     "name": "stderr",
     "output_type": "stream",
     "text": [
      "Progress Bar:   0%|          | 0/3 [00:00<?, ?it/s]"
     ]
    },
    {
     "name": "stdout",
     "output_type": "stream",
     "text": [
      "Epoch 1/2\n",
      "814/814 - 113s - loss: 0.1628 - accuracy: 0.9757 - 113s/epoch - 138ms/step\n",
      "Epoch 2/2\n",
      "814/814 - 98s - loss: 0.1525 - accuracy: 0.9773 - 98s/epoch - 120ms/step\n"
     ]
    },
    {
     "name": "stderr",
     "output_type": "stream",
     "text": [
      "Progress Bar:  33%|███▎      | 1/3 [03:39<07:18, 219.39s/it]"
     ]
    },
    {
     "name": "stdout",
     "output_type": "stream",
     "text": [
      "Epoch 1/2\n"
     ]
    },
    {
     "name": "stderr",
     "output_type": "stream",
     "text": [
      "2023-09-12 11:56:06.411346: E tensorflow/core/grappler/optimizers/meta_optimizer.cc:903] layout failed: INVALID_ARGUMENT: MutableGraphView::SortTopologically error: detected edge(s) creating cycle(s) {'Inception_v4/conv_lstm2d/while/body/_1/Inception_v4/conv_lstm2d/while/mul_2' -> 'Inception_v4/conv_lstm2d/while/body/_1/Inception_v4/conv_lstm2d/while/add_5', 'Inception_v4/conv_lstm2d/while/body/_1/Inception_v4/conv_lstm2d/while/clip_by_value' -> 'Inception_v4/conv_lstm2d/while/body/_1/Inception_v4/conv_lstm2d/while/mul_3', 'Inception_v4/conv_lstm2d/while/body/_1/Inception_v4/conv_lstm2d/while/clip_by_value_2' -> 'Inception_v4/conv_lstm2d/while/body/_1/Inception_v4/conv_lstm2d/while/mul_5', 'Inception_v4/conv_lstm2d/while/body/_1/Inception_v4/conv_lstm2d/while/convolution_6' -> 'Inception_v4/conv_lstm2d/while/body/_1/Inception_v4/conv_lstm2d/while/add_4', 'Func/gradient_tape/Inception_v4/conv_lstm2d/while/Inception_v4/conv_lstm2d/while_grad/body/_189/input/_551' -> 'gradient_tape/Inception_v4/conv_lstm2d/while/Inception_v4/conv_lstm2d/while_grad/body/_189/gradient_tape/Inception_v4/conv_lstm2d/while/gradients/AddN'}.\n"
     ]
    },
    {
     "name": "stdout",
     "output_type": "stream",
     "text": [
      "315/315 - 50s - loss: 0.1633 - accuracy: 0.9793 - 50s/epoch - 158ms/step\n",
      "Epoch 2/2\n",
      "315/315 - 36s - loss: 0.1618 - accuracy: 0.9786 - 36s/epoch - 115ms/step\n"
     ]
    },
    {
     "name": "stderr",
     "output_type": "stream",
     "text": [
      "Progress Bar:  67%|██████▋   | 2/3 [05:10<02:24, 144.04s/it]"
     ]
    },
    {
     "name": "stdout",
     "output_type": "stream",
     "text": [
      "Epoch 1/2\n",
      "159/159 - 34s - loss: 0.1400 - accuracy: 0.9836 - 34s/epoch - 212ms/step\n",
      "Epoch 2/2\n",
      "159/159 - 19s - loss: 0.1354 - accuracy: 0.9832 - 19s/epoch - 122ms/step\n"
     ]
    },
    {
     "name": "stderr",
     "output_type": "stream",
     "text": [
      "Progress Bar: 100%|██████████| 3/3 [06:07<00:00, 122.59s/it]\n"
     ]
    },
    {
     "name": "stdout",
     "output_type": "stream",
     "text": [
      "32/32 [==============================] - 3s 40ms/step - loss: 0.6147 - accuracy: 0.8230\n",
      "comm_round: 13 | global_acc: 82.300% | global_loss: 0.6147236227989197\n"
     ]
    },
    {
     "name": "stderr",
     "output_type": "stream",
     "text": [
      "Progress Bar:   0%|          | 0/3 [00:00<?, ?it/s]"
     ]
    },
    {
     "name": "stdout",
     "output_type": "stream",
     "text": [
      "Epoch 1/2\n",
      "814/814 - 113s - loss: 0.1578 - accuracy: 0.9760 - 113s/epoch - 138ms/step\n",
      "Epoch 2/2\n",
      "814/814 - 98s - loss: 0.1479 - accuracy: 0.9801 - 98s/epoch - 120ms/step\n"
     ]
    },
    {
     "name": "stderr",
     "output_type": "stream",
     "text": [
      "Progress Bar:  33%|███▎      | 1/3 [03:39<07:19, 219.51s/it]"
     ]
    },
    {
     "name": "stdout",
     "output_type": "stream",
     "text": [
      "Epoch 1/2\n"
     ]
    },
    {
     "name": "stderr",
     "output_type": "stream",
     "text": [
      "2023-09-12 12:02:35.459384: E tensorflow/core/grappler/optimizers/meta_optimizer.cc:903] layout failed: INVALID_ARGUMENT: MutableGraphView::SortTopologically error: detected edge(s) creating cycle(s) {'Inception_v4/conv_lstm2d/while/body/_1/Inception_v4/conv_lstm2d/while/mul_2' -> 'Inception_v4/conv_lstm2d/while/body/_1/Inception_v4/conv_lstm2d/while/add_5', 'Inception_v4/conv_lstm2d/while/body/_1/Inception_v4/conv_lstm2d/while/clip_by_value' -> 'Inception_v4/conv_lstm2d/while/body/_1/Inception_v4/conv_lstm2d/while/mul_3', 'Inception_v4/conv_lstm2d/while/body/_1/Inception_v4/conv_lstm2d/while/clip_by_value_2' -> 'Inception_v4/conv_lstm2d/while/body/_1/Inception_v4/conv_lstm2d/while/mul_5', 'Inception_v4/conv_lstm2d/while/body/_1/Inception_v4/conv_lstm2d/while/convolution_6' -> 'Inception_v4/conv_lstm2d/while/body/_1/Inception_v4/conv_lstm2d/while/add_4', 'Func/gradient_tape/Inception_v4/conv_lstm2d/while/Inception_v4/conv_lstm2d/while_grad/body/_189/input/_551' -> 'gradient_tape/Inception_v4/conv_lstm2d/while/Inception_v4/conv_lstm2d/while_grad/body/_189/gradient_tape/Inception_v4/conv_lstm2d/while/gradients/AddN'}.\n"
     ]
    },
    {
     "name": "stdout",
     "output_type": "stream",
     "text": [
      "315/315 - 49s - loss: 0.1586 - accuracy: 0.9797 - 49s/epoch - 156ms/step\n",
      "Epoch 2/2\n",
      "315/315 - 36s - loss: 0.1506 - accuracy: 0.9846 - 36s/epoch - 114ms/step\n"
     ]
    },
    {
     "name": "stderr",
     "output_type": "stream",
     "text": [
      "Progress Bar:  67%|██████▋   | 2/3 [05:10<02:23, 143.62s/it]"
     ]
    },
    {
     "name": "stdout",
     "output_type": "stream",
     "text": [
      "Epoch 1/2\n",
      "159/159 - 34s - loss: 0.1376 - accuracy: 0.9830 - 34s/epoch - 212ms/step\n",
      "Epoch 2/2\n",
      "159/159 - 19s - loss: 0.1222 - accuracy: 0.9881 - 19s/epoch - 119ms/step\n"
     ]
    },
    {
     "name": "stderr",
     "output_type": "stream",
     "text": [
      "Progress Bar: 100%|██████████| 3/3 [06:06<00:00, 122.23s/it]\n"
     ]
    },
    {
     "name": "stdout",
     "output_type": "stream",
     "text": [
      "32/32 [==============================] - 3s 43ms/step - loss: 0.6937 - accuracy: 0.7850\n",
      "comm_round: 14 | global_acc: 78.500% | global_loss: 0.6937041878700256\n"
     ]
    },
    {
     "name": "stderr",
     "output_type": "stream",
     "text": [
      "Progress Bar:   0%|          | 0/3 [00:00<?, ?it/s]"
     ]
    },
    {
     "name": "stdout",
     "output_type": "stream",
     "text": [
      "Epoch 1/2\n",
      "814/814 - 111s - loss: 0.1517 - accuracy: 0.9783 - 111s/epoch - 136ms/step\n",
      "Epoch 2/2\n",
      "814/814 - 98s - loss: 0.1535 - accuracy: 0.9773 - 98s/epoch - 120ms/step\n"
     ]
    },
    {
     "name": "stderr",
     "output_type": "stream",
     "text": [
      "Progress Bar:  33%|███▎      | 1/3 [03:38<07:16, 218.12s/it]"
     ]
    },
    {
     "name": "stdout",
     "output_type": "stream",
     "text": [
      "Epoch 1/2\n"
     ]
    },
    {
     "name": "stderr",
     "output_type": "stream",
     "text": [
      "2023-09-12 12:09:03.211968: E tensorflow/core/grappler/optimizers/meta_optimizer.cc:903] layout failed: INVALID_ARGUMENT: MutableGraphView::SortTopologically error: detected edge(s) creating cycle(s) {'Inception_v4/conv_lstm2d/while/body/_1/Inception_v4/conv_lstm2d/while/mul_2' -> 'Inception_v4/conv_lstm2d/while/body/_1/Inception_v4/conv_lstm2d/while/add_5', 'Inception_v4/conv_lstm2d/while/body/_1/Inception_v4/conv_lstm2d/while/clip_by_value' -> 'Inception_v4/conv_lstm2d/while/body/_1/Inception_v4/conv_lstm2d/while/mul_3', 'Inception_v4/conv_lstm2d/while/body/_1/Inception_v4/conv_lstm2d/while/clip_by_value_2' -> 'Inception_v4/conv_lstm2d/while/body/_1/Inception_v4/conv_lstm2d/while/mul_5', 'Inception_v4/conv_lstm2d/while/body/_1/Inception_v4/conv_lstm2d/while/convolution_6' -> 'Inception_v4/conv_lstm2d/while/body/_1/Inception_v4/conv_lstm2d/while/add_4', 'Func/gradient_tape/Inception_v4/conv_lstm2d/while/Inception_v4/conv_lstm2d/while_grad/body/_189/input/_551' -> 'gradient_tape/Inception_v4/conv_lstm2d/while/Inception_v4/conv_lstm2d/while_grad/body/_189/gradient_tape/Inception_v4/conv_lstm2d/while/gradients/AddN'}.\n"
     ]
    },
    {
     "name": "stdout",
     "output_type": "stream",
     "text": [
      "315/315 - 49s - loss: 0.1583 - accuracy: 0.9804 - 49s/epoch - 156ms/step\n",
      "Epoch 2/2\n",
      "315/315 - 36s - loss: 0.1533 - accuracy: 0.9800 - 36s/epoch - 115ms/step\n"
     ]
    },
    {
     "name": "stderr",
     "output_type": "stream",
     "text": [
      "Progress Bar:  67%|██████▋   | 2/3 [05:09<02:23, 143.79s/it]"
     ]
    },
    {
     "name": "stdout",
     "output_type": "stream",
     "text": [
      "Epoch 1/2\n",
      "159/159 - 34s - loss: 0.1317 - accuracy: 0.9850 - 34s/epoch - 216ms/step\n",
      "Epoch 2/2\n",
      "159/159 - 19s - loss: 0.1273 - accuracy: 0.9868 - 19s/epoch - 121ms/step\n"
     ]
    },
    {
     "name": "stderr",
     "output_type": "stream",
     "text": [
      "Progress Bar: 100%|██████████| 3/3 [06:07<00:00, 122.47s/it]\n"
     ]
    },
    {
     "name": "stdout",
     "output_type": "stream",
     "text": [
      "32/32 [==============================] - 3s 42ms/step - loss: 0.5183 - accuracy: 0.8530\n",
      "comm_round: 15 | global_acc: 85.300% | global_loss: 0.5182622671127319\n"
     ]
    },
    {
     "name": "stderr",
     "output_type": "stream",
     "text": [
      "Progress Bar:   0%|          | 0/3 [00:00<?, ?it/s]"
     ]
    },
    {
     "name": "stdout",
     "output_type": "stream",
     "text": [
      "Epoch 1/2\n",
      "814/814 - 113s - loss: 0.1462 - accuracy: 0.9796 - 113s/epoch - 139ms/step\n",
      "Epoch 2/2\n",
      "814/814 - 98s - loss: 0.1422 - accuracy: 0.9807 - 98s/epoch - 121ms/step\n"
     ]
    },
    {
     "name": "stderr",
     "output_type": "stream",
     "text": [
      "Progress Bar:  33%|███▎      | 1/3 [03:40<07:20, 220.23s/it]"
     ]
    },
    {
     "name": "stdout",
     "output_type": "stream",
     "text": [
      "Epoch 1/2\n"
     ]
    },
    {
     "name": "stderr",
     "output_type": "stream",
     "text": [
      "2023-09-12 12:15:33.247770: E tensorflow/core/grappler/optimizers/meta_optimizer.cc:903] layout failed: INVALID_ARGUMENT: MutableGraphView::SortTopologically error: detected edge(s) creating cycle(s) {'Inception_v4/conv_lstm2d/while/body/_1/Inception_v4/conv_lstm2d/while/mul_2' -> 'Inception_v4/conv_lstm2d/while/body/_1/Inception_v4/conv_lstm2d/while/add_5', 'Inception_v4/conv_lstm2d/while/body/_1/Inception_v4/conv_lstm2d/while/clip_by_value' -> 'Inception_v4/conv_lstm2d/while/body/_1/Inception_v4/conv_lstm2d/while/mul_3', 'Inception_v4/conv_lstm2d/while/body/_1/Inception_v4/conv_lstm2d/while/clip_by_value_2' -> 'Inception_v4/conv_lstm2d/while/body/_1/Inception_v4/conv_lstm2d/while/mul_5', 'Inception_v4/conv_lstm2d/while/body/_1/Inception_v4/conv_lstm2d/while/convolution_6' -> 'Inception_v4/conv_lstm2d/while/body/_1/Inception_v4/conv_lstm2d/while/add_4', 'Func/gradient_tape/Inception_v4/conv_lstm2d/while/Inception_v4/conv_lstm2d/while_grad/body/_189/input/_551' -> 'gradient_tape/Inception_v4/conv_lstm2d/while/Inception_v4/conv_lstm2d/while_grad/body/_189/gradient_tape/Inception_v4/conv_lstm2d/while/gradients/AddN'}.\n"
     ]
    },
    {
     "name": "stdout",
     "output_type": "stream",
     "text": [
      "315/315 - 50s - loss: 0.1542 - accuracy: 0.9807 - 50s/epoch - 157ms/step\n",
      "Epoch 2/2\n",
      "315/315 - 35s - loss: 0.1443 - accuracy: 0.9833 - 35s/epoch - 112ms/step\n"
     ]
    },
    {
     "name": "stderr",
     "output_type": "stream",
     "text": [
      "Progress Bar:  67%|██████▋   | 2/3 [05:10<02:23, 143.73s/it]"
     ]
    },
    {
     "name": "stdout",
     "output_type": "stream",
     "text": [
      "Epoch 1/2\n",
      "159/159 - 34s - loss: 0.1348 - accuracy: 0.9816 - 34s/epoch - 213ms/step\n",
      "Epoch 2/2\n",
      "159/159 - 19s - loss: 0.1135 - accuracy: 0.9872 - 19s/epoch - 120ms/step\n"
     ]
    },
    {
     "name": "stderr",
     "output_type": "stream",
     "text": [
      "Progress Bar: 100%|██████████| 3/3 [06:07<00:00, 122.48s/it]\n"
     ]
    },
    {
     "name": "stdout",
     "output_type": "stream",
     "text": [
      "32/32 [==============================] - 3s 42ms/step - loss: 0.7126 - accuracy: 0.7970\n",
      "comm_round: 16 | global_acc: 79.700% | global_loss: 0.7126412391662598\n"
     ]
    },
    {
     "name": "stderr",
     "output_type": "stream",
     "text": [
      "Progress Bar:   0%|          | 0/3 [00:00<?, ?it/s]"
     ]
    },
    {
     "name": "stdout",
     "output_type": "stream",
     "text": [
      "Epoch 1/2\n",
      "814/814 - 111s - loss: 0.1436 - accuracy: 0.9814 - 111s/epoch - 136ms/step\n",
      "Epoch 2/2\n",
      "814/814 - 97s - loss: 0.1390 - accuracy: 0.9815 - 97s/epoch - 120ms/step\n"
     ]
    },
    {
     "name": "stderr",
     "output_type": "stream",
     "text": [
      "Progress Bar:  33%|███▎      | 1/3 [03:38<07:16, 218.26s/it]"
     ]
    },
    {
     "name": "stdout",
     "output_type": "stream",
     "text": [
      "Epoch 1/2\n"
     ]
    },
    {
     "name": "stderr",
     "output_type": "stream",
     "text": [
      "2023-09-12 12:22:00.082396: E tensorflow/core/grappler/optimizers/meta_optimizer.cc:903] layout failed: INVALID_ARGUMENT: MutableGraphView::SortTopologically error: detected edge(s) creating cycle(s) {'Inception_v4/conv_lstm2d/while/body/_1/Inception_v4/conv_lstm2d/while/clip_by_value_2' -> 'Inception_v4/conv_lstm2d/while/body/_1/Inception_v4/conv_lstm2d/while/mul_5', 'Inception_v4/conv_lstm2d/while/body/_1/Inception_v4/conv_lstm2d/while/clip_by_value' -> 'Inception_v4/conv_lstm2d/while/body/_1/Inception_v4/conv_lstm2d/while/mul_3', 'Inception_v4/conv_lstm2d/while/body/_1/Inception_v4/conv_lstm2d/while/convolution_6' -> 'Inception_v4/conv_lstm2d/while/body/_1/Inception_v4/conv_lstm2d/while/add_4', 'Inception_v4/conv_lstm2d/while/body/_1/Inception_v4/conv_lstm2d/while/mul_2' -> 'Inception_v4/conv_lstm2d/while/body/_1/Inception_v4/conv_lstm2d/while/add_5', 'Func/gradient_tape/Inception_v4/conv_lstm2d/while/Inception_v4/conv_lstm2d/while_grad/body/_189/input/_551' -> 'gradient_tape/Inception_v4/conv_lstm2d/while/Inception_v4/conv_lstm2d/while_grad/body/_189/gradient_tape/Inception_v4/conv_lstm2d/while/gradients/AddN'}.\n"
     ]
    },
    {
     "name": "stdout",
     "output_type": "stream",
     "text": [
      "315/315 - 48s - loss: 0.1540 - accuracy: 0.9792 - 48s/epoch - 153ms/step\n",
      "Epoch 2/2\n",
      "315/315 - 36s - loss: 0.1354 - accuracy: 0.9860 - 36s/epoch - 114ms/step\n"
     ]
    },
    {
     "name": "stderr",
     "output_type": "stream",
     "text": [
      "Progress Bar:  67%|██████▋   | 2/3 [05:08<02:23, 143.12s/it]"
     ]
    },
    {
     "name": "stdout",
     "output_type": "stream",
     "text": [
      "Epoch 1/2\n",
      "159/159 - 34s - loss: 0.1330 - accuracy: 0.9844 - 34s/epoch - 217ms/step\n",
      "Epoch 2/2\n",
      "159/159 - 19s - loss: 0.1116 - accuracy: 0.9895 - 19s/epoch - 121ms/step\n"
     ]
    },
    {
     "name": "stderr",
     "output_type": "stream",
     "text": [
      "Progress Bar: 100%|██████████| 3/3 [06:07<00:00, 122.46s/it]\n"
     ]
    },
    {
     "name": "stdout",
     "output_type": "stream",
     "text": [
      "32/32 [==============================] - 3s 43ms/step - loss: 0.5599 - accuracy: 0.8390\n",
      "comm_round: 17 | global_acc: 83.900% | global_loss: 0.5599356293678284\n"
     ]
    },
    {
     "name": "stderr",
     "output_type": "stream",
     "text": [
      "Progress Bar:   0%|          | 0/3 [00:00<?, ?it/s]"
     ]
    },
    {
     "name": "stdout",
     "output_type": "stream",
     "text": [
      "Epoch 1/2\n",
      "814/814 - 112s - loss: 0.1393 - accuracy: 0.9818 - 112s/epoch - 138ms/step\n",
      "Epoch 2/2\n",
      "814/814 - 98s - loss: 0.1371 - accuracy: 0.9823 - 98s/epoch - 120ms/step\n"
     ]
    },
    {
     "name": "stderr",
     "output_type": "stream",
     "text": [
      "Progress Bar:  33%|███▎      | 1/3 [03:39<07:18, 219.21s/it]"
     ]
    },
    {
     "name": "stdout",
     "output_type": "stream",
     "text": [
      "Epoch 1/2\n"
     ]
    },
    {
     "name": "stderr",
     "output_type": "stream",
     "text": [
      "2023-09-12 12:28:29.910664: E tensorflow/core/grappler/optimizers/meta_optimizer.cc:903] layout failed: INVALID_ARGUMENT: MutableGraphView::SortTopologically error: detected edge(s) creating cycle(s) {'Inception_v4/conv_lstm2d/while/body/_1/Inception_v4/conv_lstm2d/while/mul_2' -> 'Inception_v4/conv_lstm2d/while/body/_1/Inception_v4/conv_lstm2d/while/add_5', 'Inception_v4/conv_lstm2d/while/body/_1/Inception_v4/conv_lstm2d/while/clip_by_value' -> 'Inception_v4/conv_lstm2d/while/body/_1/Inception_v4/conv_lstm2d/while/mul_3', 'Inception_v4/conv_lstm2d/while/body/_1/Inception_v4/conv_lstm2d/while/clip_by_value_2' -> 'Inception_v4/conv_lstm2d/while/body/_1/Inception_v4/conv_lstm2d/while/mul_5', 'Inception_v4/conv_lstm2d/while/body/_1/Inception_v4/conv_lstm2d/while/convolution_6' -> 'Inception_v4/conv_lstm2d/while/body/_1/Inception_v4/conv_lstm2d/while/add_4', 'Func/gradient_tape/Inception_v4/conv_lstm2d/while/Inception_v4/conv_lstm2d/while_grad/body/_189/input/_551' -> 'gradient_tape/Inception_v4/conv_lstm2d/while/Inception_v4/conv_lstm2d/while_grad/body/_189/gradient_tape/Inception_v4/conv_lstm2d/while/gradients/AddN'}.\n"
     ]
    },
    {
     "name": "stdout",
     "output_type": "stream",
     "text": [
      "315/315 - 50s - loss: 0.1423 - accuracy: 0.9830 - 50s/epoch - 159ms/step\n",
      "Epoch 2/2\n",
      "315/315 - 36s - loss: 0.1371 - accuracy: 0.9842 - 36s/epoch - 115ms/step\n"
     ]
    },
    {
     "name": "stderr",
     "output_type": "stream",
     "text": [
      "Progress Bar:  67%|██████▋   | 2/3 [05:10<02:24, 144.06s/it]"
     ]
    },
    {
     "name": "stdout",
     "output_type": "stream",
     "text": [
      "Epoch 1/2\n",
      "159/159 - 34s - loss: 0.1264 - accuracy: 0.9852 - 34s/epoch - 214ms/step\n",
      "Epoch 2/2\n",
      "159/159 - 19s - loss: 0.1078 - accuracy: 0.9919 - 19s/epoch - 120ms/step\n"
     ]
    },
    {
     "name": "stderr",
     "output_type": "stream",
     "text": [
      "Progress Bar: 100%|██████████| 3/3 [06:07<00:00, 122.58s/it]\n"
     ]
    },
    {
     "name": "stdout",
     "output_type": "stream",
     "text": [
      "32/32 [==============================] - 3s 42ms/step - loss: 0.5107 - accuracy: 0.8500\n",
      "comm_round: 18 | global_acc: 85.000% | global_loss: 0.5106859803199768\n"
     ]
    },
    {
     "name": "stderr",
     "output_type": "stream",
     "text": [
      "Progress Bar:   0%|          | 0/3 [00:00<?, ?it/s]"
     ]
    },
    {
     "name": "stdout",
     "output_type": "stream",
     "text": [
      "Epoch 1/2\n",
      "814/814 - 112s - loss: 0.1413 - accuracy: 0.9806 - 112s/epoch - 138ms/step\n",
      "Epoch 2/2\n",
      "814/814 - 97s - loss: 0.1321 - accuracy: 0.9841 - 97s/epoch - 119ms/step\n"
     ]
    },
    {
     "name": "stderr",
     "output_type": "stream",
     "text": [
      "Progress Bar:  33%|███▎      | 1/3 [03:38<07:16, 218.36s/it]"
     ]
    },
    {
     "name": "stdout",
     "output_type": "stream",
     "text": [
      "Epoch 1/2\n"
     ]
    },
    {
     "name": "stderr",
     "output_type": "stream",
     "text": [
      "2023-09-12 12:34:57.503402: E tensorflow/core/grappler/optimizers/meta_optimizer.cc:903] layout failed: INVALID_ARGUMENT: MutableGraphView::SortTopologically error: detected edge(s) creating cycle(s) {'Inception_v4/conv_lstm2d/while/body/_1/Inception_v4/conv_lstm2d/while/clip_by_value_2' -> 'Inception_v4/conv_lstm2d/while/body/_1/Inception_v4/conv_lstm2d/while/mul_5', 'Inception_v4/conv_lstm2d/while/body/_1/Inception_v4/conv_lstm2d/while/clip_by_value' -> 'Inception_v4/conv_lstm2d/while/body/_1/Inception_v4/conv_lstm2d/while/mul_3', 'Inception_v4/conv_lstm2d/while/body/_1/Inception_v4/conv_lstm2d/while/convolution_6' -> 'Inception_v4/conv_lstm2d/while/body/_1/Inception_v4/conv_lstm2d/while/add_4', 'Inception_v4/conv_lstm2d/while/body/_1/Inception_v4/conv_lstm2d/while/mul_2' -> 'Inception_v4/conv_lstm2d/while/body/_1/Inception_v4/conv_lstm2d/while/add_5', 'Func/gradient_tape/Inception_v4/conv_lstm2d/while/Inception_v4/conv_lstm2d/while_grad/body/_189/input/_551' -> 'gradient_tape/Inception_v4/conv_lstm2d/while/Inception_v4/conv_lstm2d/while_grad/body/_189/gradient_tape/Inception_v4/conv_lstm2d/while/gradients/AddN'}.\n"
     ]
    },
    {
     "name": "stdout",
     "output_type": "stream",
     "text": [
      "315/315 - 48s - loss: 0.1432 - accuracy: 0.9825 - 48s/epoch - 153ms/step\n",
      "Epoch 2/2\n",
      "315/315 - 36s - loss: 0.1404 - accuracy: 0.9836 - 36s/epoch - 114ms/step\n"
     ]
    },
    {
     "name": "stderr",
     "output_type": "stream",
     "text": [
      "Progress Bar:  67%|██████▋   | 2/3 [05:08<02:22, 142.93s/it]"
     ]
    },
    {
     "name": "stdout",
     "output_type": "stream",
     "text": [
      "Epoch 1/2\n",
      "159/159 - 33s - loss: 0.1192 - accuracy: 0.9874 - 33s/epoch - 206ms/step\n",
      "Epoch 2/2\n",
      "159/159 - 19s - loss: 0.1164 - accuracy: 0.9881 - 19s/epoch - 121ms/step\n"
     ]
    },
    {
     "name": "stderr",
     "output_type": "stream",
     "text": [
      "Progress Bar: 100%|██████████| 3/3 [06:05<00:00, 121.83s/it]\n"
     ]
    },
    {
     "name": "stdout",
     "output_type": "stream",
     "text": [
      "32/32 [==============================] - 3s 42ms/step - loss: 0.6205 - accuracy: 0.8040\n",
      "comm_round: 19 | global_acc: 80.400% | global_loss: 0.6204889416694641\n"
     ]
    },
    {
     "name": "stderr",
     "output_type": "stream",
     "text": [
      "Progress Bar:   0%|          | 0/3 [00:00<?, ?it/s]"
     ]
    },
    {
     "name": "stdout",
     "output_type": "stream",
     "text": [
      "Epoch 1/2\n",
      "814/814 - 113s - loss: 0.1365 - accuracy: 0.9824 - 113s/epoch - 139ms/step\n",
      "Epoch 2/2\n",
      "814/814 - 99s - loss: 0.1315 - accuracy: 0.9836 - 99s/epoch - 122ms/step\n"
     ]
    },
    {
     "name": "stderr",
     "output_type": "stream",
     "text": [
      "Progress Bar:  33%|███▎      | 1/3 [03:42<07:25, 222.51s/it]"
     ]
    },
    {
     "name": "stdout",
     "output_type": "stream",
     "text": [
      "Epoch 1/2\n"
     ]
    },
    {
     "name": "stderr",
     "output_type": "stream",
     "text": [
      "2023-09-12 12:41:29.114129: E tensorflow/core/grappler/optimizers/meta_optimizer.cc:903] layout failed: INVALID_ARGUMENT: MutableGraphView::SortTopologically error: detected edge(s) creating cycle(s) {'Inception_v4/conv_lstm2d/while/body/_1/Inception_v4/conv_lstm2d/while/mul_2' -> 'Inception_v4/conv_lstm2d/while/body/_1/Inception_v4/conv_lstm2d/while/add_5', 'Inception_v4/conv_lstm2d/while/body/_1/Inception_v4/conv_lstm2d/while/clip_by_value' -> 'Inception_v4/conv_lstm2d/while/body/_1/Inception_v4/conv_lstm2d/while/mul_3', 'Inception_v4/conv_lstm2d/while/body/_1/Inception_v4/conv_lstm2d/while/clip_by_value_2' -> 'Inception_v4/conv_lstm2d/while/body/_1/Inception_v4/conv_lstm2d/while/mul_5', 'Inception_v4/conv_lstm2d/while/body/_1/Inception_v4/conv_lstm2d/while/convolution_6' -> 'Inception_v4/conv_lstm2d/while/body/_1/Inception_v4/conv_lstm2d/while/add_4', 'Func/gradient_tape/Inception_v4/conv_lstm2d/while/Inception_v4/conv_lstm2d/while_grad/body/_189/input/_551' -> 'gradient_tape/Inception_v4/conv_lstm2d/while/Inception_v4/conv_lstm2d/while_grad/body/_189/gradient_tape/Inception_v4/conv_lstm2d/while/gradients/AddN'}.\n"
     ]
    },
    {
     "name": "stdout",
     "output_type": "stream",
     "text": [
      "315/315 - 50s - loss: 0.1393 - accuracy: 0.9838 - 50s/epoch - 158ms/step\n",
      "Epoch 2/2\n",
      "315/315 - 36s - loss: 0.1364 - accuracy: 0.9836 - 36s/epoch - 115ms/step\n"
     ]
    },
    {
     "name": "stderr",
     "output_type": "stream",
     "text": [
      "Progress Bar:  67%|██████▋   | 2/3 [05:13<02:25, 145.29s/it]"
     ]
    },
    {
     "name": "stdout",
     "output_type": "stream",
     "text": [
      "Epoch 1/2\n",
      "159/159 - 34s - loss: 0.1229 - accuracy: 0.9852 - 34s/epoch - 216ms/step\n",
      "Epoch 2/2\n",
      "159/159 - 19s - loss: 0.1045 - accuracy: 0.9901 - 19s/epoch - 121ms/step\n"
     ]
    },
    {
     "name": "stderr",
     "output_type": "stream",
     "text": [
      "Progress Bar: 100%|██████████| 3/3 [06:11<00:00, 123.77s/it]\n"
     ]
    },
    {
     "name": "stdout",
     "output_type": "stream",
     "text": [
      "32/32 [==============================] - 3s 43ms/step - loss: 0.5322 - accuracy: 0.8340\n",
      "comm_round: 20 | global_acc: 83.400% | global_loss: 0.5321666598320007\n"
     ]
    },
    {
     "name": "stderr",
     "output_type": "stream",
     "text": [
      "Progress Bar:   0%|          | 0/3 [00:00<?, ?it/s]"
     ]
    },
    {
     "name": "stdout",
     "output_type": "stream",
     "text": [
      "Epoch 1/2\n",
      "814/814 - 112s - loss: 0.1333 - accuracy: 0.9820 - 112s/epoch - 138ms/step\n",
      "Epoch 2/2\n",
      "814/814 - 98s - loss: 0.1284 - accuracy: 0.9842 - 98s/epoch - 120ms/step\n"
     ]
    },
    {
     "name": "stderr",
     "output_type": "stream",
     "text": [
      "Progress Bar:  33%|███▎      | 1/3 [03:39<07:18, 219.21s/it]"
     ]
    },
    {
     "name": "stdout",
     "output_type": "stream",
     "text": [
      "Epoch 1/2\n"
     ]
    },
    {
     "name": "stderr",
     "output_type": "stream",
     "text": [
      "2023-09-12 12:47:58.367802: E tensorflow/core/grappler/optimizers/meta_optimizer.cc:903] layout failed: INVALID_ARGUMENT: MutableGraphView::SortTopologically error: detected edge(s) creating cycle(s) {'Inception_v4/conv_lstm2d/while/body/_1/Inception_v4/conv_lstm2d/while/mul_2' -> 'Inception_v4/conv_lstm2d/while/body/_1/Inception_v4/conv_lstm2d/while/add_5', 'Inception_v4/conv_lstm2d/while/body/_1/Inception_v4/conv_lstm2d/while/convolution_6' -> 'Inception_v4/conv_lstm2d/while/body/_1/Inception_v4/conv_lstm2d/while/add_4', 'Inception_v4/conv_lstm2d/while/body/_1/Inception_v4/conv_lstm2d/while/clip_by_value_2' -> 'Inception_v4/conv_lstm2d/while/body/_1/Inception_v4/conv_lstm2d/while/mul_5', 'Inception_v4/conv_lstm2d/while/body/_1/Inception_v4/conv_lstm2d/while/clip_by_value' -> 'Inception_v4/conv_lstm2d/while/body/_1/Inception_v4/conv_lstm2d/while/mul_3', 'Func/gradient_tape/Inception_v4/conv_lstm2d/while/Inception_v4/conv_lstm2d/while_grad/body/_189/input/_551' -> 'gradient_tape/Inception_v4/conv_lstm2d/while/Inception_v4/conv_lstm2d/while_grad/body/_189/gradient_tape/Inception_v4/conv_lstm2d/while/gradients/AddN'}.\n"
     ]
    },
    {
     "name": "stdout",
     "output_type": "stream",
     "text": [
      "315/315 - 50s - loss: 0.1382 - accuracy: 0.9841 - 50s/epoch - 157ms/step\n",
      "Epoch 2/2\n",
      "315/315 - 36s - loss: 0.1332 - accuracy: 0.9849 - 36s/epoch - 115ms/step\n"
     ]
    },
    {
     "name": "stderr",
     "output_type": "stream",
     "text": [
      "Progress Bar:  67%|██████▋   | 2/3 [05:10<02:23, 143.95s/it]"
     ]
    },
    {
     "name": "stdout",
     "output_type": "stream",
     "text": [
      "Epoch 1/2\n",
      "159/159 - 34s - loss: 0.1251 - accuracy: 0.9822 - 34s/epoch - 213ms/step\n",
      "Epoch 2/2\n",
      "159/159 - 19s - loss: 0.1123 - accuracy: 0.9901 - 19s/epoch - 119ms/step\n"
     ]
    },
    {
     "name": "stderr",
     "output_type": "stream",
     "text": [
      "Progress Bar: 100%|██████████| 3/3 [06:07<00:00, 122.43s/it]\n"
     ]
    },
    {
     "name": "stdout",
     "output_type": "stream",
     "text": [
      "32/32 [==============================] - 2s 38ms/step - loss: 0.6386 - accuracy: 0.7900\n",
      "comm_round: 21 | global_acc: 79.000% | global_loss: 0.63860023021698\n"
     ]
    },
    {
     "name": "stderr",
     "output_type": "stream",
     "text": [
      "Progress Bar:   0%|          | 0/3 [00:00<?, ?it/s]"
     ]
    },
    {
     "name": "stdout",
     "output_type": "stream",
     "text": [
      "Epoch 1/2\n",
      "814/814 - 111s - loss: 0.1293 - accuracy: 0.9835 - 111s/epoch - 137ms/step\n",
      "Epoch 2/2\n",
      "814/814 - 97s - loss: 0.1308 - accuracy: 0.9839 - 97s/epoch - 120ms/step\n"
     ]
    },
    {
     "name": "stderr",
     "output_type": "stream",
     "text": [
      "Progress Bar:  33%|███▎      | 1/3 [03:38<07:17, 218.63s/it]"
     ]
    },
    {
     "name": "stdout",
     "output_type": "stream",
     "text": [
      "Epoch 1/2\n"
     ]
    },
    {
     "name": "stderr",
     "output_type": "stream",
     "text": [
      "2023-09-12 12:54:26.246023: E tensorflow/core/grappler/optimizers/meta_optimizer.cc:903] layout failed: INVALID_ARGUMENT: MutableGraphView::SortTopologically error: detected edge(s) creating cycle(s) {'Inception_v4/conv_lstm2d/while/body/_1/Inception_v4/conv_lstm2d/while/mul_2' -> 'Inception_v4/conv_lstm2d/while/body/_1/Inception_v4/conv_lstm2d/while/add_5', 'Inception_v4/conv_lstm2d/while/body/_1/Inception_v4/conv_lstm2d/while/convolution_6' -> 'Inception_v4/conv_lstm2d/while/body/_1/Inception_v4/conv_lstm2d/while/add_4', 'Inception_v4/conv_lstm2d/while/body/_1/Inception_v4/conv_lstm2d/while/clip_by_value' -> 'Inception_v4/conv_lstm2d/while/body/_1/Inception_v4/conv_lstm2d/while/mul_3', 'Inception_v4/conv_lstm2d/while/body/_1/Inception_v4/conv_lstm2d/while/clip_by_value_2' -> 'Inception_v4/conv_lstm2d/while/body/_1/Inception_v4/conv_lstm2d/while/mul_5', 'Func/gradient_tape/Inception_v4/conv_lstm2d/while/Inception_v4/conv_lstm2d/while_grad/body/_189/input/_551' -> 'gradient_tape/Inception_v4/conv_lstm2d/while/Inception_v4/conv_lstm2d/while_grad/body/_189/gradient_tape/Inception_v4/conv_lstm2d/while/gradients/AddN'}.\n"
     ]
    },
    {
     "name": "stdout",
     "output_type": "stream",
     "text": [
      "315/315 - 48s - loss: 0.1346 - accuracy: 0.9857 - 48s/epoch - 153ms/step\n",
      "Epoch 2/2\n",
      "315/315 - 36s - loss: 0.1233 - accuracy: 0.9888 - 36s/epoch - 116ms/step\n"
     ]
    },
    {
     "name": "stderr",
     "output_type": "stream",
     "text": [
      "Progress Bar:  67%|██████▋   | 2/3 [05:09<02:23, 143.67s/it]"
     ]
    },
    {
     "name": "stdout",
     "output_type": "stream",
     "text": [
      "Epoch 1/2\n",
      "159/159 - 35s - loss: 0.1191 - accuracy: 0.9879 - 35s/epoch - 220ms/step\n",
      "Epoch 2/2\n",
      "159/159 - 19s - loss: 0.1060 - accuracy: 0.9889 - 19s/epoch - 120ms/step\n"
     ]
    },
    {
     "name": "stderr",
     "output_type": "stream",
     "text": [
      "Progress Bar: 100%|██████████| 3/3 [06:08<00:00, 122.96s/it]\n"
     ]
    },
    {
     "name": "stdout",
     "output_type": "stream",
     "text": [
      "32/32 [==============================] - 3s 42ms/step - loss: 0.6149 - accuracy: 0.8220\n",
      "comm_round: 22 | global_acc: 82.200% | global_loss: 0.614899218082428\n"
     ]
    },
    {
     "name": "stderr",
     "output_type": "stream",
     "text": [
      "Progress Bar:   0%|          | 0/3 [00:00<?, ?it/s]"
     ]
    },
    {
     "name": "stdout",
     "output_type": "stream",
     "text": [
      "Epoch 1/2\n",
      "814/814 - 113s - loss: 0.1272 - accuracy: 0.9849 - 113s/epoch - 139ms/step\n",
      "Epoch 2/2\n",
      "814/814 - 98s - loss: 0.1281 - accuracy: 0.9832 - 98s/epoch - 120ms/step\n"
     ]
    },
    {
     "name": "stderr",
     "output_type": "stream",
     "text": [
      "Progress Bar:  33%|███▎      | 1/3 [03:40<07:20, 220.06s/it]"
     ]
    },
    {
     "name": "stdout",
     "output_type": "stream",
     "text": [
      "Epoch 1/2\n"
     ]
    },
    {
     "name": "stderr",
     "output_type": "stream",
     "text": [
      "2023-09-12 13:00:58.230818: E tensorflow/core/grappler/optimizers/meta_optimizer.cc:903] layout failed: INVALID_ARGUMENT: MutableGraphView::SortTopologically error: detected edge(s) creating cycle(s) {'Inception_v4/conv_lstm2d/while/body/_1/Inception_v4/conv_lstm2d/while/mul_2' -> 'Inception_v4/conv_lstm2d/while/body/_1/Inception_v4/conv_lstm2d/while/add_5', 'Inception_v4/conv_lstm2d/while/body/_1/Inception_v4/conv_lstm2d/while/clip_by_value' -> 'Inception_v4/conv_lstm2d/while/body/_1/Inception_v4/conv_lstm2d/while/mul_3', 'Inception_v4/conv_lstm2d/while/body/_1/Inception_v4/conv_lstm2d/while/clip_by_value_2' -> 'Inception_v4/conv_lstm2d/while/body/_1/Inception_v4/conv_lstm2d/while/mul_5', 'Inception_v4/conv_lstm2d/while/body/_1/Inception_v4/conv_lstm2d/while/convolution_6' -> 'Inception_v4/conv_lstm2d/while/body/_1/Inception_v4/conv_lstm2d/while/add_4', 'Func/gradient_tape/Inception_v4/conv_lstm2d/while/Inception_v4/conv_lstm2d/while_grad/body/_189/input/_551' -> 'gradient_tape/Inception_v4/conv_lstm2d/while/Inception_v4/conv_lstm2d/while_grad/body/_189/gradient_tape/Inception_v4/conv_lstm2d/while/gradients/AddN'}.\n"
     ]
    },
    {
     "name": "stdout",
     "output_type": "stream",
     "text": [
      "315/315 - 50s - loss: 0.1326 - accuracy: 0.9858 - 50s/epoch - 159ms/step\n",
      "Epoch 2/2\n",
      "315/315 - 36s - loss: 0.1304 - accuracy: 0.9860 - 36s/epoch - 114ms/step\n"
     ]
    },
    {
     "name": "stderr",
     "output_type": "stream",
     "text": [
      "Progress Bar:  67%|██████▋   | 2/3 [05:11<02:24, 144.38s/it]"
     ]
    },
    {
     "name": "stdout",
     "output_type": "stream",
     "text": [
      "Epoch 1/2\n",
      "159/159 - 34s - loss: 0.1197 - accuracy: 0.9858 - 34s/epoch - 214ms/step\n",
      "Epoch 2/2\n",
      "159/159 - 19s - loss: 0.1045 - accuracy: 0.9879 - 19s/epoch - 120ms/step\n"
     ]
    },
    {
     "name": "stderr",
     "output_type": "stream",
     "text": [
      "Progress Bar: 100%|██████████| 3/3 [06:08<00:00, 122.81s/it]\n"
     ]
    },
    {
     "name": "stdout",
     "output_type": "stream",
     "text": [
      "32/32 [==============================] - 3s 42ms/step - loss: 0.6624 - accuracy: 0.7990\n",
      "comm_round: 23 | global_acc: 79.900% | global_loss: 0.662367045879364\n"
     ]
    },
    {
     "name": "stderr",
     "output_type": "stream",
     "text": [
      "Progress Bar:   0%|          | 0/3 [00:00<?, ?it/s]"
     ]
    },
    {
     "name": "stdout",
     "output_type": "stream",
     "text": [
      "Epoch 1/2\n",
      "814/814 - 112s - loss: 0.1254 - accuracy: 0.9854 - 112s/epoch - 138ms/step\n",
      "Epoch 2/2\n",
      "814/814 - 97s - loss: 0.1237 - accuracy: 0.9861 - 97s/epoch - 120ms/step\n"
     ]
    },
    {
     "name": "stderr",
     "output_type": "stream",
     "text": [
      "Progress Bar:  33%|███▎      | 1/3 [03:39<07:18, 219.04s/it]"
     ]
    },
    {
     "name": "stdout",
     "output_type": "stream",
     "text": [
      "Epoch 1/2\n"
     ]
    },
    {
     "name": "stderr",
     "output_type": "stream",
     "text": [
      "2023-09-12 13:07:26.292094: E tensorflow/core/grappler/optimizers/meta_optimizer.cc:903] layout failed: INVALID_ARGUMENT: MutableGraphView::SortTopologically error: detected edge(s) creating cycle(s) {'Inception_v4/conv_lstm2d/while/body/_1/Inception_v4/conv_lstm2d/while/mul_2' -> 'Inception_v4/conv_lstm2d/while/body/_1/Inception_v4/conv_lstm2d/while/add_5', 'Inception_v4/conv_lstm2d/while/body/_1/Inception_v4/conv_lstm2d/while/clip_by_value' -> 'Inception_v4/conv_lstm2d/while/body/_1/Inception_v4/conv_lstm2d/while/mul_3', 'Inception_v4/conv_lstm2d/while/body/_1/Inception_v4/conv_lstm2d/while/clip_by_value_2' -> 'Inception_v4/conv_lstm2d/while/body/_1/Inception_v4/conv_lstm2d/while/mul_5', 'Inception_v4/conv_lstm2d/while/body/_1/Inception_v4/conv_lstm2d/while/convolution_6' -> 'Inception_v4/conv_lstm2d/while/body/_1/Inception_v4/conv_lstm2d/while/add_4', 'Func/gradient_tape/Inception_v4/conv_lstm2d/while/Inception_v4/conv_lstm2d/while_grad/body/_189/input/_551' -> 'gradient_tape/Inception_v4/conv_lstm2d/while/Inception_v4/conv_lstm2d/while_grad/body/_189/gradient_tape/Inception_v4/conv_lstm2d/while/gradients/AddN'}.\n"
     ]
    },
    {
     "name": "stdout",
     "output_type": "stream",
     "text": [
      "315/315 - 48s - loss: 0.1281 - accuracy: 0.9863 - 48s/epoch - 153ms/step\n",
      "Epoch 2/2\n",
      "315/315 - 36s - loss: 0.1244 - accuracy: 0.9869 - 36s/epoch - 114ms/step\n"
     ]
    },
    {
     "name": "stderr",
     "output_type": "stream",
     "text": [
      "Progress Bar:  67%|██████▋   | 2/3 [05:08<02:23, 143.03s/it]"
     ]
    },
    {
     "name": "stdout",
     "output_type": "stream",
     "text": [
      "Epoch 1/2\n",
      "159/159 - 33s - loss: 0.1115 - accuracy: 0.9885 - 33s/epoch - 206ms/step\n",
      "Epoch 2/2\n",
      "159/159 - 19s - loss: 0.1061 - accuracy: 0.9891 - 19s/epoch - 120ms/step\n"
     ]
    },
    {
     "name": "stderr",
     "output_type": "stream",
     "text": [
      "Progress Bar: 100%|██████████| 3/3 [06:05<00:00, 121.91s/it]\n"
     ]
    },
    {
     "name": "stdout",
     "output_type": "stream",
     "text": [
      "32/32 [==============================] - 3s 41ms/step - loss: 0.5917 - accuracy: 0.8480\n",
      "comm_round: 24 | global_acc: 84.800% | global_loss: 0.5916830897331238\n"
     ]
    },
    {
     "name": "stderr",
     "output_type": "stream",
     "text": [
      "Progress Bar:   0%|          | 0/3 [00:00<?, ?it/s]"
     ]
    },
    {
     "name": "stdout",
     "output_type": "stream",
     "text": [
      "Epoch 1/2\n",
      "814/814 - 113s - loss: 0.1228 - accuracy: 0.9857 - 113s/epoch - 139ms/step\n",
      "Epoch 2/2\n",
      "814/814 - 98s - loss: 0.1234 - accuracy: 0.9850 - 98s/epoch - 121ms/step\n"
     ]
    },
    {
     "name": "stderr",
     "output_type": "stream",
     "text": [
      "Progress Bar:  33%|███▎      | 1/3 [03:40<07:21, 220.62s/it]"
     ]
    },
    {
     "name": "stdout",
     "output_type": "stream",
     "text": [
      "Epoch 1/2\n"
     ]
    },
    {
     "name": "stderr",
     "output_type": "stream",
     "text": [
      "2023-09-12 13:13:56.148008: E tensorflow/core/grappler/optimizers/meta_optimizer.cc:903] layout failed: INVALID_ARGUMENT: MutableGraphView::SortTopologically error: detected edge(s) creating cycle(s) {'Inception_v4/conv_lstm2d/while/body/_1/Inception_v4/conv_lstm2d/while/clip_by_value_2' -> 'Inception_v4/conv_lstm2d/while/body/_1/Inception_v4/conv_lstm2d/while/mul_5', 'Inception_v4/conv_lstm2d/while/body/_1/Inception_v4/conv_lstm2d/while/clip_by_value' -> 'Inception_v4/conv_lstm2d/while/body/_1/Inception_v4/conv_lstm2d/while/mul_3', 'Inception_v4/conv_lstm2d/while/body/_1/Inception_v4/conv_lstm2d/while/convolution_6' -> 'Inception_v4/conv_lstm2d/while/body/_1/Inception_v4/conv_lstm2d/while/add_4', 'Inception_v4/conv_lstm2d/while/body/_1/Inception_v4/conv_lstm2d/while/mul_2' -> 'Inception_v4/conv_lstm2d/while/body/_1/Inception_v4/conv_lstm2d/while/add_5', 'Func/gradient_tape/Inception_v4/conv_lstm2d/while/Inception_v4/conv_lstm2d/while_grad/body/_189/input/_551' -> 'gradient_tape/Inception_v4/conv_lstm2d/while/Inception_v4/conv_lstm2d/while_grad/body/_189/gradient_tape/Inception_v4/conv_lstm2d/while/gradients/AddN'}.\n"
     ]
    },
    {
     "name": "stdout",
     "output_type": "stream",
     "text": [
      "315/315 - 49s - loss: 0.1281 - accuracy: 0.9869 - 49s/epoch - 157ms/step\n",
      "Epoch 2/2\n",
      "315/315 - 36s - loss: 0.1222 - accuracy: 0.9881 - 36s/epoch - 115ms/step\n"
     ]
    },
    {
     "name": "stderr",
     "output_type": "stream",
     "text": [
      "Progress Bar:  67%|██████▋   | 2/3 [05:11<02:24, 144.32s/it]"
     ]
    },
    {
     "name": "stdout",
     "output_type": "stream",
     "text": [
      "Epoch 1/2\n",
      "159/159 - 34s - loss: 0.1122 - accuracy: 0.9883 - 34s/epoch - 215ms/step\n",
      "Epoch 2/2\n",
      "159/159 - 19s - loss: 0.1060 - accuracy: 0.9883 - 19s/epoch - 119ms/step\n"
     ]
    },
    {
     "name": "stderr",
     "output_type": "stream",
     "text": [
      "Progress Bar: 100%|██████████| 3/3 [06:08<00:00, 122.91s/it]\n"
     ]
    },
    {
     "name": "stdout",
     "output_type": "stream",
     "text": [
      "32/32 [==============================] - 3s 39ms/step - loss: 0.5484 - accuracy: 0.8660\n",
      "comm_round: 25 | global_acc: 86.600% | global_loss: 0.5484288334846497\n"
     ]
    },
    {
     "name": "stderr",
     "output_type": "stream",
     "text": [
      "Progress Bar:   0%|          | 0/3 [00:00<?, ?it/s]"
     ]
    },
    {
     "name": "stdout",
     "output_type": "stream",
     "text": [
      "Epoch 1/2\n",
      "814/814 - 112s - loss: 0.1241 - accuracy: 0.9852 - 112s/epoch - 138ms/step\n",
      "Epoch 2/2\n",
      "814/814 - 98s - loss: 0.1217 - accuracy: 0.9851 - 98s/epoch - 120ms/step\n"
     ]
    },
    {
     "name": "stderr",
     "output_type": "stream",
     "text": [
      "Progress Bar:  33%|███▎      | 1/3 [03:39<07:18, 219.37s/it]"
     ]
    },
    {
     "name": "stdout",
     "output_type": "stream",
     "text": [
      "Epoch 1/2\n"
     ]
    },
    {
     "name": "stderr",
     "output_type": "stream",
     "text": [
      "2023-09-12 13:20:25.048360: E tensorflow/core/grappler/optimizers/meta_optimizer.cc:903] layout failed: INVALID_ARGUMENT: MutableGraphView::SortTopologically error: detected edge(s) creating cycle(s) {'Inception_v4/conv_lstm2d/while/body/_1/Inception_v4/conv_lstm2d/while/mul_2' -> 'Inception_v4/conv_lstm2d/while/body/_1/Inception_v4/conv_lstm2d/while/add_5', 'Inception_v4/conv_lstm2d/while/body/_1/Inception_v4/conv_lstm2d/while/clip_by_value' -> 'Inception_v4/conv_lstm2d/while/body/_1/Inception_v4/conv_lstm2d/while/mul_3', 'Inception_v4/conv_lstm2d/while/body/_1/Inception_v4/conv_lstm2d/while/clip_by_value_2' -> 'Inception_v4/conv_lstm2d/while/body/_1/Inception_v4/conv_lstm2d/while/mul_5', 'Inception_v4/conv_lstm2d/while/body/_1/Inception_v4/conv_lstm2d/while/convolution_6' -> 'Inception_v4/conv_lstm2d/while/body/_1/Inception_v4/conv_lstm2d/while/add_4', 'Func/gradient_tape/Inception_v4/conv_lstm2d/while/Inception_v4/conv_lstm2d/while_grad/body/_189/input/_551' -> 'gradient_tape/Inception_v4/conv_lstm2d/while/Inception_v4/conv_lstm2d/while_grad/body/_189/gradient_tape/Inception_v4/conv_lstm2d/while/gradients/AddN'}.\n"
     ]
    },
    {
     "name": "stdout",
     "output_type": "stream",
     "text": [
      "315/315 - 50s - loss: 0.1240 - accuracy: 0.9867 - 50s/epoch - 158ms/step\n",
      "Epoch 2/2\n",
      "315/315 - 36s - loss: 0.1209 - accuracy: 0.9880 - 36s/epoch - 115ms/step\n"
     ]
    },
    {
     "name": "stderr",
     "output_type": "stream",
     "text": [
      "Progress Bar:  67%|██████▋   | 2/3 [05:10<02:24, 144.04s/it]"
     ]
    },
    {
     "name": "stdout",
     "output_type": "stream",
     "text": [
      "Epoch 1/2\n",
      "159/159 - 32s - loss: 0.1129 - accuracy: 0.9876 - 32s/epoch - 204ms/step\n",
      "Epoch 2/2\n",
      "159/159 - 19s - loss: 0.1026 - accuracy: 0.9903 - 19s/epoch - 119ms/step\n"
     ]
    },
    {
     "name": "stderr",
     "output_type": "stream",
     "text": [
      "Progress Bar: 100%|██████████| 3/3 [06:06<00:00, 122.20s/it]\n"
     ]
    },
    {
     "name": "stdout",
     "output_type": "stream",
     "text": [
      "32/32 [==============================] - 2s 39ms/step - loss: 0.5544 - accuracy: 0.8440\n",
      "comm_round: 26 | global_acc: 84.400% | global_loss: 0.5544218420982361\n"
     ]
    },
    {
     "name": "stderr",
     "output_type": "stream",
     "text": [
      "Progress Bar:   0%|          | 0/3 [00:00<?, ?it/s]"
     ]
    },
    {
     "name": "stdout",
     "output_type": "stream",
     "text": [
      "Epoch 1/2\n",
      "814/814 - 113s - loss: 0.1224 - accuracy: 0.9851 - 113s/epoch - 139ms/step\n",
      "Epoch 2/2\n",
      "814/814 - 98s - loss: 0.1189 - accuracy: 0.9862 - 98s/epoch - 120ms/step\n"
     ]
    },
    {
     "name": "stderr",
     "output_type": "stream",
     "text": [
      "Progress Bar:  33%|███▎      | 1/3 [03:40<07:21, 220.73s/it]"
     ]
    },
    {
     "name": "stdout",
     "output_type": "stream",
     "text": [
      "Epoch 1/2\n"
     ]
    },
    {
     "name": "stderr",
     "output_type": "stream",
     "text": [
      "2023-09-12 13:26:54.456311: E tensorflow/core/grappler/optimizers/meta_optimizer.cc:903] layout failed: INVALID_ARGUMENT: MutableGraphView::SortTopologically error: detected edge(s) creating cycle(s) {'Inception_v4/conv_lstm2d/while/body/_1/Inception_v4/conv_lstm2d/while/mul_2' -> 'Inception_v4/conv_lstm2d/while/body/_1/Inception_v4/conv_lstm2d/while/add_5', 'Inception_v4/conv_lstm2d/while/body/_1/Inception_v4/conv_lstm2d/while/convolution_6' -> 'Inception_v4/conv_lstm2d/while/body/_1/Inception_v4/conv_lstm2d/while/add_4', 'Inception_v4/conv_lstm2d/while/body/_1/Inception_v4/conv_lstm2d/while/clip_by_value' -> 'Inception_v4/conv_lstm2d/while/body/_1/Inception_v4/conv_lstm2d/while/mul_3', 'Inception_v4/conv_lstm2d/while/body/_1/Inception_v4/conv_lstm2d/while/clip_by_value_2' -> 'Inception_v4/conv_lstm2d/while/body/_1/Inception_v4/conv_lstm2d/while/mul_5', 'Func/gradient_tape/Inception_v4/conv_lstm2d/while/Inception_v4/conv_lstm2d/while_grad/body/_189/input/_551' -> 'gradient_tape/Inception_v4/conv_lstm2d/while/Inception_v4/conv_lstm2d/while_grad/body/_189/gradient_tape/Inception_v4/conv_lstm2d/while/gradients/AddN'}.\n"
     ]
    },
    {
     "name": "stdout",
     "output_type": "stream",
     "text": [
      "315/315 - 50s - loss: 0.1222 - accuracy: 0.9864 - 50s/epoch - 160ms/step\n",
      "Epoch 2/2\n",
      "315/315 - 36s - loss: 0.1197 - accuracy: 0.9878 - 36s/epoch - 113ms/step\n"
     ]
    },
    {
     "name": "stderr",
     "output_type": "stream",
     "text": [
      "Progress Bar:  67%|██████▋   | 2/3 [05:12<02:24, 144.59s/it]"
     ]
    },
    {
     "name": "stdout",
     "output_type": "stream",
     "text": [
      "Epoch 1/2\n",
      "159/159 - 34s - loss: 0.1149 - accuracy: 0.9858 - 34s/epoch - 213ms/step\n",
      "Epoch 2/2\n",
      "159/159 - 19s - loss: 0.0993 - accuracy: 0.9909 - 19s/epoch - 120ms/step\n"
     ]
    },
    {
     "name": "stderr",
     "output_type": "stream",
     "text": [
      "Progress Bar: 100%|██████████| 3/3 [06:08<00:00, 122.98s/it]\n"
     ]
    },
    {
     "name": "stdout",
     "output_type": "stream",
     "text": [
      "32/32 [==============================] - 3s 41ms/step - loss: 0.6096 - accuracy: 0.8340\n",
      "comm_round: 27 | global_acc: 83.400% | global_loss: 0.6095535755157471\n"
     ]
    },
    {
     "name": "stderr",
     "output_type": "stream",
     "text": [
      "Progress Bar:   0%|          | 0/3 [00:00<?, ?it/s]"
     ]
    },
    {
     "name": "stdout",
     "output_type": "stream",
     "text": [
      "Epoch 1/2\n",
      "814/814 - 113s - loss: 0.1171 - accuracy: 0.9878 - 113s/epoch - 138ms/step\n",
      "Epoch 2/2\n",
      "814/814 - 98s - loss: 0.1203 - accuracy: 0.9857 - 98s/epoch - 120ms/step\n"
     ]
    },
    {
     "name": "stderr",
     "output_type": "stream",
     "text": [
      "Progress Bar:  33%|███▎      | 1/3 [03:39<07:19, 219.56s/it]"
     ]
    },
    {
     "name": "stdout",
     "output_type": "stream",
     "text": [
      "Epoch 1/2\n"
     ]
    },
    {
     "name": "stderr",
     "output_type": "stream",
     "text": [
      "2023-09-12 13:33:23.191504: E tensorflow/core/grappler/optimizers/meta_optimizer.cc:903] layout failed: INVALID_ARGUMENT: MutableGraphView::SortTopologically error: detected edge(s) creating cycle(s) {'Inception_v4/conv_lstm2d/while/body/_1/Inception_v4/conv_lstm2d/while/clip_by_value_2' -> 'Inception_v4/conv_lstm2d/while/body/_1/Inception_v4/conv_lstm2d/while/mul_5', 'Inception_v4/conv_lstm2d/while/body/_1/Inception_v4/conv_lstm2d/while/clip_by_value' -> 'Inception_v4/conv_lstm2d/while/body/_1/Inception_v4/conv_lstm2d/while/mul_3', 'Inception_v4/conv_lstm2d/while/body/_1/Inception_v4/conv_lstm2d/while/convolution_6' -> 'Inception_v4/conv_lstm2d/while/body/_1/Inception_v4/conv_lstm2d/while/add_4', 'Inception_v4/conv_lstm2d/while/body/_1/Inception_v4/conv_lstm2d/while/mul_2' -> 'Inception_v4/conv_lstm2d/while/body/_1/Inception_v4/conv_lstm2d/while/add_5', 'Func/gradient_tape/Inception_v4/conv_lstm2d/while/Inception_v4/conv_lstm2d/while_grad/body/_189/input/_551' -> 'gradient_tape/Inception_v4/conv_lstm2d/while/Inception_v4/conv_lstm2d/while_grad/body/_189/gradient_tape/Inception_v4/conv_lstm2d/while/gradients/AddN'}.\n"
     ]
    },
    {
     "name": "stdout",
     "output_type": "stream",
     "text": [
      "315/315 - 50s - loss: 0.1240 - accuracy: 0.9874 - 50s/epoch - 158ms/step\n",
      "Epoch 2/2\n",
      "Epoch 1/2\n",
      "814/814 - 99s - loss: 0.1172 - accuracy: 0.9867 - 99s/epoch - 121ms/step\n"
     ]
    },
    {
     "name": "stderr",
     "output_type": "stream",
     "text": [
      "Progress Bar:  33%|███▎      | 1/3 [03:42<07:24, 222.44s/it]"
     ]
    },
    {
     "name": "stdout",
     "output_type": "stream",
     "text": [
      "Epoch 1/2\n"
     ]
    },
    {
     "name": "stderr",
     "output_type": "stream",
     "text": [
      "2023-09-12 13:39:55.786048: E tensorflow/core/grappler/optimizers/meta_optimizer.cc:903] layout failed: INVALID_ARGUMENT: MutableGraphView::SortTopologically error: detected edge(s) creating cycle(s) {'Inception_v4/conv_lstm2d/while/body/_1/Inception_v4/conv_lstm2d/while/mul_2' -> 'Inception_v4/conv_lstm2d/while/body/_1/Inception_v4/conv_lstm2d/while/add_5', 'Inception_v4/conv_lstm2d/while/body/_1/Inception_v4/conv_lstm2d/while/convolution_6' -> 'Inception_v4/conv_lstm2d/while/body/_1/Inception_v4/conv_lstm2d/while/add_4', 'Inception_v4/conv_lstm2d/while/body/_1/Inception_v4/conv_lstm2d/while/clip_by_value' -> 'Inception_v4/conv_lstm2d/while/body/_1/Inception_v4/conv_lstm2d/while/mul_3', 'Inception_v4/conv_lstm2d/while/body/_1/Inception_v4/conv_lstm2d/while/clip_by_value_2' -> 'Inception_v4/conv_lstm2d/while/body/_1/Inception_v4/conv_lstm2d/while/mul_5', 'Func/gradient_tape/Inception_v4/conv_lstm2d/while/Inception_v4/conv_lstm2d/while_grad/body/_189/input/_551' -> 'gradient_tape/Inception_v4/conv_lstm2d/while/Inception_v4/conv_lstm2d/while_grad/body/_189/gradient_tape/Inception_v4/conv_lstm2d/while/gradients/AddN'}.\n"
     ]
    },
    {
     "name": "stdout",
     "output_type": "stream",
     "text": [
      "315/315 - 50s - loss: 0.1183 - accuracy: 0.9880 - 50s/epoch - 159ms/step\n",
      "Epoch 2/2\n",
      "315/315 - 36s - loss: 0.1144 - accuracy: 0.9895 - 36s/epoch - 115ms/step\n"
     ]
    },
    {
     "name": "stderr",
     "output_type": "stream",
     "text": [
      "Progress Bar:  67%|██████▋   | 2/3 [05:13<02:25, 145.41s/it]"
     ]
    },
    {
     "name": "stdout",
     "output_type": "stream",
     "text": [
      "Epoch 1/2\n",
      "159/159 - 34s - loss: 0.1082 - accuracy: 0.9879 - 34s/epoch - 215ms/step\n",
      "Epoch 2/2\n",
      "159/159 - 19s - loss: 0.1006 - accuracy: 0.9905 - 19s/epoch - 120ms/step\n"
     ]
    },
    {
     "name": "stderr",
     "output_type": "stream",
     "text": [
      "Progress Bar: 100%|██████████| 3/3 [06:11<00:00, 123.72s/it]\n"
     ]
    },
    {
     "name": "stdout",
     "output_type": "stream",
     "text": [
      "32/32 [==============================] - 3s 40ms/step - loss: 0.5952 - accuracy: 0.8420\n",
      "comm_round: 29 | global_acc: 84.200% | global_loss: 0.5951876640319824\n"
     ]
    },
    {
     "name": "stderr",
     "output_type": "stream",
     "text": [
      "Progress Bar:   0%|          | 0/3 [00:00<?, ?it/s]"
     ]
    },
    {
     "name": "stdout",
     "output_type": "stream",
     "text": [
      "Epoch 1/2\n",
      "814/814 - 112s - loss: 0.1180 - accuracy: 0.9866 - 112s/epoch - 138ms/step\n",
      "Epoch 2/2\n",
      "814/814 - 98s - loss: 0.1199 - accuracy: 0.9854 - 98s/epoch - 120ms/step\n"
     ]
    },
    {
     "name": "stderr",
     "output_type": "stream",
     "text": [
      "Progress Bar:  33%|███▎      | 1/3 [03:39<07:18, 219.09s/it]"
     ]
    },
    {
     "name": "stdout",
     "output_type": "stream",
     "text": [
      "Epoch 1/2\n"
     ]
    },
    {
     "name": "stderr",
     "output_type": "stream",
     "text": [
      "2023-09-12 13:46:24.819490: E tensorflow/core/grappler/optimizers/meta_optimizer.cc:903] layout failed: INVALID_ARGUMENT: MutableGraphView::SortTopologically error: detected edge(s) creating cycle(s) {'Inception_v4/conv_lstm2d/while/body/_1/Inception_v4/conv_lstm2d/while/clip_by_value_2' -> 'Inception_v4/conv_lstm2d/while/body/_1/Inception_v4/conv_lstm2d/while/mul_5', 'Inception_v4/conv_lstm2d/while/body/_1/Inception_v4/conv_lstm2d/while/clip_by_value' -> 'Inception_v4/conv_lstm2d/while/body/_1/Inception_v4/conv_lstm2d/while/mul_3', 'Inception_v4/conv_lstm2d/while/body/_1/Inception_v4/conv_lstm2d/while/convolution_6' -> 'Inception_v4/conv_lstm2d/while/body/_1/Inception_v4/conv_lstm2d/while/add_4', 'Inception_v4/conv_lstm2d/while/body/_1/Inception_v4/conv_lstm2d/while/mul_2' -> 'Inception_v4/conv_lstm2d/while/body/_1/Inception_v4/conv_lstm2d/while/add_5', 'Func/gradient_tape/Inception_v4/conv_lstm2d/while/Inception_v4/conv_lstm2d/while_grad/body/_189/input/_551' -> 'gradient_tape/Inception_v4/conv_lstm2d/while/Inception_v4/conv_lstm2d/while_grad/body/_189/gradient_tape/Inception_v4/conv_lstm2d/while/gradients/AddN'}.\n"
     ]
    },
    {
     "name": "stdout",
     "output_type": "stream",
     "text": [
      "315/315 - 50s - loss: 0.1163 - accuracy: 0.9888 - 50s/epoch - 157ms/step\n",
      "Epoch 2/2\n",
      "315/315 - 36s - loss: 0.1131 - accuracy: 0.9891 - 36s/epoch - 115ms/step\n"
     ]
    },
    {
     "name": "stderr",
     "output_type": "stream",
     "text": [
      "Progress Bar:  67%|██████▋   | 2/3 [05:10<02:23, 143.73s/it]"
     ]
    },
    {
     "name": "stdout",
     "output_type": "stream",
     "text": [
      "Epoch 1/2\n",
      "159/159 - 34s - loss: 0.1043 - accuracy: 0.9899 - 34s/epoch - 215ms/step\n",
      "Epoch 2/2\n",
      "159/159 - 19s - loss: 0.0952 - accuracy: 0.9911 - 19s/epoch - 119ms/step\n"
     ]
    },
    {
     "name": "stderr",
     "output_type": "stream",
     "text": [
      "Progress Bar: 100%|██████████| 3/3 [06:07<00:00, 122.40s/it]\n"
     ]
    },
    {
     "name": "stdout",
     "output_type": "stream",
     "text": [
      "32/32 [==============================] - 3s 42ms/step - loss: 0.6337 - accuracy: 0.8170\n",
      "comm_round: 30 | global_acc: 81.700% | global_loss: 0.6337337493896484\n"
     ]
    },
    {
     "name": "stderr",
     "output_type": "stream",
     "text": [
      "Progress Bar:   0%|          | 0/3 [00:00<?, ?it/s]"
     ]
    },
    {
     "name": "stdout",
     "output_type": "stream",
     "text": [
      "Epoch 1/2\n",
      "814/814 - 113s - loss: 0.1166 - accuracy: 0.9866 - 113s/epoch - 139ms/step\n",
      "Epoch 2/2\n",
      "814/814 - 99s - loss: 0.1115 - accuracy: 0.9877 - 99s/epoch - 121ms/step\n"
     ]
    },
    {
     "name": "stderr",
     "output_type": "stream",
     "text": [
      "Progress Bar:  33%|███▎      | 1/3 [03:41<07:22, 221.13s/it]"
     ]
    },
    {
     "name": "stdout",
     "output_type": "stream",
     "text": [
      "Epoch 1/2\n"
     ]
    },
    {
     "name": "stderr",
     "output_type": "stream",
     "text": [
      "2023-09-12 13:52:55.439221: E tensorflow/core/grappler/optimizers/meta_optimizer.cc:903] layout failed: INVALID_ARGUMENT: MutableGraphView::SortTopologically error: detected edge(s) creating cycle(s) {'Inception_v4/conv_lstm2d/while/body/_1/Inception_v4/conv_lstm2d/while/mul_2' -> 'Inception_v4/conv_lstm2d/while/body/_1/Inception_v4/conv_lstm2d/while/add_5', 'Inception_v4/conv_lstm2d/while/body/_1/Inception_v4/conv_lstm2d/while/convolution_6' -> 'Inception_v4/conv_lstm2d/while/body/_1/Inception_v4/conv_lstm2d/while/add_4', 'Inception_v4/conv_lstm2d/while/body/_1/Inception_v4/conv_lstm2d/while/clip_by_value_2' -> 'Inception_v4/conv_lstm2d/while/body/_1/Inception_v4/conv_lstm2d/while/mul_5', 'Inception_v4/conv_lstm2d/while/body/_1/Inception_v4/conv_lstm2d/while/clip_by_value' -> 'Inception_v4/conv_lstm2d/while/body/_1/Inception_v4/conv_lstm2d/while/mul_3', 'Func/gradient_tape/Inception_v4/conv_lstm2d/while/Inception_v4/conv_lstm2d/while_grad/body/_189/input/_551' -> 'gradient_tape/Inception_v4/conv_lstm2d/while/Inception_v4/conv_lstm2d/while_grad/body/_189/gradient_tape/Inception_v4/conv_lstm2d/while/gradients/AddN'}.\n"
     ]
    },
    {
     "name": "stdout",
     "output_type": "stream",
     "text": [
      "315/315 - 50s - loss: 0.1201 - accuracy: 0.9888 - 50s/epoch - 159ms/step\n",
      "Epoch 2/2\n",
      "315/315 - 36s - loss: 0.1078 - accuracy: 0.9898 - 36s/epoch - 113ms/step\n"
     ]
    },
    {
     "name": "stderr",
     "output_type": "stream",
     "text": [
      "Progress Bar:  67%|██████▋   | 2/3 [05:11<02:24, 144.44s/it]"
     ]
    },
    {
     "name": "stdout",
     "output_type": "stream",
     "text": [
      "Epoch 1/2\n",
      "159/159 - 34s - loss: 0.1010 - accuracy: 0.9903 - 34s/epoch - 216ms/step\n",
      "Epoch 2/2\n",
      "159/159 - 19s - loss: 0.0970 - accuracy: 0.9901 - 19s/epoch - 119ms/step\n"
     ]
    },
    {
     "name": "stderr",
     "output_type": "stream",
     "text": [
      "Progress Bar: 100%|██████████| 3/3 [06:09<00:00, 123.04s/it]\n"
     ]
    },
    {
     "name": "stdout",
     "output_type": "stream",
     "text": [
      "32/32 [==============================] - 3s 41ms/step - loss: 0.5765 - accuracy: 0.8320\n",
      "comm_round: 31 | global_acc: 83.200% | global_loss: 0.5764655470848083\n"
     ]
    },
    {
     "name": "stderr",
     "output_type": "stream",
     "text": [
      "Progress Bar:   0%|          | 0/3 [00:00<?, ?it/s]"
     ]
    },
    {
     "name": "stdout",
     "output_type": "stream",
     "text": [
      "Epoch 1/2\n",
      "814/814 - 113s - loss: 0.1145 - accuracy: 0.9873 - 113s/epoch - 138ms/step\n",
      "Epoch 2/2\n",
      "814/814 - 98s - loss: 0.1120 - accuracy: 0.9876 - 98s/epoch - 120ms/step\n"
     ]
    },
    {
     "name": "stderr",
     "output_type": "stream",
     "text": [
      "Progress Bar:  33%|███▎      | 1/3 [03:39<07:19, 219.63s/it]"
     ]
    },
    {
     "name": "stdout",
     "output_type": "stream",
     "text": [
      "Epoch 1/2\n"
     ]
    },
    {
     "name": "stderr",
     "output_type": "stream",
     "text": [
      "2023-09-12 13:59:23.979196: E tensorflow/core/grappler/optimizers/meta_optimizer.cc:903] layout failed: INVALID_ARGUMENT: MutableGraphView::SortTopologically error: detected edge(s) creating cycle(s) {'Inception_v4/conv_lstm2d/while/body/_1/Inception_v4/conv_lstm2d/while/mul_2' -> 'Inception_v4/conv_lstm2d/while/body/_1/Inception_v4/conv_lstm2d/while/add_5', 'Inception_v4/conv_lstm2d/while/body/_1/Inception_v4/conv_lstm2d/while/clip_by_value' -> 'Inception_v4/conv_lstm2d/while/body/_1/Inception_v4/conv_lstm2d/while/mul_3', 'Inception_v4/conv_lstm2d/while/body/_1/Inception_v4/conv_lstm2d/while/clip_by_value_2' -> 'Inception_v4/conv_lstm2d/while/body/_1/Inception_v4/conv_lstm2d/while/mul_5', 'Inception_v4/conv_lstm2d/while/body/_1/Inception_v4/conv_lstm2d/while/convolution_6' -> 'Inception_v4/conv_lstm2d/while/body/_1/Inception_v4/conv_lstm2d/while/add_4', 'Func/gradient_tape/Inception_v4/conv_lstm2d/while/Inception_v4/conv_lstm2d/while_grad/body/_189/input/_551' -> 'gradient_tape/Inception_v4/conv_lstm2d/while/Inception_v4/conv_lstm2d/while_grad/body/_189/gradient_tape/Inception_v4/conv_lstm2d/while/gradients/AddN'}.\n"
     ]
    },
    {
     "name": "stdout",
     "output_type": "stream",
     "text": [
      "315/315 - 49s - loss: 0.1196 - accuracy: 0.9882 - 49s/epoch - 154ms/step\n",
      "Epoch 2/2\n",
      "315/315 - 36s - loss: 0.1102 - accuracy: 0.9889 - 36s/epoch - 115ms/step\n"
     ]
    },
    {
     "name": "stderr",
     "output_type": "stream",
     "text": [
      "Progress Bar:  67%|██████▋   | 2/3 [05:10<02:23, 143.87s/it]"
     ]
    },
    {
     "name": "stdout",
     "output_type": "stream",
     "text": [
      "Epoch 1/2\n",
      "159/159 - 33s - loss: 0.1050 - accuracy: 0.9891 - 33s/epoch - 207ms/step\n",
      "Epoch 2/2\n",
      "159/159 - 19s - loss: 0.0973 - accuracy: 0.9897 - 19s/epoch - 120ms/step\n"
     ]
    },
    {
     "name": "stderr",
     "output_type": "stream",
     "text": [
      "Progress Bar: 100%|██████████| 3/3 [06:07<00:00, 122.50s/it]\n"
     ]
    },
    {
     "name": "stdout",
     "output_type": "stream",
     "text": [
      "32/32 [==============================] - 3s 43ms/step - loss: 0.6259 - accuracy: 0.8340\n",
      "comm_round: 32 | global_acc: 83.400% | global_loss: 0.6258726716041565\n"
     ]
    },
    {
     "name": "stderr",
     "output_type": "stream",
     "text": [
      "Progress Bar:   0%|          | 0/3 [00:00<?, ?it/s]"
     ]
    },
    {
     "name": "stdout",
     "output_type": "stream",
     "text": [
      "Epoch 1/2\n",
      "814/814 - 111s - loss: 0.1112 - accuracy: 0.9889 - 111s/epoch - 136ms/step\n",
      "Epoch 2/2\n",
      "814/814 - 98s - loss: 0.1120 - accuracy: 0.9876 - 98s/epoch - 120ms/step\n"
     ]
    },
    {
     "name": "stderr",
     "output_type": "stream",
     "text": [
      "Progress Bar:  33%|███▎      | 1/3 [03:38<07:16, 218.49s/it]"
     ]
    },
    {
     "name": "stdout",
     "output_type": "stream",
     "text": [
      "Epoch 1/2\n"
     ]
    },
    {
     "name": "stderr",
     "output_type": "stream",
     "text": [
      "2023-09-12 14:05:52.986627: E tensorflow/core/grappler/optimizers/meta_optimizer.cc:903] layout failed: INVALID_ARGUMENT: MutableGraphView::SortTopologically error: detected edge(s) creating cycle(s) {'Inception_v4/conv_lstm2d/while/body/_1/Inception_v4/conv_lstm2d/while/mul_2' -> 'Inception_v4/conv_lstm2d/while/body/_1/Inception_v4/conv_lstm2d/while/add_5', 'Inception_v4/conv_lstm2d/while/body/_1/Inception_v4/conv_lstm2d/while/clip_by_value' -> 'Inception_v4/conv_lstm2d/while/body/_1/Inception_v4/conv_lstm2d/while/mul_3', 'Inception_v4/conv_lstm2d/while/body/_1/Inception_v4/conv_lstm2d/while/clip_by_value_2' -> 'Inception_v4/conv_lstm2d/while/body/_1/Inception_v4/conv_lstm2d/while/mul_5', 'Inception_v4/conv_lstm2d/while/body/_1/Inception_v4/conv_lstm2d/while/convolution_6' -> 'Inception_v4/conv_lstm2d/while/body/_1/Inception_v4/conv_lstm2d/while/add_4', 'Func/gradient_tape/Inception_v4/conv_lstm2d/while/Inception_v4/conv_lstm2d/while_grad/body/_189/input/_551' -> 'gradient_tape/Inception_v4/conv_lstm2d/while/Inception_v4/conv_lstm2d/while_grad/body/_189/gradient_tape/Inception_v4/conv_lstm2d/while/gradients/AddN'}.\n"
     ]
    },
    {
     "name": "stdout",
     "output_type": "stream",
     "text": [
      "315/315 - 49s - loss: 0.1127 - accuracy: 0.9894 - 49s/epoch - 157ms/step\n",
      "Epoch 2/2\n",
      "315/315 - 36s - loss: 0.1128 - accuracy: 0.9901 - 36s/epoch - 116ms/step\n"
     ]
    },
    {
     "name": "stderr",
     "output_type": "stream",
     "text": [
      "Progress Bar:  67%|██████▋   | 2/3 [05:10<02:24, 144.27s/it]"
     ]
    },
    {
     "name": "stdout",
     "output_type": "stream",
     "text": [
      "Epoch 1/2\n",
      "159/159 - 35s - loss: 0.1037 - accuracy: 0.9891 - 35s/epoch - 219ms/step\n",
      "Epoch 2/2\n",
      "159/159 - 19s - loss: 0.0939 - accuracy: 0.9917 - 19s/epoch - 120ms/step\n"
     ]
    },
    {
     "name": "stderr",
     "output_type": "stream",
     "text": [
      "Progress Bar: 100%|██████████| 3/3 [06:08<00:00, 122.91s/it]\n"
     ]
    },
    {
     "name": "stdout",
     "output_type": "stream",
     "text": [
      "32/32 [==============================] - 3s 43ms/step - loss: 0.5033 - accuracy: 0.8500\n",
      "comm_round: 33 | global_acc: 85.000% | global_loss: 0.5033113360404968\n"
     ]
    },
    {
     "name": "stderr",
     "output_type": "stream",
     "text": [
      "Progress Bar:   0%|          | 0/3 [00:00<?, ?it/s]"
     ]
    },
    {
     "name": "stdout",
     "output_type": "stream",
     "text": [
      "Epoch 1/2\n",
      "814/814 - 113s - loss: 0.1103 - accuracy: 0.9883 - 113s/epoch - 139ms/step\n",
      "Epoch 2/2\n",
      "814/814 - 98s - loss: 0.1106 - accuracy: 0.9884 - 98s/epoch - 120ms/step\n"
     ]
    },
    {
     "name": "stderr",
     "output_type": "stream",
     "text": [
      "Progress Bar:  33%|███▎      | 1/3 [03:40<07:20, 220.38s/it]"
     ]
    },
    {
     "name": "stdout",
     "output_type": "stream",
     "text": [
      "Epoch 1/2\n"
     ]
    },
    {
     "name": "stderr",
     "output_type": "stream",
     "text": [
      "2023-09-12 14:12:24.112553: E tensorflow/core/grappler/optimizers/meta_optimizer.cc:903] layout failed: INVALID_ARGUMENT: MutableGraphView::SortTopologically error: detected edge(s) creating cycle(s) {'Inception_v4/conv_lstm2d/while/body/_1/Inception_v4/conv_lstm2d/while/mul_2' -> 'Inception_v4/conv_lstm2d/while/body/_1/Inception_v4/conv_lstm2d/while/add_5', 'Inception_v4/conv_lstm2d/while/body/_1/Inception_v4/conv_lstm2d/while/clip_by_value' -> 'Inception_v4/conv_lstm2d/while/body/_1/Inception_v4/conv_lstm2d/while/mul_3', 'Inception_v4/conv_lstm2d/while/body/_1/Inception_v4/conv_lstm2d/while/clip_by_value_2' -> 'Inception_v4/conv_lstm2d/while/body/_1/Inception_v4/conv_lstm2d/while/mul_5', 'Inception_v4/conv_lstm2d/while/body/_1/Inception_v4/conv_lstm2d/while/convolution_6' -> 'Inception_v4/conv_lstm2d/while/body/_1/Inception_v4/conv_lstm2d/while/add_4', 'Func/gradient_tape/Inception_v4/conv_lstm2d/while/Inception_v4/conv_lstm2d/while_grad/body/_189/input/_551' -> 'gradient_tape/Inception_v4/conv_lstm2d/while/Inception_v4/conv_lstm2d/while_grad/body/_189/gradient_tape/Inception_v4/conv_lstm2d/while/gradients/AddN'}.\n"
     ]
    },
    {
     "name": "stdout",
     "output_type": "stream",
     "text": [
      "315/315 - 50s - loss: 0.1137 - accuracy: 0.9887 - 50s/epoch - 158ms/step\n",
      "Epoch 2/2\n",
      "315/315 - 37s - loss: 0.1119 - accuracy: 0.9886 - 37s/epoch - 116ms/step\n"
     ]
    },
    {
     "name": "stderr",
     "output_type": "stream",
     "text": [
      "Progress Bar:  67%|██████▋   | 2/3 [05:12<02:24, 144.70s/it]"
     ]
    },
    {
     "name": "stdout",
     "output_type": "stream",
     "text": [
      "Epoch 1/2\n",
      "159/159 - 34s - loss: 0.1057 - accuracy: 0.9903 - 34s/epoch - 215ms/step\n",
      "Epoch 2/2\n",
      "159/159 - 19s - loss: 0.0946 - accuracy: 0.9927 - 19s/epoch - 121ms/step\n"
     ]
    },
    {
     "name": "stderr",
     "output_type": "stream",
     "text": [
      "Progress Bar: 100%|██████████| 3/3 [06:09<00:00, 123.18s/it]\n"
     ]
    },
    {
     "name": "stdout",
     "output_type": "stream",
     "text": [
      "32/32 [==============================] - 3s 42ms/step - loss: 0.6432 - accuracy: 0.8230\n",
      "comm_round: 34 | global_acc: 82.300% | global_loss: 0.6431601643562317\n"
     ]
    },
    {
     "name": "stderr",
     "output_type": "stream",
     "text": [
      "Progress Bar:   0%|          | 0/3 [00:00<?, ?it/s]"
     ]
    },
    {
     "name": "stdout",
     "output_type": "stream",
     "text": [
      "Epoch 1/2\n",
      "814/814 - 114s - loss: 0.1109 - accuracy: 0.9878 - 114s/epoch - 140ms/step\n",
      "Epoch 2/2\n",
      "315/315 - 51s - loss: 0.1137 - accuracy: 0.9875 - 51s/epoch - 161ms/step\n",
      "Epoch 2/2\n",
      "315/315 - 36s - loss: 0.1094 - accuracy: 0.9893 - 36s/epoch - 115ms/step\n"
     ]
    },
    {
     "name": "stderr",
     "output_type": "stream",
     "text": [
      "Progress Bar:  67%|██████▋   | 2/3 [05:14<02:25, 145.73s/it]"
     ]
    },
    {
     "name": "stdout",
     "output_type": "stream",
     "text": [
      "Epoch 1/2\n",
      "159/159 - 34s - loss: 0.1002 - accuracy: 0.9893 - 34s/epoch - 214ms/step\n",
      "Epoch 2/2\n",
      "159/159 - 19s - loss: 0.0964 - accuracy: 0.9927 - 19s/epoch - 120ms/step\n"
     ]
    },
    {
     "name": "stderr",
     "output_type": "stream",
     "text": [
      "Progress Bar: 100%|██████████| 3/3 [06:11<00:00, 123.83s/it]\n"
     ]
    },
    {
     "name": "stdout",
     "output_type": "stream",
     "text": [
      "32/32 [==============================] - 3s 42ms/step - loss: 0.5156 - accuracy: 0.8500\n",
      "comm_round: 35 | global_acc: 85.000% | global_loss: 0.515587568283081\n"
     ]
    },
    {
     "name": "stderr",
     "output_type": "stream",
     "text": [
      "Progress Bar:   0%|          | 0/3 [00:00<?, ?it/s]"
     ]
    },
    {
     "name": "stdout",
     "output_type": "stream",
     "text": [
      "Epoch 1/2\n",
      "814/814 - 113s - loss: 0.1065 - accuracy: 0.9893 - 113s/epoch - 139ms/step\n",
      "Epoch 2/2\n",
      "814/814 - 98s - loss: 0.1133 - accuracy: 0.9868 - 98s/epoch - 120ms/step\n"
     ]
    },
    {
     "name": "stderr",
     "output_type": "stream",
     "text": [
      "Progress Bar:  33%|███▎      | 1/3 [03:39<07:19, 219.66s/it]"
     ]
    },
    {
     "name": "stdout",
     "output_type": "stream",
     "text": [
      "Epoch 1/2\n"
     ]
    },
    {
     "name": "stderr",
     "output_type": "stream",
     "text": [
      "2023-09-12 14:25:26.910625: E tensorflow/core/grappler/optimizers/meta_optimizer.cc:903] layout failed: INVALID_ARGUMENT: MutableGraphView::SortTopologically error: detected edge(s) creating cycle(s) {'Inception_v4/conv_lstm2d/while/body/_1/Inception_v4/conv_lstm2d/while/mul_2' -> 'Inception_v4/conv_lstm2d/while/body/_1/Inception_v4/conv_lstm2d/while/add_5', 'Inception_v4/conv_lstm2d/while/body/_1/Inception_v4/conv_lstm2d/while/clip_by_value' -> 'Inception_v4/conv_lstm2d/while/body/_1/Inception_v4/conv_lstm2d/while/mul_3', 'Inception_v4/conv_lstm2d/while/body/_1/Inception_v4/conv_lstm2d/while/clip_by_value_2' -> 'Inception_v4/conv_lstm2d/while/body/_1/Inception_v4/conv_lstm2d/while/mul_5', 'Inception_v4/conv_lstm2d/while/body/_1/Inception_v4/conv_lstm2d/while/convolution_6' -> 'Inception_v4/conv_lstm2d/while/body/_1/Inception_v4/conv_lstm2d/while/add_4', 'Func/gradient_tape/Inception_v4/conv_lstm2d/while/Inception_v4/conv_lstm2d/while_grad/body/_189/input/_551' -> 'gradient_tape/Inception_v4/conv_lstm2d/while/Inception_v4/conv_lstm2d/while_grad/body/_189/gradient_tape/Inception_v4/conv_lstm2d/while/gradients/AddN'}.\n"
     ]
    },
    {
     "name": "stdout",
     "output_type": "stream",
     "text": [
      "315/315 - 50s - loss: 0.1114 - accuracy: 0.9887 - 50s/epoch - 157ms/step\n",
      "Epoch 2/2\n",
      "315/315 - 36s - loss: 0.1042 - accuracy: 0.9913 - 36s/epoch - 115ms/step\n"
     ]
    },
    {
     "name": "stderr",
     "output_type": "stream",
     "text": [
      "Progress Bar:  67%|██████▋   | 2/3 [05:10<02:24, 144.06s/it]"
     ]
    },
    {
     "name": "stdout",
     "output_type": "stream",
     "text": [
      "Epoch 1/2\n",
      "159/159 - 34s - loss: 0.1020 - accuracy: 0.9897 - 34s/epoch - 216ms/step\n",
      "Epoch 2/2\n",
      "159/159 - 19s - loss: 0.1053 - accuracy: 0.9872 - 19s/epoch - 120ms/step\n"
     ]
    },
    {
     "name": "stderr",
     "output_type": "stream",
     "text": [
      "Progress Bar: 100%|██████████| 3/3 [06:08<00:00, 122.73s/it]\n"
     ]
    },
    {
     "name": "stdout",
     "output_type": "stream",
     "text": [
      "32/32 [==============================] - 3s 39ms/step - loss: 0.5850 - accuracy: 0.8270\n",
      "comm_round: 36 | global_acc: 82.700% | global_loss: 0.584987461566925\n"
     ]
    },
    {
     "name": "stderr",
     "output_type": "stream",
     "text": [
      "Progress Bar:   0%|          | 0/3 [00:00<?, ?it/s]"
     ]
    },
    {
     "name": "stdout",
     "output_type": "stream",
     "text": [
      "Epoch 1/2\n",
      "814/814 - 113s - loss: 0.1074 - accuracy: 0.9890 - 113s/epoch - 139ms/step\n",
      "Epoch 2/2\n",
      "814/814 - 98s - loss: 0.1090 - accuracy: 0.9881 - 98s/epoch - 120ms/step\n"
     ]
    },
    {
     "name": "stderr",
     "output_type": "stream",
     "text": [
      "Progress Bar:  33%|███▎      | 1/3 [03:40<07:21, 220.54s/it]"
     ]
    },
    {
     "name": "stdout",
     "output_type": "stream",
     "text": [
      "Epoch 1/2\n"
     ]
    },
    {
     "name": "stderr",
     "output_type": "stream",
     "text": [
      "2023-09-12 14:31:57.455480: E tensorflow/core/grappler/optimizers/meta_optimizer.cc:903] layout failed: INVALID_ARGUMENT: MutableGraphView::SortTopologically error: detected edge(s) creating cycle(s) {'Inception_v4/conv_lstm2d/while/body/_1/Inception_v4/conv_lstm2d/while/mul_2' -> 'Inception_v4/conv_lstm2d/while/body/_1/Inception_v4/conv_lstm2d/while/add_5', 'Inception_v4/conv_lstm2d/while/body/_1/Inception_v4/conv_lstm2d/while/clip_by_value' -> 'Inception_v4/conv_lstm2d/while/body/_1/Inception_v4/conv_lstm2d/while/mul_3', 'Inception_v4/conv_lstm2d/while/body/_1/Inception_v4/conv_lstm2d/while/clip_by_value_2' -> 'Inception_v4/conv_lstm2d/while/body/_1/Inception_v4/conv_lstm2d/while/mul_5', 'Inception_v4/conv_lstm2d/while/body/_1/Inception_v4/conv_lstm2d/while/convolution_6' -> 'Inception_v4/conv_lstm2d/while/body/_1/Inception_v4/conv_lstm2d/while/add_4', 'Func/gradient_tape/Inception_v4/conv_lstm2d/while/Inception_v4/conv_lstm2d/while_grad/body/_189/input/_551' -> 'gradient_tape/Inception_v4/conv_lstm2d/while/Inception_v4/conv_lstm2d/while_grad/body/_189/gradient_tape/Inception_v4/conv_lstm2d/while/gradients/AddN'}.\n"
     ]
    },
    {
     "name": "stdout",
     "output_type": "stream",
     "text": [
      "315/315 - 50s - loss: 0.1114 - accuracy: 0.9901 - 50s/epoch - 158ms/step\n",
      "Epoch 2/2\n",
      "315/315 - 36s - loss: 0.1072 - accuracy: 0.9899 - 36s/epoch - 115ms/step\n"
     ]
    },
    {
     "name": "stderr",
     "output_type": "stream",
     "text": [
      "Progress Bar:  67%|██████▋   | 2/3 [05:11<02:24, 144.59s/it]"
     ]
    },
    {
     "name": "stdout",
     "output_type": "stream",
     "text": [
      "Epoch 1/2\n",
      "159/159 - 34s - loss: 0.1000 - accuracy: 0.9899 - 34s/epoch - 215ms/step\n",
      "Epoch 2/2\n",
      "159/159 - 19s - loss: 0.0972 - accuracy: 0.9901 - 19s/epoch - 121ms/step\n"
     ]
    },
    {
     "name": "stderr",
     "output_type": "stream",
     "text": [
      "Progress Bar: 100%|██████████| 3/3 [06:09<00:00, 123.17s/it]\n"
     ]
    },
    {
     "name": "stdout",
     "output_type": "stream",
     "text": [
      "32/32 [==============================] - 3s 41ms/step - loss: 0.5625 - accuracy: 0.8370\n",
      "comm_round: 37 | global_acc: 83.700% | global_loss: 0.5625169277191162\n"
     ]
    },
    {
     "name": "stderr",
     "output_type": "stream",
     "text": [
      "Progress Bar:   0%|          | 0/3 [00:00<?, ?it/s]"
     ]
    },
    {
     "name": "stdout",
     "output_type": "stream",
     "text": [
      "Epoch 1/2\n",
      "814/814 - 113s - loss: 0.1072 - accuracy: 0.9883 - 113s/epoch - 138ms/step\n",
      "Epoch 2/2\n",
      "814/814 - 98s - loss: 0.1033 - accuracy: 0.9902 - 98s/epoch - 120ms/step\n"
     ]
    },
    {
     "name": "stderr",
     "output_type": "stream",
     "text": [
      "Progress Bar:  33%|███▎      | 1/3 [03:40<07:20, 220.06s/it]"
     ]
    },
    {
     "name": "stdout",
     "output_type": "stream",
     "text": [
      "Epoch 1/2\n"
     ]
    },
    {
     "name": "stderr",
     "output_type": "stream",
     "text": [
      "2023-09-12 14:38:27.232390: E tensorflow/core/grappler/optimizers/meta_optimizer.cc:903] layout failed: INVALID_ARGUMENT: MutableGraphView::SortTopologically error: detected edge(s) creating cycle(s) {'Inception_v4/conv_lstm2d/while/body/_1/Inception_v4/conv_lstm2d/while/clip_by_value_2' -> 'Inception_v4/conv_lstm2d/while/body/_1/Inception_v4/conv_lstm2d/while/mul_5', 'Inception_v4/conv_lstm2d/while/body/_1/Inception_v4/conv_lstm2d/while/clip_by_value' -> 'Inception_v4/conv_lstm2d/while/body/_1/Inception_v4/conv_lstm2d/while/mul_3', 'Inception_v4/conv_lstm2d/while/body/_1/Inception_v4/conv_lstm2d/while/convolution_6' -> 'Inception_v4/conv_lstm2d/while/body/_1/Inception_v4/conv_lstm2d/while/add_4', 'Inception_v4/conv_lstm2d/while/body/_1/Inception_v4/conv_lstm2d/while/mul_2' -> 'Inception_v4/conv_lstm2d/while/body/_1/Inception_v4/conv_lstm2d/while/add_5', 'Func/gradient_tape/Inception_v4/conv_lstm2d/while/Inception_v4/conv_lstm2d/while_grad/body/_189/input/_551' -> 'gradient_tape/Inception_v4/conv_lstm2d/while/Inception_v4/conv_lstm2d/while_grad/body/_189/gradient_tape/Inception_v4/conv_lstm2d/while/gradients/AddN'}.\n"
     ]
    },
    {
     "name": "stdout",
     "output_type": "stream",
     "text": [
      "315/315 - 48s - loss: 0.1123 - accuracy: 0.9877 - 48s/epoch - 154ms/step\n",
      "Epoch 2/2\n",
      "315/315 - 36s - loss: 0.1134 - accuracy: 0.9879 - 36s/epoch - 114ms/step\n"
     ]
    },
    {
     "name": "stderr",
     "output_type": "stream",
     "text": [
      "Progress Bar:  67%|██████▋   | 2/3 [05:10<02:23, 143.66s/it]"
     ]
    },
    {
     "name": "stdout",
     "output_type": "stream",
     "text": [
      "Epoch 1/2\n",
      "159/159 - 33s - loss: 0.1013 - accuracy: 0.9899 - 33s/epoch - 206ms/step\n",
      "Epoch 2/2\n",
      "159/159 - 19s - loss: 0.1037 - accuracy: 0.9893 - 19s/epoch - 120ms/step\n"
     ]
    },
    {
     "name": "stderr",
     "output_type": "stream",
     "text": [
      "Progress Bar: 100%|██████████| 3/3 [06:07<00:00, 122.36s/it]\n"
     ]
    },
    {
     "name": "stdout",
     "output_type": "stream",
     "text": [
      "32/32 [==============================] - 3s 43ms/step - loss: 0.6359 - accuracy: 0.8260\n",
      "comm_round: 38 | global_acc: 82.600% | global_loss: 0.6359459161758423\n"
     ]
    },
    {
     "name": "stderr",
     "output_type": "stream",
     "text": [
      "Progress Bar:   0%|          | 0/3 [00:00<?, ?it/s]"
     ]
    },
    {
     "name": "stdout",
     "output_type": "stream",
     "text": [
      "Epoch 1/2\n",
      "814/814 - 111s - loss: 0.1061 - accuracy: 0.9881 - 111s/epoch - 136ms/step\n",
      "Epoch 2/2\n",
      "814/814 - 99s - loss: 0.1071 - accuracy: 0.9887 - 99s/epoch - 121ms/step\n"
     ]
    },
    {
     "name": "stderr",
     "output_type": "stream",
     "text": [
      "Progress Bar:  33%|███▎      | 1/3 [03:39<07:19, 219.69s/it]"
     ]
    },
    {
     "name": "stdout",
     "output_type": "stream",
     "text": [
      "Epoch 1/2\n"
     ]
    },
    {
     "name": "stderr",
     "output_type": "stream",
     "text": [
      "2023-09-12 14:44:56.616190: E tensorflow/core/grappler/optimizers/meta_optimizer.cc:903] layout failed: INVALID_ARGUMENT: MutableGraphView::SortTopologically error: detected edge(s) creating cycle(s) {'Inception_v4/conv_lstm2d/while/body/_1/Inception_v4/conv_lstm2d/while/mul_2' -> 'Inception_v4/conv_lstm2d/while/body/_1/Inception_v4/conv_lstm2d/while/add_5', 'Inception_v4/conv_lstm2d/while/body/_1/Inception_v4/conv_lstm2d/while/convolution_6' -> 'Inception_v4/conv_lstm2d/while/body/_1/Inception_v4/conv_lstm2d/while/add_4', 'Inception_v4/conv_lstm2d/while/body/_1/Inception_v4/conv_lstm2d/while/clip_by_value_2' -> 'Inception_v4/conv_lstm2d/while/body/_1/Inception_v4/conv_lstm2d/while/mul_5', 'Inception_v4/conv_lstm2d/while/body/_1/Inception_v4/conv_lstm2d/while/clip_by_value' -> 'Inception_v4/conv_lstm2d/while/body/_1/Inception_v4/conv_lstm2d/while/mul_3', 'Func/gradient_tape/Inception_v4/conv_lstm2d/while/Inception_v4/conv_lstm2d/while_grad/body/_189/input/_551' -> 'gradient_tape/Inception_v4/conv_lstm2d/while/Inception_v4/conv_lstm2d/while_grad/body/_189/gradient_tape/Inception_v4/conv_lstm2d/while/gradients/AddN'}.\n"
     ]
    },
    {
     "name": "stdout",
     "output_type": "stream",
     "text": [
      "315/315 - 49s - loss: 0.1099 - accuracy: 0.9892 - 49s/epoch - 157ms/step\n",
      "Epoch 2/2\n",
      "315/315 - 36s - loss: 0.1020 - accuracy: 0.9909 - 36s/epoch - 115ms/step\n"
     ]
    },
    {
     "name": "stderr",
     "output_type": "stream",
     "text": [
      "Progress Bar:  67%|██████▋   | 2/3 [05:11<02:24, 144.76s/it]"
     ]
    },
    {
     "name": "stdout",
     "output_type": "stream",
     "text": [
      "Epoch 1/2\n",
      "159/159 - 35s - loss: 0.0979 - accuracy: 0.9897 - 35s/epoch - 221ms/step\n",
      "Epoch 2/2\n",
      "159/159 - 19s - loss: 0.0914 - accuracy: 0.9905 - 19s/epoch - 122ms/step\n"
     ]
    },
    {
     "name": "stderr",
     "output_type": "stream",
     "text": [
      "Progress Bar: 100%|██████████| 3/3 [06:10<00:00, 123.49s/it]\n"
     ]
    },
    {
     "name": "stdout",
     "output_type": "stream",
     "text": [
      "32/32 [==============================] - 3s 42ms/step - loss: 0.6147 - accuracy: 0.8200\n",
      "comm_round: 39 | global_acc: 82.000% | global_loss: 0.6146500706672668\n"
     ]
    },
    {
     "name": "stderr",
     "output_type": "stream",
     "text": [
      "Progress Bar:   0%|          | 0/3 [00:00<?, ?it/s]"
     ]
    },
    {
     "name": "stdout",
     "output_type": "stream",
     "text": [
      "Epoch 1/2\n",
      "814/814 - 113s - loss: 0.1031 - accuracy: 0.9897 - 113s/epoch - 139ms/step\n",
      "Epoch 2/2\n",
      "814/814 - 98s - loss: 0.1098 - accuracy: 0.9880 - 98s/epoch - 120ms/step\n"
     ]
    },
    {
     "name": "stderr",
     "output_type": "stream",
     "text": [
      "Progress Bar:  33%|███▎      | 1/3 [03:40<07:20, 220.09s/it]"
     ]
    },
    {
     "name": "stdout",
     "output_type": "stream",
     "text": [
      "Epoch 1/2\n"
     ]
    },
    {
     "name": "stderr",
     "output_type": "stream",
     "text": [
      "2023-09-12 14:51:28.165212: E tensorflow/core/grappler/optimizers/meta_optimizer.cc:903] layout failed: INVALID_ARGUMENT: MutableGraphView::SortTopologically error: detected edge(s) creating cycle(s) {'Inception_v4/conv_lstm2d/while/body/_1/Inception_v4/conv_lstm2d/while/mul_2' -> 'Inception_v4/conv_lstm2d/while/body/_1/Inception_v4/conv_lstm2d/while/add_5', 'Inception_v4/conv_lstm2d/while/body/_1/Inception_v4/conv_lstm2d/while/convolution_6' -> 'Inception_v4/conv_lstm2d/while/body/_1/Inception_v4/conv_lstm2d/while/add_4', 'Inception_v4/conv_lstm2d/while/body/_1/Inception_v4/conv_lstm2d/while/clip_by_value_2' -> 'Inception_v4/conv_lstm2d/while/body/_1/Inception_v4/conv_lstm2d/while/mul_5', 'Inception_v4/conv_lstm2d/while/body/_1/Inception_v4/conv_lstm2d/while/clip_by_value' -> 'Inception_v4/conv_lstm2d/while/body/_1/Inception_v4/conv_lstm2d/while/mul_3', 'Func/gradient_tape/Inception_v4/conv_lstm2d/while/Inception_v4/conv_lstm2d/while_grad/body/_189/input/_551' -> 'gradient_tape/Inception_v4/conv_lstm2d/while/Inception_v4/conv_lstm2d/while_grad/body/_189/gradient_tape/Inception_v4/conv_lstm2d/while/gradients/AddN'}.\n"
     ]
    },
    {
     "name": "stdout",
     "output_type": "stream",
     "text": [
      "315/315 - 50s - loss: 0.1092 - accuracy: 0.9884 - 50s/epoch - 158ms/step\n",
      "Epoch 2/2\n",
      "315/315 - 36s - loss: 0.1069 - accuracy: 0.9894 - 36s/epoch - 116ms/step\n"
     ]
    },
    {
     "name": "stderr",
     "output_type": "stream",
     "text": [
      "Progress Bar:  67%|██████▋   | 2/3 [05:11<02:24, 144.47s/it]"
     ]
    },
    {
     "name": "stdout",
     "output_type": "stream",
     "text": [
      "Epoch 1/2\n",
      "159/159 - 34s - loss: 0.0960 - accuracy: 0.9897 - 34s/epoch - 215ms/step\n",
      "Epoch 2/2\n",
      "159/159 - 19s - loss: 0.0973 - accuracy: 0.9901 - 19s/epoch - 121ms/step\n"
     ]
    },
    {
     "name": "stderr",
     "output_type": "stream",
     "text": [
      "Progress Bar: 100%|██████████| 3/3 [06:08<00:00, 122.99s/it]\n"
     ]
    },
    {
     "name": "stdout",
     "output_type": "stream",
     "text": [
      "32/32 [==============================] - 3s 40ms/step - loss: 0.6763 - accuracy: 0.7920\n",
      "comm_round: 40 | global_acc: 79.200% | global_loss: 0.6763119697570801\n"
     ]
    },
    {
     "name": "stderr",
     "output_type": "stream",
     "text": [
      "Progress Bar:   0%|          | 0/3 [00:00<?, ?it/s]"
     ]
    },
    {
     "name": "stdout",
     "output_type": "stream",
     "text": [
      "Epoch 1/2\n",
      "814/814 - 112s - loss: 0.1041 - accuracy: 0.9898 - 112s/epoch - 137ms/step\n",
      "Epoch 2/2\n",
      "814/814 - 98s - loss: 0.1028 - accuracy: 0.9896 - 98s/epoch - 121ms/step\n"
     ]
    },
    {
     "name": "stderr",
     "output_type": "stream",
     "text": [
      "Progress Bar:  33%|███▎      | 1/3 [03:39<07:19, 219.63s/it]"
     ]
    },
    {
     "name": "stdout",
     "output_type": "stream",
     "text": [
      "Epoch 1/2\n"
     ]
    },
    {
     "name": "stderr",
     "output_type": "stream",
     "text": [
      "2023-09-12 14:57:58.125256: E tensorflow/core/grappler/optimizers/meta_optimizer.cc:903] layout failed: INVALID_ARGUMENT: MutableGraphView::SortTopologically error: detected edge(s) creating cycle(s) {'Inception_v4/conv_lstm2d/while/body/_1/Inception_v4/conv_lstm2d/while/mul_2' -> 'Inception_v4/conv_lstm2d/while/body/_1/Inception_v4/conv_lstm2d/while/add_5', 'Inception_v4/conv_lstm2d/while/body/_1/Inception_v4/conv_lstm2d/while/clip_by_value' -> 'Inception_v4/conv_lstm2d/while/body/_1/Inception_v4/conv_lstm2d/while/mul_3', 'Inception_v4/conv_lstm2d/while/body/_1/Inception_v4/conv_lstm2d/while/clip_by_value_2' -> 'Inception_v4/conv_lstm2d/while/body/_1/Inception_v4/conv_lstm2d/while/mul_5', 'Inception_v4/conv_lstm2d/while/body/_1/Inception_v4/conv_lstm2d/while/convolution_6' -> 'Inception_v4/conv_lstm2d/while/body/_1/Inception_v4/conv_lstm2d/while/add_4', 'Func/gradient_tape/Inception_v4/conv_lstm2d/while/Inception_v4/conv_lstm2d/while_grad/body/_189/input/_551' -> 'gradient_tape/Inception_v4/conv_lstm2d/while/Inception_v4/conv_lstm2d/while_grad/body/_189/gradient_tape/Inception_v4/conv_lstm2d/while/gradients/AddN'}.\n"
     ]
    },
    {
     "name": "stdout",
     "output_type": "stream",
     "text": [
      "315/315 - 49s - loss: 0.1084 - accuracy: 0.9885 - 49s/epoch - 154ms/step\n",
      "Epoch 2/2\n",
      "315/315 - 37s - loss: 0.1031 - accuracy: 0.9899 - 37s/epoch - 116ms/step\n"
     ]
    },
    {
     "name": "stderr",
     "output_type": "stream",
     "text": [
      "Progress Bar:  67%|██████▋   | 2/3 [05:11<02:24, 144.35s/it]"
     ]
    },
    {
     "name": "stdout",
     "output_type": "stream",
     "text": [
      "Epoch 1/2\n",
      "159/159 - 35s - loss: 0.0956 - accuracy: 0.9919 - 35s/epoch - 218ms/step\n",
      "Epoch 2/2\n",
      "159/159 - 20s - loss: 0.0907 - accuracy: 0.9909 - 20s/epoch - 123ms/step\n"
     ]
    },
    {
     "name": "stderr",
     "output_type": "stream",
     "text": [
      "Progress Bar: 100%|██████████| 3/3 [06:10<00:00, 123.55s/it]\n"
     ]
    },
    {
     "name": "stdout",
     "output_type": "stream",
     "text": [
      "32/32 [==============================] - 3s 40ms/step - loss: 0.5596 - accuracy: 0.8340\n",
      "comm_round: 41 | global_acc: 83.400% | global_loss: 0.559560239315033\n"
     ]
    },
    {
     "name": "stderr",
     "output_type": "stream",
     "text": [
      "Progress Bar:   0%|          | 0/3 [00:00<?, ?it/s]"
     ]
    },
    {
     "name": "stdout",
     "output_type": "stream",
     "text": [
      "Epoch 1/2\n",
      "814/814 - 115s - loss: 0.1007 - accuracy: 0.9906 - 115s/epoch - 142ms/step\n",
      "Epoch 2/2\n",
      "814/814 - 102s - loss: 0.1044 - accuracy: 0.9891 - 102s/epoch - 125ms/step\n"
     ]
    },
    {
     "name": "stderr",
     "output_type": "stream",
     "text": [
      "Progress Bar:  33%|███▎      | 1/3 [03:46<07:33, 226.50s/it]"
     ]
    },
    {
     "name": "stdout",
     "output_type": "stream",
     "text": [
      "Epoch 1/2\n"
     ]
    },
    {
     "name": "stderr",
     "output_type": "stream",
     "text": [
      "2023-09-12 15:04:37.091307: E tensorflow/core/grappler/optimizers/meta_optimizer.cc:903] layout failed: INVALID_ARGUMENT: MutableGraphView::SortTopologically error: detected edge(s) creating cycle(s) {'Inception_v4/conv_lstm2d/while/body/_1/Inception_v4/conv_lstm2d/while/mul_2' -> 'Inception_v4/conv_lstm2d/while/body/_1/Inception_v4/conv_lstm2d/while/add_5', 'Inception_v4/conv_lstm2d/while/body/_1/Inception_v4/conv_lstm2d/while/convolution_6' -> 'Inception_v4/conv_lstm2d/while/body/_1/Inception_v4/conv_lstm2d/while/add_4', 'Inception_v4/conv_lstm2d/while/body/_1/Inception_v4/conv_lstm2d/while/clip_by_value' -> 'Inception_v4/conv_lstm2d/while/body/_1/Inception_v4/conv_lstm2d/while/mul_3', 'Inception_v4/conv_lstm2d/while/body/_1/Inception_v4/conv_lstm2d/while/clip_by_value_2' -> 'Inception_v4/conv_lstm2d/while/body/_1/Inception_v4/conv_lstm2d/while/mul_5', 'Func/gradient_tape/Inception_v4/conv_lstm2d/while/Inception_v4/conv_lstm2d/while_grad/body/_189/input/_551' -> 'gradient_tape/Inception_v4/conv_lstm2d/while/Inception_v4/conv_lstm2d/while_grad/body/_189/gradient_tape/Inception_v4/conv_lstm2d/while/gradients/AddN'}.\n"
     ]
    },
    {
     "name": "stdout",
     "output_type": "stream",
     "text": [
      "315/315 - 50s - loss: 0.1071 - accuracy: 0.9893 - 50s/epoch - 159ms/step\n",
      "Epoch 2/2\n",
      "315/315 - 36s - loss: 0.1021 - accuracy: 0.9915 - 36s/epoch - 116ms/step\n"
     ]
    },
    {
     "name": "stderr",
     "output_type": "stream",
     "text": [
      "Progress Bar:  67%|██████▋   | 2/3 [05:18<02:27, 147.33s/it]"
     ]
    },
    {
     "name": "stdout",
     "output_type": "stream",
     "text": [
      "Epoch 1/2\n",
      "159/159 - 34s - loss: 0.0947 - accuracy: 0.9933 - 34s/epoch - 216ms/step\n",
      "Epoch 2/2\n",
      "159/159 - 19s - loss: 0.0901 - accuracy: 0.9921 - 19s/epoch - 121ms/step\n"
     ]
    },
    {
     "name": "stderr",
     "output_type": "stream",
     "text": [
      "Progress Bar: 100%|██████████| 3/3 [06:15<00:00, 125.30s/it]\n"
     ]
    },
    {
     "name": "stdout",
     "output_type": "stream",
     "text": [
      "32/32 [==============================] - 3s 41ms/step - loss: 0.6095 - accuracy: 0.8380\n",
      "comm_round: 42 | global_acc: 83.800% | global_loss: 0.6094996929168701\n"
     ]
    },
    {
     "name": "stderr",
     "output_type": "stream",
     "text": [
      "Progress Bar:   0%|          | 0/3 [00:00<?, ?it/s]"
     ]
    },
    {
     "name": "stdout",
     "output_type": "stream",
     "text": [
      "Epoch 1/2\n",
      "814/814 - 113s - loss: 0.1033 - accuracy: 0.9889 - 113s/epoch - 139ms/step\n",
      "Epoch 2/2\n",
      "814/814 - 99s - loss: 0.1015 - accuracy: 0.9894 - 99s/epoch - 122ms/step\n"
     ]
    },
    {
     "name": "stderr",
     "output_type": "stream",
     "text": [
      "Progress Bar:  33%|███▎      | 1/3 [03:41<07:23, 221.62s/it]"
     ]
    },
    {
     "name": "stdout",
     "output_type": "stream",
     "text": [
      "Epoch 1/2\n"
     ]
    },
    {
     "name": "stderr",
     "output_type": "stream",
     "text": [
      "2023-09-12 15:11:08.689322: E tensorflow/core/grappler/optimizers/meta_optimizer.cc:903] layout failed: INVALID_ARGUMENT: MutableGraphView::SortTopologically error: detected edge(s) creating cycle(s) {'Inception_v4/conv_lstm2d/while/body/_1/Inception_v4/conv_lstm2d/while/mul_2' -> 'Inception_v4/conv_lstm2d/while/body/_1/Inception_v4/conv_lstm2d/while/add_5', 'Inception_v4/conv_lstm2d/while/body/_1/Inception_v4/conv_lstm2d/while/convolution_6' -> 'Inception_v4/conv_lstm2d/while/body/_1/Inception_v4/conv_lstm2d/while/add_4', 'Inception_v4/conv_lstm2d/while/body/_1/Inception_v4/conv_lstm2d/while/clip_by_value_2' -> 'Inception_v4/conv_lstm2d/while/body/_1/Inception_v4/conv_lstm2d/while/mul_5', 'Inception_v4/conv_lstm2d/while/body/_1/Inception_v4/conv_lstm2d/while/clip_by_value' -> 'Inception_v4/conv_lstm2d/while/body/_1/Inception_v4/conv_lstm2d/while/mul_3', 'Func/gradient_tape/Inception_v4/conv_lstm2d/while/Inception_v4/conv_lstm2d/while_grad/body/_189/input/_551' -> 'gradient_tape/Inception_v4/conv_lstm2d/while/Inception_v4/conv_lstm2d/while_grad/body/_189/gradient_tape/Inception_v4/conv_lstm2d/while/gradients/AddN'}.\n"
     ]
    },
    {
     "name": "stdout",
     "output_type": "stream",
     "text": [
      "315/315 - 48s - loss: 0.1039 - accuracy: 0.9895 - 48s/epoch - 152ms/step\n",
      "Epoch 2/2\n",
      "315/315 - 36s - loss: 0.1034 - accuracy: 0.9890 - 36s/epoch - 113ms/step\n"
     ]
    },
    {
     "name": "stderr",
     "output_type": "stream",
     "text": [
      "Progress Bar:  67%|██████▋   | 2/3 [05:10<02:23, 143.76s/it]"
     ]
    },
    {
     "name": "stdout",
     "output_type": "stream",
     "text": [
      "Epoch 1/2\n",
      "159/159 - 33s - loss: 0.0936 - accuracy: 0.9919 - 33s/epoch - 207ms/step\n",
      "Epoch 2/2\n",
      "159/159 - 19s - loss: 0.0922 - accuracy: 0.9915 - 19s/epoch - 120ms/step\n"
     ]
    },
    {
     "name": "stderr",
     "output_type": "stream",
     "text": [
      "Progress Bar: 100%|██████████| 3/3 [06:07<00:00, 122.60s/it]\n"
     ]
    },
    {
     "name": "stdout",
     "output_type": "stream",
     "text": [
      "32/32 [==============================] - 3s 42ms/step - loss: 0.5669 - accuracy: 0.8480\n",
      "comm_round: 43 | global_acc: 84.800% | global_loss: 0.5669116377830505\n"
     ]
    },
    {
     "name": "stderr",
     "output_type": "stream",
     "text": [
      "Progress Bar:   0%|          | 0/3 [00:00<?, ?it/s]"
     ]
    },
    {
     "name": "stdout",
     "output_type": "stream",
     "text": [
      "Epoch 1/2\n",
      "814/814 - 114s - loss: 0.1015 - accuracy: 0.9904 - 114s/epoch - 140ms/step\n",
      "Epoch 2/2\n",
      "814/814 - 99s - loss: 0.1045 - accuracy: 0.9883 - 99s/epoch - 122ms/step\n"
     ]
    },
    {
     "name": "stderr",
     "output_type": "stream",
     "text": [
      "Progress Bar:  33%|███▎      | 1/3 [03:43<07:26, 223.36s/it]"
     ]
    },
    {
     "name": "stdout",
     "output_type": "stream",
     "text": [
      "Epoch 1/2\n"
     ]
    },
    {
     "name": "stderr",
     "output_type": "stream",
     "text": [
      "2023-09-12 15:17:40.216748: E tensorflow/core/grappler/optimizers/meta_optimizer.cc:903] layout failed: INVALID_ARGUMENT: MutableGraphView::SortTopologically error: detected edge(s) creating cycle(s) {'Inception_v4/conv_lstm2d/while/body/_1/Inception_v4/conv_lstm2d/while/mul_2' -> 'Inception_v4/conv_lstm2d/while/body/_1/Inception_v4/conv_lstm2d/while/add_5', 'Inception_v4/conv_lstm2d/while/body/_1/Inception_v4/conv_lstm2d/while/convolution_6' -> 'Inception_v4/conv_lstm2d/while/body/_1/Inception_v4/conv_lstm2d/while/add_4', 'Inception_v4/conv_lstm2d/while/body/_1/Inception_v4/conv_lstm2d/while/clip_by_value_2' -> 'Inception_v4/conv_lstm2d/while/body/_1/Inception_v4/conv_lstm2d/while/mul_5', 'Inception_v4/conv_lstm2d/while/body/_1/Inception_v4/conv_lstm2d/while/clip_by_value' -> 'Inception_v4/conv_lstm2d/while/body/_1/Inception_v4/conv_lstm2d/while/mul_3', 'Func/gradient_tape/Inception_v4/conv_lstm2d/while/Inception_v4/conv_lstm2d/while_grad/body/_189/input/_551' -> 'gradient_tape/Inception_v4/conv_lstm2d/while/Inception_v4/conv_lstm2d/while_grad/body/_189/gradient_tape/Inception_v4/conv_lstm2d/while/gradients/AddN'}.\n"
     ]
    },
    {
     "name": "stdout",
     "output_type": "stream",
     "text": [
      "315/315 - 50s - loss: 0.1063 - accuracy: 0.9894 - 50s/epoch - 159ms/step\n",
      "Epoch 2/2\n",
      "315/315 - 36s - loss: 0.0977 - accuracy: 0.9915 - 36s/epoch - 115ms/step\n"
     ]
    },
    {
     "name": "stderr",
     "output_type": "stream",
     "text": [
      "Progress Bar:  67%|██████▋   | 2/3 [05:15<02:25, 145.93s/it]"
     ]
    },
    {
     "name": "stdout",
     "output_type": "stream",
     "text": [
      "Epoch 1/2\n",
      "159/159 - 35s - loss: 0.0938 - accuracy: 0.9915 - 35s/epoch - 220ms/step\n",
      "Epoch 2/2\n",
      "159/159 - 19s - loss: 0.0883 - accuracy: 0.9909 - 19s/epoch - 122ms/step\n"
     ]
    },
    {
     "name": "stderr",
     "output_type": "stream",
     "text": [
      "Progress Bar: 100%|██████████| 3/3 [06:13<00:00, 124.51s/it]\n"
     ]
    },
    {
     "name": "stdout",
     "output_type": "stream",
     "text": [
      "32/32 [==============================] - 3s 43ms/step - loss: 0.7894 - accuracy: 0.8060\n",
      "comm_round: 44 | global_acc: 80.600% | global_loss: 0.7893857955932617\n"
     ]
    },
    {
     "name": "stderr",
     "output_type": "stream",
     "text": [
      "Progress Bar:   0%|          | 0/3 [00:00<?, ?it/s]"
     ]
    },
    {
     "name": "stdout",
     "output_type": "stream",
     "text": [
      "Epoch 1/2\n",
      "814/814 - 114s - loss: 0.1026 - accuracy: 0.9895 - 114s/epoch - 140ms/step\n",
      "Epoch 2/2\n",
      "814/814 - 99s - loss: 0.1007 - accuracy: 0.9903 - 99s/epoch - 122ms/step\n"
     ]
    },
    {
     "name": "stderr",
     "output_type": "stream",
     "text": [
      "Progress Bar:  33%|███▎      | 1/3 [03:42<07:24, 222.04s/it]"
     ]
    },
    {
     "name": "stdout",
     "output_type": "stream",
     "text": [
      "Epoch 1/2\n"
     ]
    },
    {
     "name": "stderr",
     "output_type": "stream",
     "text": [
      "2023-09-12 15:24:14.088024: E tensorflow/core/grappler/optimizers/meta_optimizer.cc:903] layout failed: INVALID_ARGUMENT: MutableGraphView::SortTopologically error: detected edge(s) creating cycle(s) {'Inception_v4/conv_lstm2d/while/body/_1/Inception_v4/conv_lstm2d/while/mul_2' -> 'Inception_v4/conv_lstm2d/while/body/_1/Inception_v4/conv_lstm2d/while/add_5', 'Inception_v4/conv_lstm2d/while/body/_1/Inception_v4/conv_lstm2d/while/clip_by_value' -> 'Inception_v4/conv_lstm2d/while/body/_1/Inception_v4/conv_lstm2d/while/mul_3', 'Inception_v4/conv_lstm2d/while/body/_1/Inception_v4/conv_lstm2d/while/clip_by_value_2' -> 'Inception_v4/conv_lstm2d/while/body/_1/Inception_v4/conv_lstm2d/while/mul_5', 'Inception_v4/conv_lstm2d/while/body/_1/Inception_v4/conv_lstm2d/while/convolution_6' -> 'Inception_v4/conv_lstm2d/while/body/_1/Inception_v4/conv_lstm2d/while/add_4', 'Func/gradient_tape/Inception_v4/conv_lstm2d/while/Inception_v4/conv_lstm2d/while_grad/body/_189/input/_551' -> 'gradient_tape/Inception_v4/conv_lstm2d/while/Inception_v4/conv_lstm2d/while_grad/body/_189/gradient_tape/Inception_v4/conv_lstm2d/while/gradients/AddN'}.\n"
     ]
    },
    {
     "name": "stdout",
     "output_type": "stream",
     "text": [
      "315/315 - 50s - loss: 0.1068 - accuracy: 0.9900 - 50s/epoch - 159ms/step\n",
      "Epoch 2/2\n",
      "315/315 - 36s - loss: 0.0980 - accuracy: 0.9918 - 36s/epoch - 115ms/step\n"
     ]
    },
    {
     "name": "stderr",
     "output_type": "stream",
     "text": [
      "Progress Bar:  67%|██████▋   | 2/3 [05:13<02:25, 145.43s/it]"
     ]
    },
    {
     "name": "stdout",
     "output_type": "stream",
     "text": [
      "Epoch 1/2\n",
      "159/159 - 35s - loss: 0.0921 - accuracy: 0.9903 - 35s/epoch - 217ms/step\n",
      "Epoch 2/2\n",
      "159/159 - 19s - loss: 0.0931 - accuracy: 0.9893 - 19s/epoch - 120ms/step\n"
     ]
    },
    {
     "name": "stderr",
     "output_type": "stream",
     "text": [
      "Progress Bar: 100%|██████████| 3/3 [06:11<00:00, 123.83s/it]\n"
     ]
    },
    {
     "name": "stdout",
     "output_type": "stream",
     "text": [
      "32/32 [==============================] - 3s 42ms/step - loss: 0.6485 - accuracy: 0.8370\n",
      "comm_round: 45 | global_acc: 83.700% | global_loss: 0.648503839969635\n"
     ]
    },
    {
     "name": "stderr",
     "output_type": "stream",
     "text": [
      "Progress Bar:   0%|          | 0/3 [00:00<?, ?it/s]"
     ]
    },
    {
     "name": "stdout",
     "output_type": "stream",
     "text": [
      "Epoch 1/2\n",
      "814/814 - 111s - loss: 0.1000 - accuracy: 0.9906 - 111s/epoch - 137ms/step\n",
      "Epoch 2/2\n",
      "814/814 - 98s - loss: 0.1015 - accuracy: 0.9888 - 98s/epoch - 120ms/step\n"
     ]
    },
    {
     "name": "stderr",
     "output_type": "stream",
     "text": [
      "Progress Bar:  33%|███▎      | 1/3 [03:38<07:17, 218.92s/it]"
     ]
    },
    {
     "name": "stdout",
     "output_type": "stream",
     "text": [
      "Epoch 1/2\n"
     ]
    },
    {
     "name": "stderr",
     "output_type": "stream",
     "text": [
      "2023-09-12 15:30:44.718586: E tensorflow/core/grappler/optimizers/meta_optimizer.cc:903] layout failed: INVALID_ARGUMENT: MutableGraphView::SortTopologically error: detected edge(s) creating cycle(s) {'Inception_v4/conv_lstm2d/while/body/_1/Inception_v4/conv_lstm2d/while/mul_2' -> 'Inception_v4/conv_lstm2d/while/body/_1/Inception_v4/conv_lstm2d/while/add_5', 'Inception_v4/conv_lstm2d/while/body/_1/Inception_v4/conv_lstm2d/while/clip_by_value' -> 'Inception_v4/conv_lstm2d/while/body/_1/Inception_v4/conv_lstm2d/while/mul_3', 'Inception_v4/conv_lstm2d/while/body/_1/Inception_v4/conv_lstm2d/while/clip_by_value_2' -> 'Inception_v4/conv_lstm2d/while/body/_1/Inception_v4/conv_lstm2d/while/mul_5', 'Inception_v4/conv_lstm2d/while/body/_1/Inception_v4/conv_lstm2d/while/convolution_6' -> 'Inception_v4/conv_lstm2d/while/body/_1/Inception_v4/conv_lstm2d/while/add_4', 'Func/gradient_tape/Inception_v4/conv_lstm2d/while/Inception_v4/conv_lstm2d/while_grad/body/_189/input/_551' -> 'gradient_tape/Inception_v4/conv_lstm2d/while/Inception_v4/conv_lstm2d/while_grad/body/_189/gradient_tape/Inception_v4/conv_lstm2d/while/gradients/AddN'}.\n"
     ]
    },
    {
     "name": "stdout",
     "output_type": "stream",
     "text": [
      "315/315 - 50s - loss: 0.1013 - accuracy: 0.9912 - 50s/epoch - 158ms/step\n",
      "Epoch 2/2\n",
      "315/315 - 36s - loss: 0.1022 - accuracy: 0.9905 - 36s/epoch - 116ms/step\n"
     ]
    },
    {
     "name": "stderr",
     "output_type": "stream",
     "text": [
      "Progress Bar:  67%|██████▋   | 2/3 [05:11<02:24, 144.66s/it]"
     ]
    },
    {
     "name": "stdout",
     "output_type": "stream",
     "text": [
      "Epoch 1/2\n",
      "159/159 - 35s - loss: 0.0932 - accuracy: 0.9941 - 35s/epoch - 219ms/step\n",
      "Epoch 2/2\n",
      "159/159 - 19s - loss: 0.0951 - accuracy: 0.9909 - 19s/epoch - 121ms/step\n"
     ]
    },
    {
     "name": "stderr",
     "output_type": "stream",
     "text": [
      "Progress Bar: 100%|██████████| 3/3 [06:09<00:00, 123.22s/it]\n"
     ]
    },
    {
     "name": "stdout",
     "output_type": "stream",
     "text": [
      "32/32 [==============================] - 3s 43ms/step - loss: 0.8225 - accuracy: 0.7940\n",
      "comm_round: 46 | global_acc: 79.400% | global_loss: 0.8225162625312805\n"
     ]
    },
    {
     "name": "stderr",
     "output_type": "stream",
     "text": [
      "Progress Bar:   0%|          | 0/3 [00:00<?, ?it/s]"
     ]
    },
    {
     "name": "stdout",
     "output_type": "stream",
     "text": [
      "Epoch 1/2\n",
      "814/814 - 115s - loss: 0.0993 - accuracy: 0.9907 - 115s/epoch - 141ms/step\n",
      "Epoch 2/2\n",
      "814/814 - 99s - loss: 0.0978 - accuracy: 0.9906 - 99s/epoch - 122ms/step\n"
     ]
    },
    {
     "name": "stderr",
     "output_type": "stream",
     "text": [
      "Progress Bar:  33%|███▎      | 1/3 [03:43<07:26, 223.36s/it]"
     ]
    },
    {
     "name": "stdout",
     "output_type": "stream",
     "text": [
      "Epoch 1/2\n"
     ]
    },
    {
     "name": "stderr",
     "output_type": "stream",
     "text": [
      "2023-09-12 15:37:19.587501: E tensorflow/core/grappler/optimizers/meta_optimizer.cc:903] layout failed: INVALID_ARGUMENT: MutableGraphView::SortTopologically error: detected edge(s) creating cycle(s) {'Inception_v4/conv_lstm2d/while/body/_1/Inception_v4/conv_lstm2d/while/mul_2' -> 'Inception_v4/conv_lstm2d/while/body/_1/Inception_v4/conv_lstm2d/while/add_5', 'Inception_v4/conv_lstm2d/while/body/_1/Inception_v4/conv_lstm2d/while/clip_by_value' -> 'Inception_v4/conv_lstm2d/while/body/_1/Inception_v4/conv_lstm2d/while/mul_3', 'Inception_v4/conv_lstm2d/while/body/_1/Inception_v4/conv_lstm2d/while/clip_by_value_2' -> 'Inception_v4/conv_lstm2d/while/body/_1/Inception_v4/conv_lstm2d/while/mul_5', 'Inception_v4/conv_lstm2d/while/body/_1/Inception_v4/conv_lstm2d/while/convolution_6' -> 'Inception_v4/conv_lstm2d/while/body/_1/Inception_v4/conv_lstm2d/while/add_4', 'Func/gradient_tape/Inception_v4/conv_lstm2d/while/Inception_v4/conv_lstm2d/while_grad/body/_189/input/_551' -> 'gradient_tape/Inception_v4/conv_lstm2d/while/Inception_v4/conv_lstm2d/while_grad/body/_189/gradient_tape/Inception_v4/conv_lstm2d/while/gradients/AddN'}.\n"
     ]
    },
    {
     "name": "stdout",
     "output_type": "stream",
     "text": [
      "315/315 - 50s - loss: 0.1010 - accuracy: 0.9918 - 50s/epoch - 159ms/step\n",
      "Epoch 2/2\n",
      "315/315 - 36s - loss: 0.1092 - accuracy: 0.9887 - 36s/epoch - 115ms/step\n"
     ]
    },
    {
     "name": "stderr",
     "output_type": "stream",
     "text": [
      "Progress Bar:  67%|██████▋   | 2/3 [05:15<02:25, 145.91s/it]"
     ]
    },
    {
     "name": "stdout",
     "output_type": "stream",
     "text": [
      "Epoch 1/2\n",
      "159/159 - 34s - loss: 0.0931 - accuracy: 0.9911 - 34s/epoch - 216ms/step\n",
      "Epoch 2/2\n",
      "159/159 - 19s - loss: 0.0847 - accuracy: 0.9923 - 19s/epoch - 120ms/step\n"
     ]
    },
    {
     "name": "stderr",
     "output_type": "stream",
     "text": [
      "Progress Bar: 100%|██████████| 3/3 [06:12<00:00, 124.18s/it]\n"
     ]
    },
    {
     "name": "stdout",
     "output_type": "stream",
     "text": [
      "32/32 [==============================] - 3s 42ms/step - loss: 0.8100 - accuracy: 0.8030\n",
      "comm_round: 47 | global_acc: 80.300% | global_loss: 0.8100244402885437\n"
     ]
    },
    {
     "name": "stderr",
     "output_type": "stream",
     "text": [
      "Progress Bar:   0%|          | 0/3 [00:00<?, ?it/s]"
     ]
    },
    {
     "name": "stdout",
     "output_type": "stream",
     "text": [
      "Epoch 1/2\n",
      "814/814 - 114s - loss: 0.0998 - accuracy: 0.9904 - 114s/epoch - 141ms/step\n",
      "Epoch 2/2\n",
      "814/814 - 98s - loss: 0.0999 - accuracy: 0.9899 - 98s/epoch - 120ms/step\n"
     ]
    },
    {
     "name": "stderr",
     "output_type": "stream",
     "text": [
      "Progress Bar:  33%|███▎      | 1/3 [03:41<07:22, 221.46s/it]"
     ]
    },
    {
     "name": "stdout",
     "output_type": "stream",
     "text": [
      "Epoch 1/2\n"
     ]
    },
    {
     "name": "stderr",
     "output_type": "stream",
     "text": [
      "2023-09-12 15:43:51.601426: E tensorflow/core/grappler/optimizers/meta_optimizer.cc:903] layout failed: INVALID_ARGUMENT: MutableGraphView::SortTopologically error: detected edge(s) creating cycle(s) {'Inception_v4/conv_lstm2d/while/body/_1/Inception_v4/conv_lstm2d/while/mul_2' -> 'Inception_v4/conv_lstm2d/while/body/_1/Inception_v4/conv_lstm2d/while/add_5', 'Inception_v4/conv_lstm2d/while/body/_1/Inception_v4/conv_lstm2d/while/clip_by_value' -> 'Inception_v4/conv_lstm2d/while/body/_1/Inception_v4/conv_lstm2d/while/mul_3', 'Inception_v4/conv_lstm2d/while/body/_1/Inception_v4/conv_lstm2d/while/clip_by_value_2' -> 'Inception_v4/conv_lstm2d/while/body/_1/Inception_v4/conv_lstm2d/while/mul_5', 'Inception_v4/conv_lstm2d/while/body/_1/Inception_v4/conv_lstm2d/while/convolution_6' -> 'Inception_v4/conv_lstm2d/while/body/_1/Inception_v4/conv_lstm2d/while/add_4', 'Func/gradient_tape/Inception_v4/conv_lstm2d/while/Inception_v4/conv_lstm2d/while_grad/body/_189/input/_551' -> 'gradient_tape/Inception_v4/conv_lstm2d/while/Inception_v4/conv_lstm2d/while_grad/body/_189/gradient_tape/Inception_v4/conv_lstm2d/while/gradients/AddN'}.\n"
     ]
    },
    {
     "name": "stdout",
     "output_type": "stream",
     "text": [
      "315/315 - 51s - loss: 0.1018 - accuracy: 0.9907 - 51s/epoch - 161ms/step\n",
      "Epoch 2/2\n",
      "315/315 - 36s - loss: 0.1007 - accuracy: 0.9913 - 36s/epoch - 115ms/step\n"
     ]
    },
    {
     "name": "stderr",
     "output_type": "stream",
     "text": [
      "Progress Bar:  67%|██████▋   | 2/3 [05:13<02:25, 145.45s/it]"
     ]
    },
    {
     "name": "stdout",
     "output_type": "stream",
     "text": [
      "Epoch 1/2\n",
      "159/159 - 34s - loss: 0.0997 - accuracy: 0.9895 - 34s/epoch - 216ms/step\n",
      "Epoch 2/2\n",
      "814/814 - 114s - loss: 0.0982 - accuracy: 0.9912 - 114s/epoch - 140ms/step\n",
      "Epoch 2/2\n",
      "814/814 - 99s - loss: 0.0997 - accuracy: 0.9897 - 99s/epoch - 121ms/step\n"
     ]
    },
    {
     "name": "stderr",
     "output_type": "stream",
     "text": [
      "Progress Bar:  33%|███▎      | 1/3 [03:42<07:24, 222.05s/it]"
     ]
    },
    {
     "name": "stdout",
     "output_type": "stream",
     "text": [
      "Epoch 1/2\n"
     ]
    },
    {
     "name": "stderr",
     "output_type": "stream",
     "text": [
      "2023-09-12 15:50:24.603200: E tensorflow/core/grappler/optimizers/meta_optimizer.cc:903] layout failed: INVALID_ARGUMENT: MutableGraphView::SortTopologically error: detected edge(s) creating cycle(s) {'Inception_v4/conv_lstm2d/while/body/_1/Inception_v4/conv_lstm2d/while/mul_2' -> 'Inception_v4/conv_lstm2d/while/body/_1/Inception_v4/conv_lstm2d/while/add_5', 'Inception_v4/conv_lstm2d/while/body/_1/Inception_v4/conv_lstm2d/while/clip_by_value' -> 'Inception_v4/conv_lstm2d/while/body/_1/Inception_v4/conv_lstm2d/while/mul_3', 'Inception_v4/conv_lstm2d/while/body/_1/Inception_v4/conv_lstm2d/while/clip_by_value_2' -> 'Inception_v4/conv_lstm2d/while/body/_1/Inception_v4/conv_lstm2d/while/mul_5', 'Inception_v4/conv_lstm2d/while/body/_1/Inception_v4/conv_lstm2d/while/convolution_6' -> 'Inception_v4/conv_lstm2d/while/body/_1/Inception_v4/conv_lstm2d/while/add_4', 'Func/gradient_tape/Inception_v4/conv_lstm2d/while/Inception_v4/conv_lstm2d/while_grad/body/_189/input/_551' -> 'gradient_tape/Inception_v4/conv_lstm2d/while/Inception_v4/conv_lstm2d/while_grad/body/_189/gradient_tape/Inception_v4/conv_lstm2d/while/gradients/AddN'}.\n"
     ]
    },
    {
     "name": "stdout",
     "output_type": "stream",
     "text": [
      "315/315 - 50s - loss: 0.0991 - accuracy: 0.9908 - 50s/epoch - 158ms/step\n",
      "Epoch 2/2\n",
      "315/315 - 36s - loss: 0.1001 - accuracy: 0.9927 - 36s/epoch - 116ms/step\n"
     ]
    },
    {
     "name": "stderr",
     "output_type": "stream",
     "text": [
      "Progress Bar:  67%|██████▋   | 2/3 [05:13<02:25, 145.42s/it]"
     ]
    },
    {
     "name": "stdout",
     "output_type": "stream",
     "text": [
      "Epoch 1/2\n",
      "159/159 - 35s - loss: 0.0956 - accuracy: 0.9895 - 35s/epoch - 220ms/step\n",
      "Epoch 2/2\n",
      "159/159 - 20s - loss: 0.0884 - accuracy: 0.9911 - 20s/epoch - 123ms/step\n"
     ]
    },
    {
     "name": "stderr",
     "output_type": "stream",
     "text": [
      "Progress Bar: 100%|██████████| 3/3 [06:12<00:00, 124.13s/it]\n"
     ]
    },
    {
     "name": "stdout",
     "output_type": "stream",
     "text": [
      "32/32 [==============================] - 3s 40ms/step - loss: 0.6103 - accuracy: 0.8460\n",
      "comm_round: 49 | global_acc: 84.600% | global_loss: 0.6103085875511169\n"
     ]
    }
   ],
   "source": [
    "comms_round = 50  # Number of global epochs\n",
    "acc3 = []\n",
    "\n",
    "for comm_round in range(comms_round):\n",
    "\n",
    "    # Get the global model's weights - will serve as the initial weights for all local models\n",
    "    global_weights = global_model.get_weights()\n",
    "\n",
    "    # Initial list to collect local model weights after scaling\n",
    "    local_weight_list = []\n",
    "\n",
    "#     Randomize client data - using keys\n",
    "    client_names = list(clients_batched.keys())\n",
    "#     random.shuffle(client_names)\n",
    "\n",
    "    for client in tqdm(client_names, desc='Progress Bar'):\n",
    "\n",
    "        model1=SEInception(128,128,3,64)\n",
    "        local_model=model1.SEInception_v4()\n",
    "\n",
    "        local_model.compile(\n",
    "            loss='categorical_crossentropy',\n",
    "            optimizer='adam',\n",
    "            metrics=['accuracy']\n",
    "        )\n",
    "\n",
    "        # Set local model weight to the weight of the global model\n",
    "        local_model.set_weights(global_weights)\n",
    "\n",
    "        # Fit local model with client's data\n",
    "        local_model.fit(\n",
    "            np.array(clients_batched[client][0]),\n",
    "            np.array(clients_batched[client][1]),\n",
    "            epochs=2,\n",
    "            batch_size=32,\n",
    "            verbose=2\n",
    "        )\n",
    "\n",
    "        # Get the scaled model weights and add to the list\n",
    "        weights = local_model.get_weights()\n",
    "        local_weight_list.append(weights)\n",
    "\n",
    "        # Clear the session to free memory after each communication round\n",
    "        K.clear_session()\n",
    "\n",
    "    # Calculate the average weights across all clients for each layer\n",
    "    average_weights = avg_weights(local_weight_list)\n",
    "\n",
    "    # Update the global model with the average weights\n",
    "    global_model.set_weights(average_weights)\n",
    "\n",
    "    # Test the global model and print out metrics after each communications round\n",
    "#     for (X_test, Y_test) in test_batched:\n",
    "    global_acc, global_loss = test_model(test, one_hot_labels, global_model, comm_round)\n",
    "    acc3.append(global_acc)\n"
   ]
  },
  {
   "cell_type": "code",
   "execution_count": 86,
   "id": "10d7004d",
   "metadata": {},
   "outputs": [
    {
     "data": {
      "text/plain": [
       "Text(0, 0.5, 'Test accuracy')"
      ]
     },
     "execution_count": 86,
     "metadata": {},
     "output_type": "execute_result"
    },
    {
     "data": {
      "image/png": "[encoded data removed]",
      "text/plain": [
       "<Figure size 432x288 with 1 Axes>"
      ]
     },
     "metadata": {
      "needs_background": "light"
     },
     "output_type": "display_data"
    }
   ],
   "source": [
    "import matplotlib.pyplot as plt\n",
    "plt.plot(range(1,len(acc3)+1),acc3,color='red',label='FL-SE Inception V4 on unbalanced data')\n",
    "plt.title(\"FL vs communication rounds\")\n",
    "plt.grid(visible=True)\n",
    "plt.legend(loc='right')\n",
    "plt.ylim(0,1)\n",
    "plt.xlabel(\"FL rounds/Data sharing epochs\")\n",
    "plt.ylabel(\"Test accuracy\")"
   ]
  },
  {
   "cell_type": "code",
   "execution_count": 87,
   "id": "03119a9a",
   "metadata": {},
   "outputs": [],
   "source": [
    "acccc=np.array(acc3)"
   ]
  },
  {
   "cell_type": "code",
   "execution_count": 88,
   "id": "9e404475",
   "metadata": {},
   "outputs": [],
   "source": [
    "np.save(\"acc_fl_unbalanced_SE Inception V4_50\",acccc)"
   ]
  },
  {
   "cell_type": "code",
   "execution_count": 89,
   "id": "810719ae",
   "metadata": {},
   "outputs": [],
   "source": [
    "global_model.save(\"fl_unbalanced_SE Inception V4_50.h5\")"
   ]
  },
  {
   "cell_type": "code",
   "execution_count": 90,
   "id": "d0ada46b",
   "metadata": {},
   "outputs": [
    {
     "name": "stdout",
     "output_type": "stream",
     "text": [
      "Package                       Version              Editable project location\r\n",
      "----------------------------- -------------------- -------------------------------------------\r\n",
      "absl-py                       1.3.0\r\n",
      "accelerate                    0.21.0\r\n",
      "aetos                         0.0.2\r\n",
      "aiohttp                       3.8.4\r\n",
      "aiosignal                     1.3.1\r\n",
      "alabaster                     0.7.13\r\n",
      "albumentations                1.3.1\r\n",
      "antlr4-python3-runtime        4.9.3\r\n",
      "appdirs                       1.4.4\r\n",
      "apturl                        0.5.2\r\n",
      "aquests                       0.29.11.4\r\n",
      "argon2-cffi                   20.1.0\r\n",
      "array-record                  0.2.0\r\n",
      "astor                         0.8.1\r\n",
      "astunparse                    1.6.3\r\n",
      "async-generator               1.10\r\n",
      "async-timeout                 4.0.2\r\n",
      "atila                         0.11.0.11\r\n",
      "attrs                         21.2.0\r\n",
      "Automat                       0.8.0\r\n",
      "axial-positional-embedding    0.2.1\r\n",
      "Babel                         2.12.1\r\n",
      "backcall                      0.2.0\r\n",
      "bcrypt                        3.1.7\r\n",
      "beautifulsoup4                4.12.2\r\n",
      "bert-score                    0.3.13\r\n",
      "BigDL                         0.12.2\r\n",
      "bleach                        3.3.0\r\n",
      "blessings                     1.7\r\n",
      "blinker                       1.4\r\n",
      "blis                          0.7.10\r\n",
      "blobfile                      2.0.2\r\n",
      "bokeh                         3.1.1\r\n",
      "boto3                         1.26.147\r\n",
      "botocore                      1.29.147\r\n",
      "braceexpand                   0.1.7\r\n",
      "breezy                        3.0.2\r\n",
      "Brlapi                        0.7.0\r\n",
      "build                         0.10.0\r\n",
      "cachetools                    4.2.2\r\n",
      "catalogue                     2.0.9\r\n",
      "catkin-pkg                    0.5.0\r\n",
      "catkin-pkg-modules            0.5.0\r\n",
      "cbor                          1.0.0\r\n",
      "certifi                       2022.12.7\r\n",
      "cffi                          1.14.5\r\n",
      "cfgv                          3.3.1\r\n",
      "chardet                       4.0.0\r\n",
      "charset-normalizer            3.1.0\r\n",
      "click                         8.1.3\r\n",
      "cloudpickle                   1.6.0\r\n",
      "cmake                         3.26.3\r\n",
      "colorama                      0.4.3\r\n",
      "colorcet                      3.0.1\r\n",
      "coloredlogs                   15.0.1\r\n",
      "colour                        0.1.5\r\n",
      "command-not-found             0.3\r\n",
      "configobj                     5.0.6\r\n",
      "constantly                    15.1.0\r\n",
      "contourpy                     1.0.6\r\n",
      "coverage                      5.3.1\r\n",
      "cryptography                  3.3\r\n",
      "cupshelpers                   1.0\r\n",
      "cycler                        0.10.0\r\n",
      "cymem                         2.0.7\r\n",
      "Cython                        0.29.23\r\n",
      "DALL-E                        0.1\r\n",
      "dalle-pytorch                 1.4.2\r\n",
      "dask                          2023.5.0\r\n",
      "dataclasses                   0.6\r\n",
      "datasets                      2.12.0\r\n",
      "datashader                    0.15.0\r\n",
      "datashape                     0.5.2\r\n",
      "dbus-python                   1.2.16\r\n",
      "debugpy                       1.3.0\r\n",
      "decorator                     4.4.2\r\n",
      "defer                         1.0.6\r\n",
      "defusedxml                    0.7.1\r\n",
      "Deprecated                    1.2.14\r\n",
      "dicom                         0.9.9.post1\r\n",
      "dicom-numpy                   0.6.5\r\n",
      "dicom2jpg                     0.1.10\r\n",
      "dill                          0.3.6\r\n",
      "distlib                       0.3.6\r\n",
      "distro                        1.4.0\r\n",
      "distro-info                   0.23ubuntu1\r\n",
      "dm-tree                       0.1.8\r\n",
      "dnn                           0.7.3.1\r\n",
      "dnspython                     1.16.0\r\n",
      "docopt                        0.6.2\r\n",
      "docutils                      0.16\r\n",
      "dulwich                       0.19.15\r\n",
      "duplicity                     0.8.12.0\r\n",
      "dyNET                         2.1.2\r\n",
      "easyfsl                       1.4.0\r\n",
      "efficientnet                  1.0.0\r\n",
      "efficientnet-pytorch          0.7.1\r\n",
      "einops                        0.3.2\r\n",
      "emoji                         2.6.0\r\n",
      "empy                          3.3.2\r\n",
      "Encoder                       1.1\r\n",
      "entrypoints                   0.3\r\n",
      "et-xmlfile                    1.1.0\r\n",
      "etils                         1.3.0\r\n",
      "evaluate                      0.4.0\r\n",
      "exceptiongroup                1.1.2\r\n",
      "exif                          1.3.0\r\n",
      "f1chexbert                    0.0.1\r\n",
      "faiss-cpu                     1.7.4\r\n",
      "faiss-gpu                     1.7.2\r\n",
      "fasteners                     0.14.1\r\n",
      "fastimport                    0.9.8\r\n",
      "fdet                          0.2.1\r\n",
      "filelock                      3.10.7\r\n",
      "flatbuffers                   1.12\r\n",
      "flwr                          1.4.0\r\n",
      "fonttools                     4.38.0\r\n",
      "frozenlist                    1.3.3\r\n",
      "fsspec                        2023.5.0\r\n",
      "ftfy                          6.1.1\r\n",
      "future                        0.18.2\r\n",
      "gast                          0.4.0\r\n",
      "gdown                         4.6.0\r\n",
      "gensim                        4.3.1\r\n",
      "google-auth                   2.19.1\r\n",
      "google-auth-oauthlib          0.4.6\r\n",
      "google-pasta                  0.2.0\r\n",
      "googleapis-common-protos      1.59.0\r\n",
      "gpg                           1.13.1-unknown\r\n",
      "gpustat                       0.6.0\r\n",
      "graphviz                      0.8.4\r\n",
      "grpcio                        1.54.2\r\n",
      "h2                            4.0.0\r\n",
      "h5py                          3.1.0\r\n",
      "holoviews                     1.16.2\r\n",
      "hpack                         4.0.0\r\n",
      "httplib2                      0.14.0\r\n",
      "huggingface-hub               0.14.1\r\n",
      "humanfriendly                 10.0\r\n",
      "hydra-core                    1.3.2\r\n",
      "hyperframe                    6.0.1\r\n",
      "hyperlink                     19.0.0\r\n",
      "hyperopt                      0.2.5\r\n",
      "identify                      2.5.22\r\n",
      "idna                          2.10\r\n",
      "image-classifiers             1.0.0\r\n",
      "imageio                       2.24.0\r\n",
      "imagesize                     1.4.1\r\n",
      "importlib-metadata            6.7.0\r\n",
      "importlib-resources           5.12.0\r\n",
      "imutils                       0.5.4\r\n",
      "incremental                   16.10.1\r\n",
      "iniconfig                     2.0.0\r\n",
      "intel-openmp                  2021.3.0\r\n",
      "ipykernel                     6.0.0\r\n",
      "ipython                       7.25.0\r\n",
      "ipython-genutils              0.2.0\r\n",
      "ipywidgets                    7.6.3\r\n",
      "iterators                     0.0.2\r\n",
      "jedi                          0.18.0\r\n",
      "Jinja2                        3.0.1\r\n",
      "jmespath                      1.0.1\r\n",
      "joblib                        1.2.0\r\n",
      "json-tricks                   3.16.1\r\n",
      "jsonpickle                    3.0.1\r\n",
      "jsonschema                    3.2.0\r\n",
      "jupyter                       1.0.0\r\n",
      "jupyter-client                6.1.12\r\n",
      "jupyter-console               6.4.0\r\n",
      "jupyter-core                  4.7.1\r\n",
      "jupyterlab-pygments           0.1.2\r\n",
      "jupyterlab-widgets            1.0.0\r\n",
      "kaggle                        1.5.13\r\n",
      "keras                         2.9.0\r\n",
      "Keras-Applications            1.0.8\r\n",
      "keras-cv-attention-models     1.3.15\r\n",
      "keras-nightly                 2.5.0.dev2021032900\r\n",
      "Keras-Preprocessing           1.1.2\r\n",
      "keras-squeezenet              0.4\r\n",
      "keras-unet-collection         0.1.13\r\n",
      "keyring                       18.0.1\r\n",
      "kiwisolver                    1.4.4\r\n",
      "knime                         0.11.6\r\n",
      "langcodes                     3.3.0\r\n",
      "language-selector             0.1\r\n",
      "launchpadlib                  1.10.13\r\n",
      "lazr.restfulclient            0.14.2\r\n",
      "lazr.uri                      1.0.3\r\n",
      "libclang                      15.0.6.1\r\n",
      "lightning-bolts               0.5.0\r\n",
      "lightning-utilities           0.9.0\r\n",
      "linkify-it-py                 2.0.2\r\n",
      "lit                           16.0.5\r\n",
      "llvmlite                      0.40.1\r\n",
      "locket                        1.0.0\r\n",
      "lockfile                      0.12.2\r\n",
      "louis                         3.12.0\r\n",
      "lxml                          4.9.3\r\n",
      "lz4                           3.0.2+dfsg\r\n",
      "macaroonbakery                1.3.1\r\n",
      "Mako                          1.1.0\r\n",
      "Markdown                      3.3.4\r\n",
      "markdown-it-py                2.2.0\r\n",
      "MarkupSafe                    2.0.1\r\n",
      "matplotlib                    3.6.2\r\n",
      "matplotlib-inline             0.1.2\r\n",
      "mauve-text                    0.3.0\r\n",
      "mdit-py-plugins               0.4.0\r\n",
      "mdurl                         0.1.2\r\n",
      "mistune                       0.8.4\r\n",
      "mkl                           2021.3.0\r\n",
      "monai                         1.1.0\r\n",
      "monotonic                     1.5\r\n",
      "mpi4py                        3.0.3\r\n",
      "mpmath                        1.2.1\r\n",
      "multidict                     6.0.4\r\n",
      "multipledispatch              1.0.0\r\n",
      "multiprocess                  0.70.14\r\n",
      "murmurhash                    1.0.9\r\n",
      "mxnet                         1.8.0.post0\r\n",
      "mypy                          1.4.1\r\n",
      "mypy-extensions               1.0.0\r\n",
      "nbclient                      0.5.3\r\n",
      "nbconvert                     6.1.0\r\n",
      "nbformat                      5.1.3\r\n",
      "neon                          0.1.2\r\n",
      "nest-asyncio                  1.5.1\r\n",
      "netifaces                     0.10.4\r\n",
      "networkx                      2.5.1\r\n",
      "nibabel                       5.1.0\r\n",
      "nltk                          3.6.2\r\n",
      "nodeenv                       1.7.0\r\n",
      "nose                          1.3.7\r\n",
      "notebook                      6.4.0\r\n",
      "numba                         0.57.1\r\n",
      "numpy                         1.21.0\r\n",
      "nvidia-cublas-cu11            11.10.3.66\r\n",
      "nvidia-cuda-cupti-cu11        11.7.101\r\n",
      "nvidia-cuda-nvrtc-cu11        11.7.99\r\n",
      "nvidia-cuda-runtime-cu11      11.7.99\r\n",
      "nvidia-cudnn-cu11             8.5.0.96\r\n",
      "nvidia-cufft-cu11             10.9.0.58\r\n",
      "nvidia-curand-cu11            10.2.10.91\r\n",
      "nvidia-cusolver-cu11          11.4.0.1\r\n",
      "nvidia-cusparse-cu11          11.7.4.91\r\n",
      "nvidia-ml-py3                 7.352.0\r\n",
      "nvidia-nccl-cu11              2.14.3\r\n",
      "nvidia-nvtx-cu11              11.7.91\r\n",
      "oauthlib                      3.1.0\r\n",
      "olefile                       0.46\r\n",
      "omegaconf                     2.0.6\r\n",
      "onnx                          1.13.0\r\n",
      "onnx-simplifier               0.4.31\r\n",
      "onnxruntime                   1.13.1\r\n",
      "opencv-python                 4.5.2.54\r\n",
      "opencv-python-headless        4.8.0.74\r\n",
      "openpyxl                      3.1.2\r\n",
      "opt-einsum                    3.3.0\r\n",
      "ordered-set                   4.1.0\r\n",
      "overrides                     3.1.0\r\n",
      "packaging                     23.1\r\n",
      "paddlepaddle                  2.1.1\r\n",
      "pandas                        2.0.2\r\n",
      "pandocfilters                 1.4.3\r\n",
      "panel                         1.1.1\r\n",
      "param                         1.13.0\r\n",
      "paramiko                      2.6.0\r\n",
      "parso                         0.8.2\r\n",
      "partd                         1.4.0\r\n",
      "pathy                         0.10.2\r\n",
      "pexpect                       4.6.0\r\n",
      "pickleshare                   0.7.5\r\n",
      "Pillow                        9.5.0\r\n",
      "pip                           23.2.1\r\n",
      "pip-tools                     6.13.0\r\n",
      "platformdirs                  3.2.0\r\n",
      "pluggy                        1.2.0\r\n",
      "plum-py                       0.7.0\r\n",
      "pre-commit                    3.2.1\r\n",
      "preshed                       3.0.8\r\n",
      "prometheus-client             0.11.0\r\n",
      "promise                       2.3\r\n",
      "prompt-toolkit                3.0.19\r\n",
      "protobuf                      3.19.6\r\n",
      "psutil                        5.9.0\r\n",
      "ptyprocess                    0.7.0\r\n",
      "py-ubjson                     0.14.0\r\n",
      "py4j                          0.10.7\r\n",
      "pyarrow                       12.0.0\r\n",
      "pyasn1                        0.4.8\r\n",
      "pyasn1-modules                0.2.8\r\n",
      "pycairo                       1.16.2\r\n",
      "pycocotools                   2.0.4\r\n",
      "pycparser                     2.20\r\n",
      "pycrypto                      2.6.1\r\n",
      "pycryptodomex                 3.18.0\r\n",
      "pyct                          0.5.0\r\n",
      "pycups                        1.9.73\r\n",
      "pydantic                      1.8.2\r\n",
      "pyDeprecate                   0.3.1\r\n",
      "pydicom                       2.2.0\r\n",
      "pydot                         1.4.2\r\n",
      "pyEDFlib                      0.1.34\r\n",
      "PyGithub                      1.43.7\r\n",
      "Pygments                      2.15.1\r\n",
      "PyGObject                     3.36.0\r\n",
      "PyHamcrest                    1.9.0\r\n",
      "PyJWT                         1.7.1\r\n",
      "pykwalify                     1.8.0\r\n",
      "pylibjpeg                     1.4.0\r\n",
      "pylibjpeg-libjpeg             1.3.4\r\n",
      "pylibjpeg-openjpeg            1.3.2\r\n",
      "pymacaroons                   0.13.0\r\n",
      "PyNaCl                        1.3.0\r\n",
      "pynndescent                   0.5.10\r\n",
      "pyparsing                     2.4.7\r\n",
      "pypng                         0.0.20\r\n",
      "pyproject_hooks               1.0.0\r\n",
      "PyQRCode                      1.2.1\r\n",
      "PyQt5                         5.14.1\r\n",
      "pyradiomics                   3.1.0\r\n",
      "pyRFC3339                     1.1\r\n",
      "pyrsistent                    0.18.0\r\n",
      "PySocks                       1.7.1\r\n",
      "pyspark                       2.4.3\r\n",
      "pytest                        7.4.0\r\n",
      "python-apt                    2.0.0+ubuntu0.20.4.5\r\n",
      "python-dateutil               2.8.2\r\n",
      "python-debian                 0.1.36ubuntu1\r\n",
      "python-dotenv                 1.0.0\r\n",
      "python-gitlab                 2.0.1\r\n",
      "python-gnupg                  0.4.5\r\n",
      "python-slugify                8.0.1\r\n",
      "python-snappy                 0.5.3\r\n",
      "pytorch-lightning             1.4.2\r\n",
      "pytorch-metric-learning       0.9.99\r\n",
      "pytorch-ranger                0.1.1\r\n",
      "PyTrie                        0.2\r\n",
      "pytube                        15.0.0\r\n",
      "pytz                          2023.3\r\n",
      "pyviz-comms                   2.3.2\r\n",
      "PyWavelets                    1.4.1\r\n",
      "pyxdg                         0.26\r\n",
      "PyYAML                        6.0\r\n",
      "pyzmq                         22.1.0\r\n",
      "qtconsole                     5.1.1\r\n",
      "QtPy                          1.9.0\r\n",
      "qudida                        0.0.4\r\n",
      "radgraph                      0.0.5\r\n",
      "radiomics                     0.1\r\n",
      "rapidfuzz                     3.1.0\r\n",
      "regex                         2021.7.1\r\n",
      "reportlab                     3.5.34\r\n",
      "requests                      2.31.0\r\n",
      "requests-oauthlib             1.3.0\r\n",
      "requests-toolbelt             1.0.0\r\n",
      "requests-unixsocket           0.2.0\r\n",
      "responses                     0.18.0\r\n",
      "rich                          13.4.1\r\n",
      "roboflow                      1.0.9\r\n",
      "roman                         2.0.0\r\n",
      "rosdep                        0.21.0\r\n",
      "rosdep-modules                0.21.0\r\n",
      "rosdistro                     0.8.3\r\n",
      "rosdistro-modules             0.8.3\r\n",
      "rosinstall                    0.7.8\r\n",
      "rosinstall-generator          0.1.22\r\n",
      "rospkg                        1.4.0\r\n",
      "rospkg-modules                1.4.0\r\n",
      "rotary-embedding-torch        0.2.5\r\n",
      "rouge-score                   0.1.2\r\n",
      "rs4                           0.2.35.12\r\n",
      "rsa                           4.7.2\r\n",
      "ruamel.yaml                   0.17.31\r\n",
      "ruamel.yaml.clib              0.2.7\r\n",
      "s3transfer                    0.6.1\r\n",
      "safetensors                   0.3.1\r\n",
      "scikit-image                  0.18.2\r\n",
      "scikit-learn                  0.24.2\r\n",
      "scipy                         1.7.0\r\n",
      "screen-resolution-extra       0.0.0\r\n",
      "seaborn                       0.11.1\r\n",
      "SecretStorage                 2.3.1\r\n",
      "segment-anything              1.0\r\n",
      "segmentation-models           1.0.1\r\n",
      "Send2Trash                    1.7.1\r\n",
      "sentencepiece                 0.1.99\r\n",
      "service-identity              18.1.0\r\n",
      "setproctitle                  1.2.2\r\n",
      "setuptools                    45.2.0\r\n",
      "SimpleITK                     2.2.1\r\n",
      "simplejson                    3.16.0\r\n",
      "sip                           4.19.21\r\n",
      "six                           1.15.0\r\n",
      "skitai                        0.38.1.2\r\n",
      "sklearn                       0.0\r\n",
      "smart-open                    6.3.0\r\n",
      "snowballstemmer               2.2.0\r\n",
      "soupsieve                     2.4.1\r\n",
      "spacy                         3.2.3\r\n",
      "spacy-legacy                  3.0.12\r\n",
      "spacy-loggers                 1.0.4\r\n",
      "Sphinx                        4.0.3\r\n",
      "sphinx-rtd-theme              1.2.1\r\n",
      "sphinxcontrib-applehelp       1.0.4\r\n",
      "sphinxcontrib-devhelp         1.0.2\r\n",
      "sphinxcontrib-htmlhelp        2.0.1\r\n",
      "sphinxcontrib-jquery          4.1\r\n",
      "sphinxcontrib-jsmath          1.0.1\r\n",
      "sphinxcontrib-qthelp          1.0.3\r\n",
      "sphinxcontrib-serializinghtml 1.1.5\r\n",
      "sqlphile                      0.7.2\r\n",
      "srsly                         2.4.7\r\n",
      "ssh-import-id                 5.10\r\n",
      "stanza                        1.3.0\r\n",
      "statistics                    1.0.3.5\r\n",
      "stringcase                    1.2.0\r\n",
      "super-gradients               3.1.0\r\n",
      "supervision                   0.6.0\r\n",
      "sympy                         1.11.1\r\n",
      "systemd-python                234\r\n",
      "taming-transformers-rom1504   0.0.6\r\n",
      "tbb                           2021.3.0\r\n",
      "tensorboard                   2.9.1\r\n",
      "tensorboard-data-server       0.6.1\r\n",
      "tensorboard-plugin-wit        1.8.0\r\n",
      "tensorflow                    2.9.1\r\n",
      "tensorflow-addons             0.20.0\r\n",
      "tensorflow-datasets           4.9.0\r\n",
      "tensorflow-estimator          2.9.0\r\n",
      "tensorflow-gpu                2.5.0\r\n",
      "tensorflow-io-gcs-filesystem  0.29.0\r\n",
      "tensorflow-metadata           1.13.0\r\n",
      "termcolor                     1.1.0\r\n",
      "terminado                     0.10.1\r\n",
      "testpath                      0.5.0\r\n",
      "text-unidecode                1.3\r\n",
      "tfserver                      0.4.5.1\r\n",
      "Theano                        1.0.5\r\n",
      "thinc                         8.0.17\r\n",
      "threadpoolctl                 2.1.0\r\n",
      "tifffile                      2022.10.10\r\n",
      "timm                          0.9.2\r\n",
      "tokenizers                    0.11.6\r\n",
      "toml                          0.10.2\r\n",
      "tomli                         2.0.1\r\n",
      "toolz                         0.12.0\r\n",
      "torch                         2.0.1\r\n",
      "torch-optimizer               0.1.0\r\n",
      "torchinfo                     1.8.0\r\n",
      "torchmeta                     1.8.0\r\n",
      "torchmetrics                  0.5.0\r\n",
      "torchvision                   0.15.2\r\n",
      "torchxrayvision               0.0.32\r\n",
      "tornado                       6.1\r\n",
      "tqdm                          4.65.0\r\n",
      "traitlets                     5.0.5\r\n",
      "transformers                  4.31.0\r\n",
      "treelib                       1.6.1\r\n",
      "triton                        2.0.0\r\n",
      "ttictoc                       0.5.6\r\n",
      "typeguard                     2.13.3\r\n",
      "typer                         0.4.2\r\n",
      "typing_extensions             4.4.0\r\n",
      "tzdata                        2023.3\r\n",
      "u-msgpack-python              2.1\r\n",
      "ubuntu-advantage-tools        27.0\r\n",
      "ubuntu-drivers-common         0.0.0\r\n",
      "uc-micro-py                   1.0.2\r\n",
      "ufw                           0.36\r\n",
      "ultralytics                   8.0.113\r\n",
      "umap                          0.1.1\r\n",
      "umap-learn                    0.5.3\r\n",
      "unattended-upgrades           0.1\r\n",
      "urllib3                       1.26.14\r\n",
      "usb-creator                   0.3.7\r\n",
      "utils                         1.0.1\r\n",
      "validators                    0.20.0\r\n",
      "vcstools                      0.1.42\r\n",
      "vilmedic                      1.3.1                /home/sriparna/Akash_IITP/Arkadeep/vilmedic\r\n",
      "virtualenv                    20.21.0\r\n",
      "vit-keras                     0.1.2\r\n",
      "wadllib                       1.3.3\r\n",
      "wasabi                        0.10.1\r\n",
      "wcwidth                       0.2.5\r\n",
      "webdataset                    0.2.48\r\n",
      "webencodings                  0.5.1\r\n",
      "webrtcvad                     2.0.10\r\n",
      "Werkzeug                      2.0.1\r\n",
      "wget                          3.2\r\n",
      "wheel                         0.40.0\r\n",
      "widgetsnbextension            3.5.1\r\n",
      "wordcloud                     1.8.2.2\r\n",
      "wrapt                         1.12.1\r\n",
      "wsaccel                       0.6.2\r\n",
      "wstool                        0.1.18\r\n",
      "xarray                        2023.1.0\r\n",
      "xkit                          0.0.0\r\n",
      "xxhash                        3.2.0\r\n",
      "xyzservices                   2023.5.0\r\n",
      "yarl                          1.9.2\r\n",
      "youtokentome                  1.0.3\r\n",
      "zipp                          3.15.0\r\n",
      "zope.interface                4.7.1\r\n"
     ]
    }
   ],
   "source": [
    "!pip list"
   ]
  },
  {
   "cell_type": "code",
   "execution_count": 3,
   "id": "c4864bdc",
   "metadata": {},
   "outputs": [],
   "source": [
    "import numpy as np\n",
    "import tensorflow as tf\n",
    "from tensorflow.keras.layers import Conv2D, BatchNormalization, Activation, GlobalAveragePooling2D, Dense, Reshape, MaxPooling2D, AveragePooling2D, concatenate, Flatten, Input\n",
    "from tensorflow.keras.models import Model\n",
    "from tensorflow.keras.layers import ConvLSTM2D\n",
    "def Conv_2D_Block(x, model_width, kernel, strides=(1, 1), padding=\"same\"):\n",
    "    # 2D Convolutional Block with BatchNormalization\n",
    "    x = tf.keras.layers.Conv2D(model_width, kernel, strides=strides, padding=padding, kernel_initializer=\"he_normal\")(x)\n",
    "    x = tf.keras.layers.BatchNormalization()(x)\n",
    "    x = tf.keras.layers.Activation('relu')(x)\n",
    "\n",
    "    return x\n",
    "def Inception_Module_A(inputs, filterB1_1, filterB2_1, filterB2_2, filterB3_1, filterB3_2, filterB3_3, filterB4_1, i):\n",
    "    # Inception Block i\n",
    "    branch1x1 = Conv_2D_Block(inputs, filterB1_1, (1, 1))\n",
    "\n",
    "    branch5x5 = Conv_2D_Block(inputs, filterB2_1, (1, 1))\n",
    "    branch5x5 = Conv_2D_Block(branch5x5, filterB2_2, (5, 5))\n",
    "\n",
    "    branch3x3dbl = Conv_2D_Block(inputs, filterB3_1, (1, 1))\n",
    "    branch3x3dbl = Conv_2D_Block(branch3x3dbl, filterB3_2, (3, 3))\n",
    "    branch3x3dbl = Conv_2D_Block(branch3x3dbl, filterB3_3, (3, 3))\n",
    "\n",
    "    branch_pool = tf.keras.layers.AveragePooling2D(pool_size=(3, 3), strides=(1, 1), padding='same')(inputs)\n",
    "    branch_pool = Conv_2D_Block(branch_pool, filterB4_1, (1, 1))\n",
    "\n",
    "    out = tf.keras.layers.concatenate([branch1x1, branch5x5, branch3x3dbl, branch_pool], axis=-1, name='Inception_Block_A'+str(i))\n",
    "\n",
    "    return out\n",
    "\n",
    "def Inception_Module_B(inputs, filterB1_1, filterB2_1, filterB2_2, filterB3_1, filterB3_2, filterB3_3, filterB4_1, i):\n",
    "    # Inception Block i\n",
    "    branch1x1 = Conv_2D_Block(inputs, filterB1_1, (1, 1))\n",
    "\n",
    "    branch7x7 = Conv_2D_Block(inputs, filterB2_1, (1, 1))\n",
    "    branch7x7 = Conv_2D_Block(branch7x7, filterB2_2, (1, 7))\n",
    "    branch7x7 = Conv_2D_Block(branch7x7, filterB2_2, (7, 1))\n",
    "\n",
    "    branch7x7dbl = Conv_2D_Block(inputs, filterB3_1, 1)\n",
    "    branch7x7dbl = Conv_2D_Block(branch7x7dbl, filterB3_2, (1, 7))\n",
    "    branch7x7dbl = Conv_2D_Block(branch7x7dbl, filterB3_2, (7, 1))\n",
    "    branch7x7dbl = Conv_2D_Block(branch7x7dbl, filterB3_3, (1, 7))\n",
    "    branch7x7dbl = Conv_2D_Block(branch7x7dbl, filterB3_3, (7, 1))\n",
    "\n",
    "    branch_pool = tf.keras.layers.AveragePooling2D(pool_size=(3, 3), strides=(1, 1), padding='same')(inputs)\n",
    "    branch_pool = Conv_2D_Block(branch_pool, filterB4_1, (1, 1))\n",
    "\n",
    "    out = tf.keras.layers.concatenate([branch1x1, branch7x7, branch7x7dbl, branch_pool], axis=-1, name='Inception_Block_B'+str(i))\n",
    "\n",
    "    return out\n",
    "def Inception_Module_C(inputs, filterB1_1, filterB2_1, filterB2_2, filterB3_1, filterB3_2, filterB3_3, filterB4_1, i):\n",
    "    # Inception Block i\n",
    "    branch1x1 = Conv_2D_Block(inputs, filterB1_1, (1, 1))\n",
    "\n",
    "    branch3x3 = Conv_2D_Block(inputs, filterB2_1, (1, 1))\n",
    "    branch3x3_2 = Conv_2D_Block(branch3x3, filterB2_2, (1, 3))\n",
    "    branch3x3_3 = Conv_2D_Block(branch3x3, filterB2_2, (3, 1))\n",
    "\n",
    "    branch3x3dbl = Conv_2D_Block(inputs, filterB3_1, (1, 1))\n",
    "    branch3x3dbl = Conv_2D_Block(branch3x3dbl, filterB3_2, (1, 3))\n",
    "    branch3x3dbl = Conv_2D_Block(branch3x3dbl, filterB3_2, (3, 1))\n",
    "    branch3x3dbl_2 = Conv_2D_Block(branch3x3dbl, filterB3_3, (1, 3))\n",
    "    branch3x3dbl_3 = Conv_2D_Block(branch3x3dbl, filterB3_3, (3, 1))\n",
    "\n",
    "    branch_pool = tf.keras.layers.AveragePooling2D(pool_size=(3, 3), strides=(1, 1), padding='same')(inputs)\n",
    "    branch_pool = Conv_2D_Block(branch_pool, filterB4_1, (1, 1))\n",
    "\n",
    "    out = tf.keras.layers.concatenate([branch1x1, branch3x3_2, branch3x3_3, branch3x3dbl_2, branch3x3dbl_3, branch_pool], axis=-1, name='Inception_Block_C'+str(i))\n",
    "\n",
    "    return out\n",
    "\n",
    "def Reduction_Block_A(inputs, filterB1_1, filterB1_2, filterB2_1, filterB2_2, filterB2_3, i):\n",
    "    # Reduction Block A (i)\n",
    "    branch3x3 = Conv_2D_Block(inputs, filterB1_1, (1, 1))\n",
    "    branch3x3 = Conv_2D_Block(branch3x3, filterB1_2, (3, 3), strides=(2, 2))\n",
    "\n",
    "    branch3x3dbl = Conv_2D_Block(inputs, filterB2_1, (1, 1))\n",
    "    branch3x3dbl = Conv_2D_Block(branch3x3dbl, filterB2_2, (3, 3))\n",
    "    branch3x3dbl = Conv_2D_Block(branch3x3dbl, filterB2_3, (3, 3), strides=(2, 2))\n",
    "\n",
    "    branch_pool = tf.keras.layers.MaxPooling2D(pool_size=(3, 3), strides=(2, 2), padding='same')(inputs)\n",
    "    out = tf.keras.layers.concatenate([branch3x3, branch3x3dbl, branch_pool], axis=-1, name='Reduction_Block_'+str(i))\n",
    "\n",
    "    return out\n",
    "\n",
    "def Reduction_Block_B(inputs, filterB1_1, filterB1_2, filterB2_1, filterB2_2, filterB2_3, i):\n",
    "    # Reduction Block B (i)\n",
    "    branch3x3 = Conv_2D_Block(inputs, filterB1_1, (1, 1))\n",
    "    branch3x3 = Conv_2D_Block(branch3x3, filterB1_2, (3, 3), strides=(2, 2))\n",
    "\n",
    "    branch3x3dbl = Conv_2D_Block(inputs, filterB2_1, (1, 1))\n",
    "    branch3x3dbl = Conv_2D_Block(branch3x3dbl, filterB2_2, (1, 7))\n",
    "    branch3x3dbl = Conv_2D_Block(branch3x3dbl, filterB2_2, (7, 1))\n",
    "    branch3x3dbl = Conv_2D_Block(branch3x3dbl, filterB2_3, (3, 3), strides=(2, 2))\n",
    "\n",
    "    branch_pool = tf.keras.layers.MaxPooling2D(pool_size=(3, 3), strides=(2, 2), padding='same')(inputs)\n",
    "    out = tf.keras.layers.concatenate([branch3x3, branch3x3dbl, branch_pool], axis=-1, name='Reduction_Block_'+str(i))\n",
    "\n",
    "    return out\n",
    "def SE_Block(inputs, num_filters, ratio):\n",
    "    squeeze = tf.keras.layers.GlobalAveragePooling2D()(inputs)\n",
    "\n",
    "    excitation = tf.keras.layers.Dense(units=num_filters/ratio)(squeeze)\n",
    "    excitation = tf.keras.layers.Activation('relu')(excitation)\n",
    "    excitation = tf.keras.layers.Dense(units=num_filters)(excitation)\n",
    "    excitation = tf.keras.layers.Activation('sigmoid')(excitation)\n",
    "    excitation = tf.keras.layers.Reshape([1, 1, num_filters])(excitation)\n",
    "\n",
    "    scale = inputs * excitation\n",
    "\n",
    "    return scale\n"
   ]
  },
  {
   "cell_type": "code",
   "execution_count": 4,
   "id": "453895b2",
   "metadata": {},
   "outputs": [],
   "source": [
    "class SEInception:\n",
    "    def __init__(self, length, width, num_channel, num_filters, ratio=4, problem_type='Classification',\n",
    "                 output_nums=5, pooling='avg', dropout_rate=False, auxilliary_outputs=False):\n",
    "        # length: Input Signal Length\n",
    "        # model_depth: Depth of the Model\n",
    "        # model_width: Width of the Model\n",
    "        # kernel_size: Kernel or Filter Size of the Input Convolutional Layer\n",
    "        # num_channel: Number of Channels of the Input Predictor Signals\n",
    "        # problem_type: Regression or Classification\n",
    "        # output_nums: Number of Output Classes in Classification mode and output features in Regression mode\n",
    "        # pooling: Choose either 'max' for MaxPooling or 'avg' for Averagepooling\n",
    "        # dropout_rate: If turned on, some layers will be dropped out randomly based on the selected proportion\n",
    "        # auxilliary_outputs: Two extra Auxullary outputs for the Inception models, acting like Deep Supervision\n",
    "        self.length = length\n",
    "        self.width = width\n",
    "        self.num_channel = num_channel\n",
    "        self.num_filters = num_filters\n",
    "        self.ratio = ratio\n",
    "        self.problem_type = problem_type\n",
    "        self.output_nums = output_nums\n",
    "        self.pooling = pooling\n",
    "        self.dropout_rate = dropout_rate\n",
    "        self.auxilliary_outputs = auxilliary_outputs\n",
    "\n",
    "    def MLP(self, x):\n",
    "        if self.pooling == 'avg':\n",
    "            x = tf.keras.layers.GlobalAveragePooling2D()(x)\n",
    "        elif self.pooling == 'max':\n",
    "            x = tf.keras.layers.GlobalMaxPooling2D()(x)\n",
    "        if self.dropout_rate:\n",
    "            x = tf.keras.layers.Dropout(self.dropout_rate)(x)\n",
    "        # Final Dense Outputting Layer for the outputs\n",
    "        x = tf.keras.layers.Flatten()(x)\n",
    "        outputs = tf.keras.layers.Dense(self.output_nums, activation='linear')(x)\n",
    "        if self.problem_type == 'Classification':\n",
    "            outputs = tf.keras.layers.Dense(self.output_nums, activation='softmax')(x)\n",
    "\n",
    "        return outputs\n",
    "\n",
    "\n",
    "    def SEInception_v4(self):\n",
    "        inputs = tf.keras.Input((self.length, self.width, self.num_channel))  # The input tensor\n",
    "        # Stem\n",
    "        x = Conv_2D_Block(inputs, 32, 3, strides=2, padding='valid')\n",
    "        x = Conv_2D_Block(x, 32, 3, padding='valid')\n",
    "        x = Conv_2D_Block(x, 64, 3)\n",
    "\n",
    "        branch1 = Conv_2D_Block(x, 96, 3, strides=2, padding='valid')\n",
    "        branch2 = tf.keras.layers.MaxPooling2D(pool_size=(3, 3), strides=(2, 2))(x)\n",
    "        x = tf.keras.layers.concatenate([branch1, branch2], axis=-1)\n",
    "\n",
    "        branch1 = Conv_2D_Block(x, 64, 1)\n",
    "        branch1 = Conv_2D_Block(branch1, 96, 3, padding='valid')\n",
    "        branch2 = Conv_2D_Block(x, 64, 1)\n",
    "        branch2 = Conv_2D_Block(branch2, 64, 7)\n",
    "        branch2 = Conv_2D_Block(branch2, 96, 3, padding='valid')\n",
    "        x = tf.keras.layers.concatenate([branch1, branch2], axis=-1)\n",
    "\n",
    "        branch1 = Conv_2D_Block(x, 192, 3, padding='valid')\n",
    "        branch2 = tf.keras.layers.MaxPooling2D(pool_size=(3, 3), strides=(1, 1))(x)\n",
    "        x = tf.keras.layers.concatenate([branch1, branch2], axis=-1)\n",
    "\n",
    "        # 4x Inception-A Blocks - 35 x 256\n",
    "        for i in range(4):\n",
    "            x = Inception_Module_A(x, 96, 64, 96, 64, 96, 96, 96, i)\n",
    "            x = SE_Block(x, int(np.shape(x)[-1]), self.ratio)\n",
    "\n",
    "        aux_output_0 = []\n",
    "        if self.auxilliary_outputs:\n",
    "            # Auxilliary Output 0\n",
    "            aux_pool = tf.keras.layers.AveragePooling2D(pool_size=(5, 5), strides=(3, 3), padding='valid')(x)\n",
    "            aux_conv = Conv_2D_Block(aux_pool, 96, 1)\n",
    "            aux_output_0 = self.MLP(aux_conv)\n",
    "\n",
    "        x = Reduction_Block_A(x, 64, 384, 192, 224, 256, 1)  # Reduction Block 1: 17 x 768\n",
    "\n",
    "        # 7x Inception-B Blocks - 17 x 768\n",
    "        for i in range(7):\n",
    "            x = Inception_Module_B(x, 384, 192, 256, 192, 224, 256, 128, i)\n",
    "            x = SE_Block(x, int(np.shape(x)[-1]), self.ratio)\n",
    "\n",
    "        aux_output_1 = []\n",
    "        if self.auxilliary_outputs:\n",
    "            # Auxilliary Output 1\n",
    "            aux_pool = tf.keras.layers.AveragePooling2D(pool_size=(5, 5), strides=(3, 3), padding='valid')(x)\n",
    "            aux_conv = Conv_2D_Block(aux_pool, 128, 1)\n",
    "            aux_output_1 = self.MLP(aux_conv)\n",
    "\n",
    "        x = Reduction_Block_B(x, 192, 192, 256, 320, 320, 2)  # Reduction Block 2: 8 x 1280\n",
    "\n",
    "        # 3x Inception-C Blocks: 8 x 2048\n",
    "        for i in range(3):\n",
    "            x = Inception_Module_C(x, 256, 384, 512, 384, 512, 512, 256, i)\n",
    "            x = SE_Block(x, int(np.shape(x)[-1]), self.ratio)\n",
    "        x = tf.expand_dims(x,axis = 1)\n",
    "        x = ConvLSTM2D(filters=512, kernel_size=(1,1),padding = \"same\")(x)\n",
    "        x = BatchNormalization(axis=3, momentum=0.0,epsilon=0.0001)(x)\n",
    "        x = Activation('relu')(x)\n",
    "\n",
    "        # Final Dense MLP Layer for the outputs\n",
    "        final_output = self.MLP(x)\n",
    "        # Create model.\n",
    "        model = tf.keras.Model(inputs, final_output, name='Inception_v4')\n",
    "        if self.auxilliary_outputs:\n",
    "            model = tf.keras.layers.Model(inputs, outputs=[final_output, aux_output_0, aux_output_1], name='Inception_v4')\n",
    "\n",
    "        return model"
   ]
  },
  {
   "cell_type": "code",
   "execution_count": 5,
   "id": "d1e325ac",
   "metadata": {},
   "outputs": [
    {
     "name": "stderr",
     "output_type": "stream",
     "text": [
      "2023-09-12 18:21:35.262472: I tensorflow/core/platform/cpu_feature_guard.cc:193] This TensorFlow binary is optimized with oneAPI Deep Neural Network Library (oneDNN) to use the following CPU instructions in performance-critical operations:  AVX2 FMA\n",
      "To enable them in other operations, rebuild TensorFlow with the appropriate compiler flags.\n",
      "2023-09-12 18:21:36.220406: I tensorflow/core/common_runtime/gpu/gpu_device.cc:1532] Created device /job:localhost/replica:0/task:0/device:GPU:0 with 38413 MB memory:  -> device: 0, name: A100-PCIE-40GB, pci bus id: 0000:01:00.0, compute capability: 8.0\n"
     ]
    }
   ],
   "source": [
    "model1=SEInception(128,128,3,64)\n",
    "global_model=model1.SEInception_v4()\n"
   ]
  },
  {
   "cell_type": "code",
   "execution_count": 6,
   "id": "f407b28c",
   "metadata": {},
   "outputs": [],
   "source": [
    "global_model.compile(\n",
    "            loss='categorical_crossentropy',\n",
    "            optimizer='adam',\n",
    "            metrics=['accuracy']\n",
    "        )"
   ]
  },
  {
   "cell_type": "code",
   "execution_count": null,
   "id": "b12c1fa7",
   "metadata": {},
   "outputs": [],
   "source": []
  }
 ],
 "metadata": {
  "kernelspec": {
   "display_name": "Python 3 (ipykernel)",
   "language": "python",
   "name": "python3"
  },
  "language_info": {
   "codemirror_mode": {
    "name": "ipython",
    "version": 3
   },
   "file_extension": ".py",
   "mimetype": "text/x-python",
   "name": "python",
   "nbconvert_exporter": "python",
   "pygments_lexer": "ipython3",
   "version": "3.9.13"
  }
 },
 "nbformat": 4,
 "nbformat_minor": 5
}
